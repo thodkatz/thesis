{
 "cells": [
  {
   "cell_type": "code",
   "execution_count": 2,
   "metadata": {},
   "outputs": [
    {
     "name": "stderr",
     "output_type": "stream",
     "text": [
      " UserWarning:/g/kreshuk/katzalis/conda/miniforge3/envs/thesis/lib/python3.10/site-packages/torch/nn/_reduction.py:42: size_average and reduce args will be deprecated, please use reduction='mean' instead.\n"
     ]
    }
   ],
   "source": [
    "from scPreGAN.model.util import load_anndata\n",
    "from thesis import DATA_PATH, SAVED_RESULTS_PATH\n",
    "from scPreGAN import Model\n",
    "from thesis.evaluation import ModelConfig\n",
    "import scanpy as sc"
   ]
  },
  {
   "cell_type": "code",
   "execution_count": 3,
   "metadata": {},
   "outputs": [],
   "source": [
    "\n",
    "pbmc_data = DATA_PATH / \"pbmc/pbmc.h5ad\"\n",
    "pbmc = sc.read_h5ad(pbmc_data)"
   ]
  },
  {
   "cell_type": "code",
   "execution_count": 13,
   "metadata": {},
   "outputs": [
    {
     "ename": "",
     "evalue": "",
     "output_type": "error",
     "traceback": [
      "\u001b[1;31mThe Kernel crashed while executing code in the current cell or a previous cell. \n",
      "\u001b[1;31mPlease review the code in the cell(s) to identify a possible cause of the failure. \n",
      "\u001b[1;31mClick <a href='https://aka.ms/vscodeJupyterKernelCrash'>here</a> for more info. \n",
      "\u001b[1;31mView Jupyter <a href='command:jupyter.viewOutput'>log</a> for further details."
     ]
    }
   ],
   "source": [
    "condition_key = 'condition'\n",
    "condition = {\n",
    "    'case': 'stimulated',\n",
    "    'control': 'control'\n",
    "}\n",
    "cell_type_key = 'cell_type'\n",
    "out_of_sample_prediction = True\n",
    "target_cell_type= 'Dendritic'\n",
    "\n",
    "\n",
    "adata_split, train_data = load_anndata(adata=pbmc,\n",
    "                condition_key=condition_key,\n",
    "                condition=condition,\n",
    "                cell_type_key=cell_type_key,\n",
    "                target_cell_type=target_cell_type\n",
    "                )\n",
    "control_adata, perturb_adata, case_adata = adata_split\n",
    "control_pd, control_celltype_ohe_pd, perturb_pd, perturb_celltype_ohe_pd = train_data\n",
    "\n",
    "cell_types = control_adata.obs[cell_type_key].unique().tolist()\n",
    "batch = cell_types.index(target_cell_type)"
   ]
  },
  {
   "cell_type": "code",
   "execution_count": 29,
   "metadata": {},
   "outputs": [
    {
     "name": "stdout",
     "output_type": "stream",
     "text": [
      "6998 7\n",
      "Random Seed:  3060\n",
      "Successfully created the model\n"
     ]
    }
   ],
   "source": [
    "# create model\n",
    "n_features = control_pd.shape[1]\n",
    "n_classes = control_adata.obs[cell_type_key].unique().shape[0]\n",
    "print(n_features, n_classes)\n"
   ]
  },
  {
   "cell_type": "code",
   "execution_count": null,
   "metadata": {},
   "outputs": [
    {
     "name": "stdout",
     "output_type": "stream",
     "text": [
      "Random Seed:  3060\n",
      "Successfully created the model\n",
      "[100/20000] adv_loss: 0.0073  recon_loss: 0.0586 encoding_loss: 0.0032 G_loss: 0.0691 D_A_loss: -0.3298  D_B_loss: -0.1128\n",
      "[200/20000] adv_loss: 0.0046  recon_loss: 0.0498 encoding_loss: 0.0008 G_loss: 0.0552 D_A_loss: -0.2988  D_B_loss: 0.0918\n",
      "[300/20000] adv_loss: 0.0047  recon_loss: 0.0518 encoding_loss: 0.0007 G_loss: 0.0573 D_A_loss: 0.0081  D_B_loss: -0.1489\n",
      "[400/20000] adv_loss: 0.0077  recon_loss: 0.0478 encoding_loss: 0.0004 G_loss: 0.0559 D_A_loss: -0.4813  D_B_loss: -0.3440\n",
      "[500/20000] adv_loss: 0.0069  recon_loss: 0.0500 encoding_loss: 0.0005 G_loss: 0.0573 D_A_loss: -0.6913  D_B_loss: -0.4302\n",
      "[600/20000] adv_loss: 0.0084  recon_loss: 0.0465 encoding_loss: 0.0006 G_loss: 0.0555 D_A_loss: -0.4506  D_B_loss: -0.4338\n",
      "[700/20000] adv_loss: 0.0090  recon_loss: 0.0475 encoding_loss: 0.0007 G_loss: 0.0571 D_A_loss: -0.8580  D_B_loss: -0.5385\n",
      "[800/20000] adv_loss: 0.0102  recon_loss: 0.0494 encoding_loss: 0.0006 G_loss: 0.0602 D_A_loss: -1.1048  D_B_loss: -0.6464\n",
      "[900/20000] adv_loss: 0.0079  recon_loss: 0.0459 encoding_loss: 0.0011 G_loss: 0.0548 D_A_loss: -1.1542  D_B_loss: -0.9165\n",
      "[1000/20000] adv_loss: 0.0096  recon_loss: 0.0474 encoding_loss: 0.0009 G_loss: 0.0579 D_A_loss: -1.0958  D_B_loss: -0.9335\n",
      "[1100/20000] adv_loss: 0.0095  recon_loss: 0.0459 encoding_loss: 0.0007 G_loss: 0.0560 D_A_loss: -1.0469  D_B_loss: -0.8013\n",
      "[1200/20000] adv_loss: 0.0117  recon_loss: 0.0477 encoding_loss: 0.0005 G_loss: 0.0600 D_A_loss: -1.1736  D_B_loss: -0.9040\n",
      "[1300/20000] adv_loss: 0.0145  recon_loss: 0.0453 encoding_loss: 0.0008 G_loss: 0.0606 D_A_loss: -1.3107  D_B_loss: -0.8826\n",
      "[1400/20000] adv_loss: 0.0126  recon_loss: 0.0447 encoding_loss: 0.0007 G_loss: 0.0580 D_A_loss: -1.3487  D_B_loss: -0.9266\n",
      "[1500/20000] adv_loss: 0.0115  recon_loss: 0.0476 encoding_loss: 0.0016 G_loss: 0.0607 D_A_loss: -1.2954  D_B_loss: -0.9906\n",
      "[1600/20000] adv_loss: 0.0130  recon_loss: 0.0424 encoding_loss: 0.0007 G_loss: 0.0561 D_A_loss: -1.2879  D_B_loss: -0.9603\n",
      "[1700/20000] adv_loss: 0.0120  recon_loss: 0.0452 encoding_loss: 0.0009 G_loss: 0.0581 D_A_loss: -1.2688  D_B_loss: -0.9437\n",
      "[1800/20000] adv_loss: 0.0116  recon_loss: 0.0478 encoding_loss: 0.0009 G_loss: 0.0603 D_A_loss: -1.1832  D_B_loss: -1.0146\n",
      "[1900/20000] adv_loss: 0.0121  recon_loss: 0.0461 encoding_loss: 0.0021 G_loss: 0.0603 D_A_loss: -1.2697  D_B_loss: -1.0272\n",
      "[2000/20000] adv_loss: 0.0143  recon_loss: 0.0475 encoding_loss: 0.0015 G_loss: 0.0633 D_A_loss: -1.4137  D_B_loss: -1.1040\n",
      "[2100/20000] adv_loss: 0.0123  recon_loss: 0.0467 encoding_loss: 0.0013 G_loss: 0.0604 D_A_loss: -1.1787  D_B_loss: -1.0011\n",
      "[2200/20000] adv_loss: 0.0121  recon_loss: 0.0464 encoding_loss: 0.0010 G_loss: 0.0594 D_A_loss: -1.3738  D_B_loss: -1.0438\n",
      "[2300/20000] adv_loss: 0.0145  recon_loss: 0.0463 encoding_loss: 0.0018 G_loss: 0.0626 D_A_loss: -1.3901  D_B_loss: -1.2042\n",
      "[2400/20000] adv_loss: 0.0144  recon_loss: 0.0487 encoding_loss: 0.0015 G_loss: 0.0646 D_A_loss: -1.2093  D_B_loss: -1.1362\n",
      "[2500/20000] adv_loss: 0.0120  recon_loss: 0.0466 encoding_loss: 0.0014 G_loss: 0.0599 D_A_loss: -1.3708  D_B_loss: -1.1529\n",
      "[2600/20000] adv_loss: 0.0120  recon_loss: 0.0485 encoding_loss: 0.0028 G_loss: 0.0633 D_A_loss: -1.1512  D_B_loss: -1.0943\n",
      "[2700/20000] adv_loss: 0.0123  recon_loss: 0.0497 encoding_loss: 0.0020 G_loss: 0.0640 D_A_loss: -0.8433  D_B_loss: -1.0721\n",
      "[2800/20000] adv_loss: 0.0113  recon_loss: 0.0473 encoding_loss: 0.0015 G_loss: 0.0601 D_A_loss: -1.2067  D_B_loss: -1.1840\n",
      "[2900/20000] adv_loss: 0.0155  recon_loss: 0.0472 encoding_loss: 0.0018 G_loss: 0.0645 D_A_loss: -1.0815  D_B_loss: -1.2083\n",
      "[3000/20000] adv_loss: 0.0113  recon_loss: 0.0466 encoding_loss: 0.0016 G_loss: 0.0595 D_A_loss: -1.1633  D_B_loss: -1.1077\n",
      "[3100/20000] adv_loss: 0.0129  recon_loss: 0.0474 encoding_loss: 0.0012 G_loss: 0.0615 D_A_loss: -0.9152  D_B_loss: -1.1210\n",
      "[3200/20000] adv_loss: 0.0138  recon_loss: 0.0475 encoding_loss: 0.0014 G_loss: 0.0627 D_A_loss: -0.9299  D_B_loss: -1.1075\n",
      "[3300/20000] adv_loss: 0.0142  recon_loss: 0.0494 encoding_loss: 0.0013 G_loss: 0.0649 D_A_loss: -1.0158  D_B_loss: -1.0464\n",
      "[3400/20000] adv_loss: 0.0132  recon_loss: 0.0484 encoding_loss: 0.0018 G_loss: 0.0634 D_A_loss: -0.9971  D_B_loss: -1.1881\n",
      "[3500/20000] adv_loss: 0.0066  recon_loss: 0.0446 encoding_loss: 0.0013 G_loss: 0.0525 D_A_loss: -0.8763  D_B_loss: -0.7239\n",
      "[3600/20000] adv_loss: 0.0086  recon_loss: 0.0481 encoding_loss: 0.0013 G_loss: 0.0580 D_A_loss: -0.9180  D_B_loss: -0.6052\n",
      "[3700/20000] adv_loss: 0.0095  recon_loss: 0.0488 encoding_loss: 0.0011 G_loss: 0.0594 D_A_loss: -1.0445  D_B_loss: -0.7973\n",
      "[3800/20000] adv_loss: 0.0093  recon_loss: 0.0457 encoding_loss: 0.0013 G_loss: 0.0564 D_A_loss: -0.5878  D_B_loss: -0.3785\n",
      "[3900/20000] adv_loss: 0.0082  recon_loss: 0.0468 encoding_loss: 0.0012 G_loss: 0.0562 D_A_loss: -0.8353  D_B_loss: -0.4000\n",
      "[4000/20000] adv_loss: 0.0089  recon_loss: 0.0441 encoding_loss: 0.0014 G_loss: 0.0544 D_A_loss: -0.6603  D_B_loss: -0.6297\n",
      "[4100/20000] adv_loss: 0.0090  recon_loss: 0.0472 encoding_loss: 0.0013 G_loss: 0.0574 D_A_loss: -0.8166  D_B_loss: -0.7419\n",
      "[4200/20000] adv_loss: 0.0100  recon_loss: 0.0447 encoding_loss: 0.0011 G_loss: 0.0558 D_A_loss: -0.8319  D_B_loss: -0.6954\n",
      "[4300/20000] adv_loss: 0.0108  recon_loss: 0.0420 encoding_loss: 0.0013 G_loss: 0.0541 D_A_loss: -0.8731  D_B_loss: -0.6837\n",
      "[4400/20000] adv_loss: 0.0086  recon_loss: 0.0467 encoding_loss: 0.0014 G_loss: 0.0567 D_A_loss: -0.3578  D_B_loss: -0.6235\n",
      "[4500/20000] adv_loss: 0.0101  recon_loss: 0.0465 encoding_loss: 0.0010 G_loss: 0.0576 D_A_loss: -0.6440  D_B_loss: -0.8509\n",
      "[4600/20000] adv_loss: 0.0082  recon_loss: 0.0482 encoding_loss: 0.0012 G_loss: 0.0576 D_A_loss: -0.1971  D_B_loss: -0.9727\n",
      "[4700/20000] adv_loss: 0.0095  recon_loss: 0.0438 encoding_loss: 0.0012 G_loss: 0.0545 D_A_loss: -0.6551  D_B_loss: -0.9430\n",
      "[4800/20000] adv_loss: 0.0077  recon_loss: 0.0444 encoding_loss: 0.0009 G_loss: 0.0529 D_A_loss: -0.5247  D_B_loss: -0.8653\n",
      "[4900/20000] adv_loss: 0.0083  recon_loss: 0.0447 encoding_loss: 0.0011 G_loss: 0.0542 D_A_loss: -0.4438  D_B_loss: -0.8895\n",
      "[5000/20000] adv_loss: 0.0077  recon_loss: 0.0451 encoding_loss: 0.0014 G_loss: 0.0543 D_A_loss: -0.4671  D_B_loss: -1.0914\n",
      "[5100/20000] adv_loss: 0.0075  recon_loss: 0.0477 encoding_loss: 0.0014 G_loss: 0.0567 D_A_loss: -0.2460  D_B_loss: -0.9647\n",
      "[5200/20000] adv_loss: 0.0054  recon_loss: 0.0458 encoding_loss: 0.0008 G_loss: 0.0521 D_A_loss: -0.7979  D_B_loss: -0.5101\n",
      "[5300/20000] adv_loss: 0.0054  recon_loss: 0.0451 encoding_loss: 0.0008 G_loss: 0.0512 D_A_loss: -0.5362  D_B_loss: -0.6062\n",
      "[5400/20000] adv_loss: 0.0045  recon_loss: 0.0459 encoding_loss: 0.0008 G_loss: 0.0511 D_A_loss: -0.4695  D_B_loss: -0.3887\n",
      "[5500/20000] adv_loss: 0.0069  recon_loss: 0.0460 encoding_loss: 0.0008 G_loss: 0.0536 D_A_loss: -0.8795  D_B_loss: -0.3617\n",
      "[5600/20000] adv_loss: 0.0053  recon_loss: 0.0429 encoding_loss: 0.0008 G_loss: 0.0489 D_A_loss: -0.6489  D_B_loss: -0.5976\n",
      "[5700/20000] adv_loss: 0.0053  recon_loss: 0.0443 encoding_loss: 0.0005 G_loss: 0.0501 D_A_loss: -0.5595  D_B_loss: -0.5218\n",
      "[5800/20000] adv_loss: 0.0046  recon_loss: 0.0444 encoding_loss: 0.0005 G_loss: 0.0495 D_A_loss: -0.2233  D_B_loss: -0.5423\n",
      "[5900/20000] adv_loss: 0.0054  recon_loss: 0.0450 encoding_loss: 0.0007 G_loss: 0.0512 D_A_loss: -0.7520  D_B_loss: -0.4534\n",
      "[6000/20000] adv_loss: 0.0052  recon_loss: 0.0433 encoding_loss: 0.0005 G_loss: 0.0490 D_A_loss: -0.6124  D_B_loss: -0.5208\n",
      "[6100/20000] adv_loss: 0.0059  recon_loss: 0.0442 encoding_loss: 0.0008 G_loss: 0.0509 D_A_loss: -0.5981  D_B_loss: -0.5913\n",
      "[6200/20000] adv_loss: 0.0064  recon_loss: 0.0471 encoding_loss: 0.0009 G_loss: 0.0545 D_A_loss: -0.6703  D_B_loss: 0.5146\n",
      "[6300/20000] adv_loss: 0.0043  recon_loss: 0.0445 encoding_loss: 0.0005 G_loss: 0.0492 D_A_loss: -0.5041  D_B_loss: -0.3068\n",
      "[6400/20000] adv_loss: 0.0044  recon_loss: 0.0434 encoding_loss: 0.0006 G_loss: 0.0484 D_A_loss: -0.5912  D_B_loss: -0.4870\n",
      "[6500/20000] adv_loss: 0.0045  recon_loss: 0.0418 encoding_loss: 0.0004 G_loss: 0.0468 D_A_loss: -0.6302  D_B_loss: -0.4015\n",
      "[6600/20000] adv_loss: 0.0053  recon_loss: 0.0444 encoding_loss: 0.0008 G_loss: 0.0505 D_A_loss: -0.7493  D_B_loss: -0.4249\n",
      "[6700/20000] adv_loss: 0.0049  recon_loss: 0.0438 encoding_loss: 0.0006 G_loss: 0.0493 D_A_loss: -0.8288  D_B_loss: -0.4876\n",
      "[6800/20000] adv_loss: 0.0046  recon_loss: 0.0458 encoding_loss: 0.0005 G_loss: 0.0509 D_A_loss: -0.5328  D_B_loss: -0.4211\n",
      "[6900/20000] adv_loss: 0.0045  recon_loss: 0.0442 encoding_loss: 0.0006 G_loss: 0.0493 D_A_loss: -0.3028  D_B_loss: -0.5198\n",
      "[7000/20000] adv_loss: 0.0049  recon_loss: 0.0441 encoding_loss: 0.0005 G_loss: 0.0495 D_A_loss: -0.6092  D_B_loss: -0.4462\n",
      "[7100/20000] adv_loss: 0.0036  recon_loss: 0.0433 encoding_loss: 0.0006 G_loss: 0.0476 D_A_loss: -0.7935  D_B_loss: -0.3616\n",
      "[7200/20000] adv_loss: 0.0039  recon_loss: 0.0435 encoding_loss: 0.0005 G_loss: 0.0479 D_A_loss: -0.7855  D_B_loss: -0.4381\n",
      "[7300/20000] adv_loss: 0.0056  recon_loss: 0.0427 encoding_loss: 0.0006 G_loss: 0.0488 D_A_loss: -0.6794  D_B_loss: -0.4686\n",
      "[7400/20000] adv_loss: 0.0049  recon_loss: 0.0440 encoding_loss: 0.0005 G_loss: 0.0494 D_A_loss: -0.6802  D_B_loss: -0.2411\n",
      "[7500/20000] adv_loss: 0.0037  recon_loss: 0.0423 encoding_loss: 0.0010 G_loss: 0.0470 D_A_loss: -0.4330  D_B_loss: -0.3705\n",
      "[7600/20000] adv_loss: 0.0040  recon_loss: 0.0433 encoding_loss: 0.0004 G_loss: 0.0477 D_A_loss: -0.3703  D_B_loss: -0.3136\n",
      "[7700/20000] adv_loss: 0.0044  recon_loss: 0.0433 encoding_loss: 0.0010 G_loss: 0.0487 D_A_loss: -0.5110  D_B_loss: -0.2207\n",
      "[7800/20000] adv_loss: 0.0048  recon_loss: 0.0449 encoding_loss: 0.0007 G_loss: 0.0504 D_A_loss: -0.4318  D_B_loss: -0.3088\n",
      "[7900/20000] adv_loss: 0.0052  recon_loss: 0.0422 encoding_loss: 0.0006 G_loss: 0.0480 D_A_loss: -0.6453  D_B_loss: -0.2995\n",
      "[8000/20000] adv_loss: 0.0043  recon_loss: 0.0424 encoding_loss: 0.0006 G_loss: 0.0473 D_A_loss: -0.6272  D_B_loss: -0.3887\n",
      "[8100/20000] adv_loss: 0.0045  recon_loss: 0.0418 encoding_loss: 0.0011 G_loss: 0.0473 D_A_loss: -0.4831  D_B_loss: -0.4462\n",
      "[8200/20000] adv_loss: 0.0035  recon_loss: 0.0412 encoding_loss: 0.0007 G_loss: 0.0454 D_A_loss: -0.4396  D_B_loss: -0.5333\n",
      "[8300/20000] adv_loss: 0.0031  recon_loss: 0.0447 encoding_loss: 0.0008 G_loss: 0.0486 D_A_loss: -0.4959  D_B_loss: -0.1906\n",
      "[8400/20000] adv_loss: 0.0042  recon_loss: 0.0444 encoding_loss: 0.0007 G_loss: 0.0493 D_A_loss: -0.4218  D_B_loss: -0.3488\n",
      "[8500/20000] adv_loss: 0.0043  recon_loss: 0.0443 encoding_loss: 0.0007 G_loss: 0.0493 D_A_loss: -0.6269  D_B_loss: -0.5291\n",
      "[8600/20000] adv_loss: 0.0032  recon_loss: 0.0454 encoding_loss: 0.0020 G_loss: 0.0506 D_A_loss: -0.4762  D_B_loss: -0.3762\n",
      "[8700/20000] adv_loss: 0.0031  recon_loss: 0.0424 encoding_loss: 0.0008 G_loss: 0.0463 D_A_loss: -0.4394  D_B_loss: -0.4713\n",
      "[8800/20000] adv_loss: 0.0035  recon_loss: 0.0442 encoding_loss: 0.0007 G_loss: 0.0484 D_A_loss: -0.4872  D_B_loss: -0.5556\n",
      "[8900/20000] adv_loss: 0.0036  recon_loss: 0.0394 encoding_loss: 0.0006 G_loss: 0.0435 D_A_loss: -0.6180  D_B_loss: -0.4197\n",
      "[9000/20000] adv_loss: 0.0039  recon_loss: 0.0432 encoding_loss: 0.0008 G_loss: 0.0479 D_A_loss: -0.5053  D_B_loss: -0.2321\n",
      "[9100/20000] adv_loss: 0.0038  recon_loss: 0.0410 encoding_loss: 0.0006 G_loss: 0.0454 D_A_loss: -0.5145  D_B_loss: -0.3582\n",
      "[9200/20000] adv_loss: 0.0041  recon_loss: 0.0425 encoding_loss: 0.0008 G_loss: 0.0475 D_A_loss: -0.3991  D_B_loss: -0.4352\n"
     ]
    }
   ],
   "source": [
    "# training\n",
    "from scPreGAN.model.scPreGAN import is_model_trained\n",
    "\n",
    "model_config_pbmc = ModelConfig(\n",
    "    model_name=\"scPreGAN\",\n",
    "    dataset_name=\"pbmc\",\n",
    "    experiment_name=\"\",\n",
    "    perturbation=\"ifn-b\",\n",
    "    cell_type_key=\"cell_type\",\n",
    "    root_path=SAVED_RESULTS_PATH\n",
    ")\n",
    "\n",
    "output_path = model_config_pbmc.get_batch_path(batch=batch)\n",
    "tensorboard_path = model_config_pbmc.get_batch_log_path(batch=batch)\n",
    "\n",
    "REFRESH = False\n",
    "load_model = is_model_trained(output_path=output_path) and not REFRESH\n",
    "\n",
    "model = Model(n_features=n_features, n_classes=n_classes, use_cuda=True)\n",
    "model.train(train_data=train_data, output_path=output_path, load_model=load_model, tensorboard_path=tensorboard_path)"
   ]
  },
  {
   "cell_type": "code",
   "execution_count": 10,
   "metadata": {},
   "outputs": [],
   "source": [
    "# predicting\n",
    "control_test_adata = control_adata[control_adata.obs[\"cell_type\"] == target_cell_type]\n",
    "perturb_test_adata = perturb_adata[perturb_adata.obs[\"cell_type\"] == target_cell_type]\n"
   ]
  },
  {
   "cell_type": "code",
   "execution_count": 32,
   "metadata": {},
   "outputs": [
    {
     "name": "stdout",
     "output_type": "stream",
     "text": [
      "Using CUDA for evaluation\n",
      "Predicting data finished\n"
     ]
    },
    {
     "data": {
      "text/plain": [
       "AnnData object with n_obs × n_vars = 670 × 6998\n",
       "    obs: 'condition', 'cell_type'"
      ]
     },
     "execution_count": 32,
     "metadata": {},
     "output_type": "execute_result"
    }
   ],
   "source": [
    "pred_perturbed_adata = model.predict(control_adata=control_test_adata,\n",
    "                   cell_type_key=cell_type_key,\n",
    "                   condition_key=condition_key)\n",
    "pred_perturbed_adata"
   ]
  },
  {
   "cell_type": "code",
   "execution_count": 10,
   "metadata": {},
   "outputs": [
    {
     "data": {
      "text/plain": [
       "condition   cell_type  \n",
       "stimulated  CD4T           3483\n",
       "            CD14+Mono       698\n",
       "            B              1105\n",
       "            CD8T            594\n",
       "            NK              733\n",
       "            FCGR3A+Mono    2790\n",
       "            Dendritic       522\n",
       "dtype: int64"
      ]
     },
     "execution_count": 10,
     "metadata": {},
     "output_type": "execute_result"
    }
   ],
   "source": [
    "perturb_adata.obs.groupby(['condition', 'cell_type']).size()"
   ]
  },
  {
   "cell_type": "code",
   "execution_count": 11,
   "metadata": {},
   "outputs": [
    {
     "data": {
      "text/plain": [
       "condition  cell_type  \n",
       "control    CD4T           2715\n",
       "           CD14+Mono      2184\n",
       "           B               928\n",
       "           CD8T            643\n",
       "           NK              571\n",
       "           FCGR3A+Mono    1232\n",
       "           Dendritic       670\n",
       "dtype: int64"
      ]
     },
     "execution_count": 11,
     "metadata": {},
     "output_type": "execute_result"
    }
   ],
   "source": [
    "control_adata.obs.groupby(['condition', 'cell_type']).size()"
   ]
  },
  {
   "cell_type": "code",
   "execution_count": 12,
   "metadata": {},
   "outputs": [
    {
     "data": {
      "text/plain": [
       "condition   cell_type  \n",
       "stimulated  CD4T           3483\n",
       "            CD14+Mono       698\n",
       "            B              1105\n",
       "            CD8T            594\n",
       "            NK              733\n",
       "            FCGR3A+Mono    2790\n",
       "dtype: int64"
      ]
     },
     "execution_count": 12,
     "metadata": {},
     "output_type": "execute_result"
    }
   ],
   "source": [
    "case_adata.obs.groupby(['condition', 'cell_type']).size()"
   ]
  },
  {
   "cell_type": "code",
   "execution_count": 33,
   "metadata": {},
   "outputs": [
    {
     "name": "stdout",
     "output_type": "stream",
     "text": [
      "saving dotplot to /g/kreshuk/katzalis/repos/thesis/saved_results/scPreGAN/pbmc/batch1/dotplot.pdf\n",
      "Evaluation figs saved to /g/kreshuk/katzalis/repos/thesis/saved_results/scPreGAN/pbmc/batch1/evaluation.pdf\n",
      "Evalution saved /g/kreshuk/katzalis/repos/thesis/saved_results/scPreGAN/pbmc/batch1/ground_truth\n",
      "Evalution saved /g/kreshuk/katzalis/repos/thesis/saved_results/scPreGAN/pbmc/batch1/predicted\n",
      "Writing metrics to /g/kreshuk/katzalis/repos/thesis/saved_results/scPreGAN/pbmc/batch1/metrics.csv\n"
     ]
    },
    {
     "data": {
      "image/png": "[encoded data removed]",
      "text/plain": [
       "<Figure size 640x480 with 1 Axes>"
      ]
     },
     "metadata": {},
     "output_type": "display_data"
    }
   ],
   "source": [
    "from thesis.evaluation import evaluation_out_of_sample\n",
    "\n",
    "\n",
    "evaluation_out_of_sample(\n",
    "    model_config=model_config_pbmc,\n",
    "    input=control_test_adata,\n",
    "    ground_truth=perturb_test_adata,\n",
    "    predicted=pred_perturbed_adata,\n",
    "    output_path=model_config_pbmc.get_batch_path(batch),\n",
    "    save_plots=True,\n",
    "    append_metrics=False\n",
    "    )\n"
   ]
  },
  {
   "cell_type": "markdown",
   "metadata": {},
   "source": [
    "Attempt to use the script from the reproducibility to check differences with the provided scPreGAN. For example, in the reproducibility training script there is `calc_gradient_penalty`, that doesn't exist in the scPreGAN repo."
   ]
  },
  {
   "cell_type": "code",
   "execution_count": 7,
   "metadata": {},
   "outputs": [
    {
     "name": "stdout",
     "output_type": "stream",
     "text": [
      "Random Seed:  3060\n",
      "No validation.\n",
      "feature length:  6998\n",
      "Finished Training\n",
      "Using CUDA for evaluation\n"
     ]
    }
   ],
   "source": [
    "from scPreGAN.reproducibility.scPreGAN_OOD_prediction import train_and_predict\n",
    "\n",
    "\n",
    "model_config_reproducible_pbmc = ModelConfig(\n",
    "    model_name=\"scPreGAN\",\n",
    "    dataset_name=\"pbmc\",\n",
    "    experiment_name=\"reproducible\",\n",
    "    perturbation=\"ifn-b\",\n",
    "    cell_type_key=\"cell_type\",\n",
    "    root_path=SAVED_RESULTS_PATH\n",
    ")\n",
    "\n",
    "output_path_reproducible = model_config_reproducible_pbmc.get_batch_path(batch=batch)\n",
    "\n",
    "opt = {\n",
    "    'cuda': True,\n",
    "    'dataset': pbmc,\n",
    "    'checkpoint_dir': None,\n",
    "    'condition_key': 'condition',\n",
    "    'condition': {\"case\": \"stimulated\", \"control\": \"control\"},\n",
    "    'cell_type_key': 'cell_type',\n",
    "    'prediction_type': 'Dendritic',\n",
    "    'out_sample_prediction': True,\n",
    "    'manual_seed': 3060,\n",
    "    'data_name': 'pbmc',\n",
    "    'model_name': 'pbmc_OOD',\n",
    "    'outf': output_path_reproducible,\n",
    "    'validation': False,\n",
    "    'valid_dataPath': None,\n",
    "    'use_sn': True,\n",
    "    'use_wgan_div': True,\n",
    "    'gan_loss': 'wgan'\n",
    "}\n",
    "\n",
    "\n",
    "config = {\n",
    "    \"batch_size\": 64,\n",
    "    \"lambda_adv\": 0.001,\n",
    "    \"lambda_encoding\": 0.1,\n",
    "    \"lambda_l1_reg\": 0,\n",
    "    \"lambda_recon\": 1,\n",
    "    \"lambta_gp\": 1,\n",
    "    \"lr_disc\": 0.001,\n",
    "    \"lr_e\": 0.0001,\n",
    "    \"lr_g\": 0.001,\n",
    "    \"min_hidden_size\": 256,\n",
    "    \"niter\": 20_000,\n",
    "    \"z_dim\": 16\n",
    "}\n",
    "\n",
    "\n",
    "pred_perturbed_reproducible_adata = train_and_predict(opt=opt, config=config, tensorboard_path=model_config_reproducible_pbmc.get_batch_log_path(batch))\n",
    "\n"
   ]
  },
  {
   "cell_type": "code",
   "execution_count": 11,
   "metadata": {},
   "outputs": [
    {
     "name": "stderr",
     "output_type": "stream",
     "text": [
      "Looks like you are using a tranform that doesn't support FancyArrowPatch, using ax.annotate instead. The arrows might strike through texts. Increasing shrinkA in arrowprops might help.\n"
     ]
    },
    {
     "name": "stdout",
     "output_type": "stream",
     "text": [
      "saving dotplot to /g/kreshuk/katzalis/repos/thesis/saved_results/scPreGAN/pbmc/ifn-b/dosage0/reproducible/batch1/dotplot.pdf\n",
      "Evaluation figs saved to /g/kreshuk/katzalis/repos/thesis/saved_results/scPreGAN/pbmc/ifn-b/dosage0/reproducible/batch1/evaluation.pdf\n",
      "Evalution saved /g/kreshuk/katzalis/repos/thesis/saved_results/scPreGAN/pbmc/ifn-b/dosage0/reproducible/batch1/ground_truth\n",
      "Evalution saved /g/kreshuk/katzalis/repos/thesis/saved_results/scPreGAN/pbmc/ifn-b/dosage0/reproducible/batch1/predicted\n",
      "Writing metrics to /g/kreshuk/katzalis/repos/thesis/saved_results/scPreGAN/pbmc/ifn-b/dosage0/reproducible/batch1/metrics.csv\n"
     ]
    },
    {
     "data": {
      "image/png": "[encoded data removed]",
      "text/plain": [
       "<Figure size 640x480 with 1 Axes>"
      ]
     },
     "metadata": {},
     "output_type": "display_data"
    }
   ],
   "source": [
    "# \n",
    "from thesis.evaluation import evaluation_out_of_sample\n",
    "\n",
    "\n",
    "evaluation_out_of_sample(\n",
    "    model_config=model_config_reproducible_pbmc,\n",
    "    input=control_test_adata,\n",
    "    ground_truth=perturb_test_adata,\n",
    "    predicted=pred_perturbed_reproducible_adata,\n",
    "    output_path=model_config_reproducible_pbmc.get_batch_path(batch),\n",
    "    save_plots=True,\n",
    "    append_metrics=False\n",
    "    )\n"
   ]
  }
 ],
 "metadata": {
  "kernelspec": {
   "display_name": "thesis",
   "language": "python",
   "name": "python3"
  },
  "language_info": {
   "codemirror_mode": {
    "name": "ipython",
    "version": 3
   },
   "file_extension": ".py",
   "mimetype": "text/x-python",
   "name": "python",
   "nbconvert_exporter": "python",
   "pygments_lexer": "ipython3",
   "version": "3.10.15"
  }
 },
 "nbformat": 4,
 "nbformat_minor": 2
}
