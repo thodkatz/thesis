{
 "cells": [
  {
   "cell_type": "markdown",
   "metadata": {},
   "source": [
    "## scButterfly on the sci-plex dataset\n",
    "\n",
    "sci-plex dataset contains multiple perturbations. Our goal would be to try scButterfly for two isolated groups of perturbation types, similar with the PBMC use case. Then we will attempt to create a multi task architecture, by leveraging the information of both of these two perturbations.\n",
    "\n",
    "Our goal would be to have an evaluation pipeline as well, and to test the potential of scButterfly to the sci-plex use case. Potentially comparing it with other models as well."
   ]
  },
  {
   "cell_type": "code",
   "execution_count": null,
   "metadata": {},
   "outputs": [],
   "source": [
    "import pertpy as pt\n",
    "\n",
    "pt.tl.cool_fancy_tool()"
   ]
  },
  {
   "cell_type": "code",
   "execution_count": null,
   "metadata": {},
   "outputs": [],
   "source": [
    "# sci-plex \n"
   ]
  },
  {
   "cell_type": "code",
   "execution_count": null,
   "metadata": {},
   "outputs": [],
   "source": []
  }
 ],
 "metadata": {
  "kernelspec": {
   "display_name": "Python 3",
   "language": "python",
   "name": "python3"
  },
  "language_info": {
   "codemirror_mode": {
    "name": "ipython",
    "version": 3
   },
   "file_extension": ".py",
   "mimetype": "text/x-python",
   "name": "python",
   "nbconvert_exporter": "python",
   "pygments_lexer": "ipython3",
   "version": "3.12.6"
  }
 },
 "nbformat": 4,
 "nbformat_minor": 2
}
