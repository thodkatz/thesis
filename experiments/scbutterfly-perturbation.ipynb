{
 "cells": [
  {
   "cell_type": "markdown",
   "metadata": {},
   "source": [
    "## scButterfly on perturbation datasets\n",
    "\n",
    "Except PBMC dataset with one type of perturbation, we will explore datasets with more than one. Our goal would be to try scButterfly for two isolated groups of perturbation types, similar with the PBMC use case. Then we will attempt to create a multi task architecture, by leveraging the information of both of these two perturbations.\n",
    "\n",
    "Our goal would be to have an evaluation pipeline as well, and to test the potential of scButterfly to different perturbation datasets than the PBMC one. Potentially comparing it with other models as well."
   ]
  },
  {
   "cell_type": "code",
   "execution_count": 3,
   "metadata": {},
   "outputs": [],
   "source": [
    "from pertpy import data\n",
    "import scanpy as sc\n",
    "\n",
    "\n",
    "sc.settings.datasetdir = \"../data\"\n",
    "\n",
    "sciplex_gxe1 = data.sciplex_gxe1()\n",
    "combosciplex = data.combosciplex()\n",
    "srivatsan_2020_sciplex2 = data.srivatsan_2020_sciplex2()\n",
    "srivatsan_2020_sciplex3 = data.srivatsan_2020_sciplex3()\n"
   ]
  },
  {
   "cell_type": "code",
   "execution_count": 4,
   "metadata": {},
   "outputs": [
    {
     "data": {
      "text/plain": [
       "AnnData object with n_obs × n_vars = 18585 × 58347\n",
       "    obs: 'orig.ident', 'nCount_originalexp', 'nFeature_originalexp', 'cell', 'sample', 'Size_Factor', 'n.umi', 'hash_umis_W', 'pval_W', 'qval_W', 'top_to_second_best_ratio_W', 'top_oligo_W', 'RTwell', 'Ligwell', 'PCR_well', 'PCR_plate', 'new_cell', 'CRISPR_hash', 'gRNA_library', 'dose', 'treatment', 'time_point', 'protospacer_sequence', 'gRNA_id', 'gene_id', 'CRISPR_gRNA', 'guide_number'\n",
       "    var: 'id', 'gene_short_name'"
      ]
     },
     "execution_count": 4,
     "metadata": {},
     "output_type": "execute_result"
    }
   ],
   "source": [
    "sciplex_gxe1"
   ]
  },
  {
   "cell_type": "code",
   "execution_count": 5,
   "metadata": {},
   "outputs": [
    {
     "data": {
      "text/plain": [
       "sample  treatment     dose \n",
       "0       dmso          0.0      3115\n",
       "        temozolomide  0.1      1458\n",
       "                      0.5      1454\n",
       "                      1.0      1367\n",
       "                      5.0      1191\n",
       "                      10.0      919\n",
       "                      50.0      695\n",
       "                      100.0     620\n",
       "        thioguanine   0.1      1902\n",
       "                      0.5      1594\n",
       "                      1.0      1372\n",
       "                      5.0       986\n",
       "                      10.0      754\n",
       "                      50.0      606\n",
       "                      100.0     552\n",
       "dtype: int64"
      ]
     },
     "execution_count": 5,
     "metadata": {},
     "output_type": "execute_result"
    }
   ],
   "source": [
    "# sci-plex \n",
    "sciplex_gxe1.obs.groupby(['sample','treatment', 'dose']).size()"
   ]
  },
  {
   "cell_type": "code",
   "execution_count": 6,
   "metadata": {},
   "outputs": [
    {
     "data": {
      "text/plain": [
       "AnnData object with n_obs × n_vars = 63378 × 27518\n",
       "    obs: 'sample', 'Size_Factor', 'n.umi', 'RT_well', 'Drug1', 'Drug2', 'Well', 'n_genes', 'n_genes_by_counts', 'total_counts', 'total_counts_mt', 'pct_counts_mt', 'leiden', 'condition', 'pathway1', 'pathway2', 'split', 'control', 'cell_type'\n",
       "    var: 'id', 'n_cells', 'mt', 'n_cells_by_counts', 'mean_counts', 'pct_dropout_by_counts', 'total_counts', 'highly_variable', 'means', 'dispersions', 'dispersions_norm'\n",
       "    uns: 'Drug1_colors', 'Drug2_colors', 'Well_colors', 'condition_colors', 'dendrogram_leiden', 'hvg', 'leiden', 'leiden_colors', 'neighbors', 'pathway1_colors', 'pathway2_colors', 'pathway_colors', 'pca', 'rank_genes_groups', 'split_colors', 'umap'\n",
       "    obsm: 'X_pca', 'X_umap'\n",
       "    varm: 'PCs'\n",
       "    layers: 'counts'\n",
       "    obsp: 'connectivities', 'distances'"
      ]
     },
     "execution_count": 6,
     "metadata": {},
     "output_type": "execute_result"
    }
   ],
   "source": [
    "combosciplex"
   ]
  },
  {
   "cell_type": "code",
   "execution_count": 7,
   "metadata": {},
   "outputs": [
    {
     "name": "stderr",
     "output_type": "stream",
     "text": [
      "/tmp/ipykernel_1030982/2935270339.py:1: FutureWarning: The default of observed=False is deprecated and will be changed to True in a future version of pandas. Pass observed=False to retain current behavior or observed=True to adopt the future default and silence this warning.\n",
      "  combosciplex.obs.groupby(['cell_type','condition', 'Drug1', 'Drug2']).size()\n"
     ]
    },
    {
     "data": {
      "text/plain": [
       "cell_type  condition                 Drug1         Drug2       \n",
       "A549       Alvespimycin+Pirarubicin  Alvespimycin  Alvespimycin       0\n",
       "                                                   Carmofur           0\n",
       "                                                   Cediranib          0\n",
       "                                                   Crizotinib         0\n",
       "                                                   Curcumin           0\n",
       "                                                                   ... \n",
       "           control+control           control       SRT2104            0\n",
       "                                                   SRT3025            0\n",
       "                                                   Sorafenib          0\n",
       "                                                   Tanespimycin       0\n",
       "                                                   control         1451\n",
       "Length: 4608, dtype: int64"
      ]
     },
     "execution_count": 7,
     "metadata": {},
     "output_type": "execute_result"
    }
   ],
   "source": [
    "combosciplex.obs.groupby(['cell_type','condition', 'Drug1', 'Drug2']).size()"
   ]
  },
  {
   "cell_type": "code",
   "execution_count": 8,
   "metadata": {},
   "outputs": [
    {
     "data": {
      "text/plain": [
       "AnnData object with n_obs × n_vars = 24262 × 58347\n",
       "    obs: 'ncounts', 'hash_umis', 'pval_demultiplexing', 'qval_demultiplexing', 'top_to_second_best_ratio', 'top_oligo', 'perturbation', 'dose_value', 'well', 'celltype', 'cell_line', 'cancer', 'disease', 'tissue_type', 'organism', 'perturbation_type', 'ngenes', 'percent_mito', 'percent_ribo', 'nperts', 'chembl-ID'\n",
       "    var: 'ensembl_id', 'ncounts', 'ncells'"
      ]
     },
     "execution_count": 8,
     "metadata": {},
     "output_type": "execute_result"
    }
   ],
   "source": [
    "srivatsan_2020_sciplex2\n"
   ]
  },
  {
   "cell_type": "code",
   "execution_count": 10,
   "metadata": {},
   "outputs": [
    {
     "name": "stderr",
     "output_type": "stream",
     "text": [
      "/tmp/ipykernel_1030982/3907014773.py:1: FutureWarning: The default of observed=False is deprecated and will be changed to True in a future version of pandas. Pass observed=False to retain current behavior or observed=True to adopt the future default and silence this warning.\n",
      "  srivatsan_2020_sciplex2.obs.groupby(['celltype','perturbation']).size()\n"
     ]
    },
    {
     "data": {
      "text/plain": [
       "celltype                         perturbation\n",
       "alveolar basal epithelial cells  BMS             4183\n",
       "                                 Dex             8064\n",
       "                                 Nutlin          5956\n",
       "                                 SAHA            5530\n",
       "                                 control          529\n",
       "dtype: int64"
      ]
     },
     "execution_count": 10,
     "metadata": {},
     "output_type": "execute_result"
    }
   ],
   "source": [
    "srivatsan_2020_sciplex2.obs.groupby(['celltype','perturbation']).size()"
   ]
  },
  {
   "cell_type": "code",
   "execution_count": 11,
   "metadata": {},
   "outputs": [
    {
     "data": {
      "text/plain": [
       "AnnData object with n_obs × n_vars = 799317 × 110983\n",
       "    obs: 'ncounts', 'well', 'plate', 'cell_line', 'replicate', 'time', 'dose_value', 'pathway_level_1', 'pathway_level_2', 'perturbation', 'target', 'pathway', 'dose_unit', 'celltype', 'disease', 'cancer', 'tissue_type', 'organism', 'perturbation_type'\n",
       "    var: 'ensembl_id'"
      ]
     },
     "execution_count": 11,
     "metadata": {},
     "output_type": "execute_result"
    }
   ],
   "source": [
    "srivatsan_2020_sciplex3"
   ]
  },
  {
   "cell_type": "code",
   "execution_count": 13,
   "metadata": {},
   "outputs": [
    {
     "name": "stderr",
     "output_type": "stream",
     "text": [
      "/tmp/ipykernel_1030982/2308955426.py:1: FutureWarning: The default of observed=False is deprecated and will be changed to True in a future version of pandas. Pass observed=False to retain current behavior or observed=True to adopt the future default and silence this warning.\n",
      "  srivatsan_2020_sciplex3.obs.groupby(['perturbation']).size()\n"
     ]
    },
    {
     "data": {
      "text/plain": [
       "perturbation\n",
       "2-Methoxyestradiol (2-MeOE2)     5009\n",
       "(+)-JQ1                          5731\n",
       "A-366                            3864\n",
       "ABT-737                          3119\n",
       "AC480 (BMS-599626)               3758\n",
       "                                ...  \n",
       "XAV-939                          3723\n",
       "YM155 (Sepantronium Bromide)     1007\n",
       "ZM 447439                        4719\n",
       "Zileuton                         4052\n",
       "control                         17578\n",
       "Length: 189, dtype: int64"
      ]
     },
     "execution_count": 13,
     "metadata": {},
     "output_type": "execute_result"
    }
   ],
   "source": [
    "srivatsan_2020_sciplex3.obs.groupby(['perturbation']).size()"
   ]
  },
  {
   "cell_type": "code",
   "execution_count": 14,
   "metadata": {},
   "outputs": [
    {
     "name": "stderr",
     "output_type": "stream",
     "text": [
      "/tmp/ipykernel_1030982/1321741874.py:1: FutureWarning: The default of observed=False is deprecated and will be changed to True in a future version of pandas. Pass observed=False to retain current behavior or observed=True to adopt the future default and silence this warning.\n",
      "  srivatsan_2020_sciplex3.obs.groupby(['celltype']).size()\n"
     ]
    },
    {
     "data": {
      "text/plain": [
       "celltype\n",
       "None                                36522\n",
       "alveolar basal epithelial cells    244281\n",
       "lymphoblasts                       173652\n",
       "mammary epithelial cells           344862\n",
       "dtype: int64"
      ]
     },
     "execution_count": 14,
     "metadata": {},
     "output_type": "execute_result"
    }
   ],
   "source": [
    "srivatsan_2020_sciplex3.obs.groupby(['celltype']).size()"
   ]
  },
  {
   "cell_type": "code",
   "execution_count": 15,
   "metadata": {},
   "outputs": [
    {
     "name": "stderr",
     "output_type": "stream",
     "text": [
      "/tmp/ipykernel_1030982/3942280489.py:1: FutureWarning: The default of observed=False is deprecated and will be changed to True in a future version of pandas. Pass observed=False to retain current behavior or observed=True to adopt the future default and silence this warning.\n",
      "  srivatsan_2020_sciplex3.obs.groupby(['celltype', 'perturbation']).size()\n"
     ]
    },
    {
     "data": {
      "text/plain": [
       "celltype                  perturbation                \n",
       "None                      2-Methoxyestradiol (2-MeOE2)       0\n",
       "                          (+)-JQ1                            0\n",
       "                          A-366                              0\n",
       "                          ABT-737                            0\n",
       "                          AC480 (BMS-599626)                 0\n",
       "                                                          ... \n",
       "mammary epithelial cells  XAV-939                         1854\n",
       "                          YM155 (Sepantronium Bromide)      82\n",
       "                          ZM 447439                       1588\n",
       "                          Zileuton                        1959\n",
       "                          control                         7786\n",
       "Length: 756, dtype: int64"
      ]
     },
     "execution_count": 15,
     "metadata": {},
     "output_type": "execute_result"
    }
   ],
   "source": [
    "srivatsan_2020_sciplex3.obs.groupby(['celltype', 'perturbation']).size()"
   ]
  },
  {
   "cell_type": "code",
   "execution_count": null,
   "metadata": {},
   "outputs": [],
   "source": [
    "from scButterfly.train_model_perturb import Model\n",
    "import torch\n",
    "import torch.nn as nn"
   ]
  },
  {
   "cell_type": "code",
   "execution_count": null,
   "metadata": {},
   "outputs": [],
   "source": [
    "RNA_input_dim = control_data.X.shape[1]\n",
    "ATAC_input_dim = stimulate_data.X.shape[1]\n",
    "\n",
    "R_kl_div = 1 / RNA_input_dim * 20\n",
    "A_kl_div = 1 / ATAC_input_dim * 20\n",
    "kl_div = R_kl_div + A_kl_div\n",
    "\n",
    "dataset = \"\"\n",
    "\n",
    "file_path = f\"./saved_results/butterfly/perturb/{dataset}\"\n",
    "\n",
    "# split data\n",
    "\n"
   ]
  },
  {
   "cell_type": "code",
   "execution_count": null,
   "metadata": {},
   "outputs": [],
   "source": [
    "model_perturb1 = Model(\n",
    "    R_encoder_nlayer = 2, \n",
    "    A_encoder_nlayer = 2,\n",
    "    R_decoder_nlayer = 2, \n",
    "    A_decoder_nlayer = 2,\n",
    "    R_encoder_dim_list = [RNA_input_dim, 256, 128],\n",
    "    A_encoder_dim_list = [ATAC_input_dim, 128, 128],\n",
    "    R_decoder_dim_list = [128, 256, RNA_input_dim],\n",
    "    A_decoder_dim_list = [128, 128, ATAC_input_dim],\n",
    "    R_encoder_act_list = [nn.LeakyReLU(), nn.LeakyReLU()],\n",
    "    A_encoder_act_list = [nn.LeakyReLU(), nn.LeakyReLU()],\n",
    "    R_decoder_act_list = [nn.LeakyReLU(), nn.LeakyReLU()],\n",
    "    A_decoder_act_list = [nn.LeakyReLU(), nn.LeakyReLU()],\n",
    "    translator_embed_dim = 128, \n",
    "    translator_input_dim_r = 128,\n",
    "    translator_input_dim_a = 128,\n",
    "    translator_embed_act_list = [nn.LeakyReLU(), nn.LeakyReLU(), nn.LeakyReLU()],\n",
    "    discriminator_nlayer = 1,\n",
    "    discriminator_dim_list_R = [128],\n",
    "    discriminator_dim_list_A = [128],\n",
    "    discriminator_act_list = [nn.Sigmoid()],\n",
    "    dropout_rate = 0.1,\n",
    "    R_noise_rate = 0.5,\n",
    "    A_noise_rate = 0.5,\n",
    "    chrom_list = [],\n",
    "    logging_path = file_path,\n",
    "    RNA_data = control_data,\n",
    "    ATAC_data = stimulate_data\n",
    ")"
   ]
  },
  {
   "cell_type": "code",
   "execution_count": null,
   "metadata": {},
   "outputs": [],
   "source": [
    "model_perturb1.train(\n",
    "    R_encoder_lr = 0.001,\n",
    "    A_encoder_lr = 0.001,\n",
    "    R_decoder_lr = 0.001,\n",
    "    A_decoder_lr = 0.001,\n",
    "    R_translator_lr = 0.001,\n",
    "    A_translator_lr = 0.001,\n",
    "    translator_lr = 0.001,\n",
    "    discriminator_lr = 0.005,\n",
    "    R2R_pretrain_epoch = 100,\n",
    "    A2A_pretrain_epoch = 100,\n",
    "    lock_encoder_and_decoder = False,\n",
    "    translator_epoch = 200,\n",
    "    patience = 50,\n",
    "    batch_size = 64,\n",
    "    r_loss = nn.MSELoss(size_average=True),\n",
    "    a_loss = nn.MSELoss(size_average=True),\n",
    "    d_loss = nn.BCELoss(size_average=True),\n",
    "    loss_weight = [1, 1, 1, R_kl_div, A_kl_div, kl_div],\n",
    "    train_id_r = train_id_r,\n",
    "    train_id_a = train_id_a,\n",
    "    validation_id_r = validation_id_r, \n",
    "    validation_id_a = validation_id_a, \n",
    "    output_path = file_path,\n",
    "    seed = 19193,\n",
    "    kl_mean = True,\n",
    "    R_pretrain_kl_warmup = 50,\n",
    "    A_pretrain_kl_warmup = 50,\n",
    "    translation_kl_warmup = 50,\n",
    "    load_model = None,\n",
    "    logging_path = file_path\n",
    ")"
   ]
  },
  {
   "cell_type": "code",
   "execution_count": null,
   "metadata": {},
   "outputs": [],
   "source": [
    "model_perturb1.test(\n",
    "    test_id_r = test_id_r,\n",
    "    test_id_a = test_id_a, \n",
    "    model_path = None,\n",
    "    load_model = False,\n",
    "    output_path = None,\n",
    "    test_pca = True,\n",
    "    test_DEGs = True,\n",
    "    test_R2 = True,\n",
    "    test_dotplot = True,\n",
    "    output_data = False,\n",
    "    return_predict = False\n",
    ")"
   ]
  },
  {
   "cell_type": "code",
   "execution_count": null,
   "metadata": {},
   "outputs": [],
   "source": [
    "RNA_input_dim = control_data.X.shape[1]\n",
    "ATAC_input_dim = stimulate_data.X.shape[1]\n",
    "\n",
    "R_kl_div = 1 / RNA_input_dim * 20\n",
    "A_kl_div = 1 / ATAC_input_dim * 20\n",
    "kl_div = R_kl_div + A_kl_div\n",
    "\n",
    "dataset = \"\"\n",
    "\n",
    "file_path = f\"./saved_results/butterfly/perturb/{dataset}\""
   ]
  },
  {
   "cell_type": "code",
   "execution_count": null,
   "metadata": {},
   "outputs": [],
   "source": [
    "model_perturb2 = Model(\n",
    "    R_encoder_nlayer = 2, \n",
    "    A_encoder_nlayer = 2,\n",
    "    R_decoder_nlayer = 2, \n",
    "    A_decoder_nlayer = 2,\n",
    "    R_encoder_dim_list = [RNA_input_dim, 256, 128],\n",
    "    A_encoder_dim_list = [ATAC_input_dim, 128, 128],\n",
    "    R_decoder_dim_list = [128, 256, RNA_input_dim],\n",
    "    A_decoder_dim_list = [128, 128, ATAC_input_dim],\n",
    "    R_encoder_act_list = [nn.LeakyReLU(), nn.LeakyReLU()],\n",
    "    A_encoder_act_list = [nn.LeakyReLU(), nn.LeakyReLU()],\n",
    "    R_decoder_act_list = [nn.LeakyReLU(), nn.LeakyReLU()],\n",
    "    A_decoder_act_list = [nn.LeakyReLU(), nn.LeakyReLU()],\n",
    "    translator_embed_dim = 128, \n",
    "    translator_input_dim_r = 128,\n",
    "    translator_input_dim_a = 128,\n",
    "    translator_embed_act_list = [nn.LeakyReLU(), nn.LeakyReLU(), nn.LeakyReLU()],\n",
    "    discriminator_nlayer = 1,\n",
    "    discriminator_dim_list_R = [128],\n",
    "    discriminator_dim_list_A = [128],\n",
    "    discriminator_act_list = [nn.Sigmoid()],\n",
    "    dropout_rate = 0.1,\n",
    "    R_noise_rate = 0.5,\n",
    "    A_noise_rate = 0.5,\n",
    "    chrom_list = [],\n",
    "    logging_path = file_path,\n",
    "    RNA_data = Control_data,\n",
    "    ATAC_data = Stimulate_data\n",
    ")"
   ]
  },
  {
   "cell_type": "code",
   "execution_count": null,
   "metadata": {},
   "outputs": [],
   "source": [
    "model_perturb2.train(\n",
    "    R_encoder_lr = 0.001,\n",
    "    A_encoder_lr = 0.001,\n",
    "    R_decoder_lr = 0.001,\n",
    "    A_decoder_lr = 0.001,\n",
    "    R_translator_lr = 0.001,\n",
    "    A_translator_lr = 0.001,\n",
    "    translator_lr = 0.001,\n",
    "    discriminator_lr = 0.005,\n",
    "    R2R_pretrain_epoch = 100,\n",
    "    A2A_pretrain_epoch = 100,\n",
    "    lock_encoder_and_decoder = False,\n",
    "    translator_epoch = 200,\n",
    "    patience = 50,\n",
    "    batch_size = 64,\n",
    "    r_loss = nn.MSELoss(size_average=True),\n",
    "    a_loss = nn.MSELoss(size_average=True),\n",
    "    d_loss = nn.BCELoss(size_average=True),\n",
    "    loss_weight = [1, 1, 1, R_kl_div, A_kl_div, kl_div],\n",
    "    train_id_r = train_id_r,\n",
    "    train_id_a = train_id_a,\n",
    "    validation_id_r = validation_id_r, \n",
    "    validation_id_a = validation_id_a, \n",
    "    output_path = file_path,\n",
    "    seed = 19193,\n",
    "    kl_mean = True,\n",
    "    R_pretrain_kl_warmup = 50,\n",
    "    A_pretrain_kl_warmup = 50,\n",
    "    translation_kl_warmup = 50,\n",
    "    load_model = None,\n",
    "    logging_path = file_path\n",
    ")"
   ]
  },
  {
   "cell_type": "code",
   "execution_count": null,
   "metadata": {},
   "outputs": [],
   "source": [
    "model_perturb2.test(\n",
    "    test_id_r = test_id_r,\n",
    "    test_id_a = test_id_a, \n",
    "    model_path = None,\n",
    "    load_model = False,\n",
    "    output_path = None,\n",
    "    test_pca = True,\n",
    "    test_DEGs = True,\n",
    "    test_R2 = True,\n",
    "    test_dotplot = True,\n",
    "    output_data = False,\n",
    "    return_predict = False\n",
    ")"
   ]
  }
 ],
 "metadata": {
  "kernelspec": {
   "display_name": "thesis",
   "language": "python",
   "name": "python3"
  },
  "language_info": {
   "codemirror_mode": {
    "name": "ipython",
    "version": 3
   },
   "file_extension": ".py",
   "mimetype": "text/x-python",
   "name": "python",
   "nbconvert_exporter": "python",
   "pygments_lexer": "ipython3",
   "version": "3.10.15"
  }
 },
 "nbformat": 4,
 "nbformat_minor": 2
}
