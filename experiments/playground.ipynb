{
 "cells": [
  {
   "cell_type": "code",
   "execution_count": 1,
   "metadata": {},
   "outputs": [
    {
     "data": {
      "text/plain": [
       "AnnData object with n_obs × n_vars = 18868 × 6998\n",
       "    obs: 'condition', 'n_counts', 'n_genes', 'mt_frac', 'cell_type', 'batch'\n",
       "    var: 'gene_symbol', 'n_cells'\n",
       "    obsm: 'X_pca', 'X_tsne', 'X_umap'"
      ]
     },
     "execution_count": 1,
     "metadata": {},
     "output_type": "execute_result"
    }
   ],
   "source": [
    "from thesis.datasets import get_pbmc\n",
    "adata = get_pbmc()\n",
    "adata\n"
   ]
  },
  {
   "cell_type": "code",
   "execution_count": 2,
   "metadata": {},
   "outputs": [
    {
     "name": "stderr",
     "output_type": "stream",
     "text": [
      " UserWarning:/g/kreshuk/katzalis/conda/miniforge3/envs/thesis/lib/python3.10/site-packages/torch/nn/_reduction.py:42: size_average and reduce args will be deprecated, please use reduction='mean' instead.\n"
     ]
    },
    {
     "name": "stdout",
     "output_type": "stream",
     "text": [
      "name playground_pbmc Batch 0\n"
     ]
    },
    {
     "name": "stderr",
     "output_type": "stream",
     "text": [
      "[INFO] Trainer: load pretrained model from path: /home/katzalis/thesis/ssh/thesis/saved_results/butterfly/perturb/playground_pbmc/batch0/model/\n",
      "[INFO] Tester: get predicting ...\n"
     ]
    },
    {
     "name": "stdout",
     "output_type": "stream",
     "text": [
      "Batch already trained 0\n",
      "Loading model\n"
     ]
    },
    {
     "name": "stderr",
     "output_type": "stream",
     "text": [
      "Control to stimulated predicting...: 100%|██████████████████████████| 28/28 [00:01<00:00, 15.56it/s]\n",
      "stimulated to control predicting...: 100%|██████████████████████████| 35/35 [00:01<00:00, 19.02it/s]\n",
      "[INFO] Tester: calculate neighbors graph for following test ...\n"
     ]
    },
    {
     "name": "stdout",
     "output_type": "stream",
     "text": [
      "WARNING: saving figure to file /home/katzalis/thesis/ssh/thesis/saved_results/butterfly/perturb/playground_pbmc/batch0/test/rank_genes_groups_condition.pdf\n"
     ]
    },
    {
     "name": "stderr",
     "output_type": "stream",
     "text": [
      "Looks like you are using a tranform that doesn't support FancyArrowPatch, using ax.annotate instead. The arrows might strike through texts. Increasing shrinkA in arrowprops might help.\n"
     ]
    },
    {
     "name": "stdout",
     "output_type": "stream",
     "text": [
      "WARNING: saving figure to file /home/katzalis/thesis/ssh/thesis/saved_results/butterfly/perturb/playground_pbmc/batch0/test/dotplot_.pdf\n"
     ]
    },
    {
     "name": "stderr",
     "output_type": "stream",
     "text": [
      "[INFO] Tester: get predicting ...\n",
      "[INFO] Tester: get predicting ...\n"
     ]
    },
    {
     "name": "stdout",
     "output_type": "stream",
     "text": [
      "Evalution saved /home/katzalis/thesis/ssh/thesis/saved_results/butterfly/perturb/playground_pbmc/batch0/ground_truth\n",
      "Evalution saved /home/katzalis/thesis/ssh/thesis/saved_results/butterfly/perturb/playground_pbmc/batch0/predicted\n",
      "Evalution saved /home/katzalis/thesis/ssh/thesis/saved_results/butterfly/perturb/playground_pbmc/batch0/diff\n"
     ]
    },
    {
     "name": "stderr",
     "output_type": "stream",
     "text": [
      "Control to stimulated predicting...: 100%|██████████████████████████| 13/13 [00:01<00:00,  8.75it/s]\n",
      "stimulated to control predicting...: 100%|██████████████████████████| 13/13 [00:01<00:00,  8.47it/s]\n",
      "[INFO] Tester: calculate neighbors graph for following test ...\n",
      "[INFO] Tester: calculate neighbors graph for following test ...\n"
     ]
    },
    {
     "name": "stdout",
     "output_type": "stream",
     "text": [
      "WARNING: saving figure to file /home/katzalis/thesis/ssh/thesis/saved_results/butterfly/perturb/playground_pbmc/batch0/test_validation/rank_genes_groups_condition.pdf\n",
      "WARNING: saving figure to file /home/katzalis/thesis/ssh/thesis/saved_results/butterfly/perturb/playground_pbmc/batch0/test_validation/dotplot_.pdf\n"
     ]
    },
    {
     "name": "stderr",
     "output_type": "stream",
     "text": [
      "[INFO] Tester: get predicting ...\n",
      "[INFO] Tester: get predicting ...\n",
      "[INFO] Tester: get predicting ...\n",
      "Control to stimulated predicting...: 100%|██████████████████████████| 50/50 [00:02<00:00, 23.32it/s]\n",
      "stimulated to control predicting...: 100%|██████████████████████████| 50/50 [00:02<00:00, 24.35it/s]\n",
      "[INFO] Tester: calculate neighbors graph for following test ...\n",
      "[INFO] Tester: calculate neighbors graph for following test ...\n",
      "[INFO] Tester: calculate neighbors graph for following test ...\n"
     ]
    },
    {
     "name": "stdout",
     "output_type": "stream",
     "text": [
      "WARNING: saving figure to file /home/katzalis/thesis/ssh/thesis/saved_results/butterfly/perturb/playground_pbmc/batch0/test_train/rank_genes_groups_condition.pdf\n",
      "WARNING: saving figure to file /home/katzalis/thesis/ssh/thesis/saved_results/butterfly/perturb/playground_pbmc/batch0/test_train/dotplot_.pdf\n",
      "Writing metrics to /home/katzalis/thesis/ssh/thesis/saved_results/butterfly/perturb/playground_pbmc/batch0/metrics.csv\n",
      "Writing metrics to /home/katzalis/thesis/ssh/thesis/saved_results/metrics.csv\n",
      "name playground_pbmc Batch 1\n"
     ]
    },
    {
     "name": "stderr",
     "output_type": "stream",
     "text": [
      "[INFO] Trainer: load pretrained model from path: /home/katzalis/thesis/ssh/thesis/saved_results/butterfly/perturb/playground_pbmc/batch1/model/\n",
      "[INFO] Trainer: load pretrained model from path: /home/katzalis/thesis/ssh/thesis/saved_results/butterfly/perturb/playground_pbmc/batch1/model/\n",
      "[INFO] Tester: get predicting ...\n",
      "[INFO] Tester: get predicting ...\n",
      "[INFO] Tester: get predicting ...\n",
      "[INFO] Tester: get predicting ...\n"
     ]
    },
    {
     "name": "stdout",
     "output_type": "stream",
     "text": [
      "Batch already trained 1\n",
      "Loading model\n"
     ]
    },
    {
     "name": "stderr",
     "output_type": "stream",
     "text": [
      "Control to stimulated predicting...: 100%|██████████████████████████| 22/22 [00:01<00:00, 11.00it/s]\n",
      "stimulated to control predicting...: 100%|████████████████████████████| 7/7 [00:01<00:00,  3.72it/s]\n",
      "[INFO] Tester: calculate neighbors graph for following test ...\n",
      "[INFO] Tester: calculate neighbors graph for following test ...\n",
      "[INFO] Tester: calculate neighbors graph for following test ...\n",
      "[INFO] Tester: calculate neighbors graph for following test ...\n"
     ]
    },
    {
     "name": "stdout",
     "output_type": "stream",
     "text": [
      "WARNING: saving figure to file /home/katzalis/thesis/ssh/thesis/saved_results/butterfly/perturb/playground_pbmc/batch1/test/rank_genes_groups_condition.pdf\n",
      "WARNING: saving figure to file /home/katzalis/thesis/ssh/thesis/saved_results/butterfly/perturb/playground_pbmc/batch1/test/dotplot_.pdf\n"
     ]
    },
    {
     "name": "stderr",
     "output_type": "stream",
     "text": [
      "[INFO] Tester: get predicting ...\n",
      "[INFO] Tester: get predicting ...\n",
      "[INFO] Tester: get predicting ...\n",
      "[INFO] Tester: get predicting ...\n",
      "[INFO] Tester: get predicting ...\n"
     ]
    },
    {
     "name": "stdout",
     "output_type": "stream",
     "text": [
      "Evalution saved /home/katzalis/thesis/ssh/thesis/saved_results/butterfly/perturb/playground_pbmc/batch1/ground_truth\n",
      "Evalution saved /home/katzalis/thesis/ssh/thesis/saved_results/butterfly/perturb/playground_pbmc/batch1/predicted\n",
      "Evalution saved /home/katzalis/thesis/ssh/thesis/saved_results/butterfly/perturb/playground_pbmc/batch1/diff\n"
     ]
    },
    {
     "name": "stderr",
     "output_type": "stream",
     "text": [
      "Control to stimulated predicting...: 100%|██████████████████████████| 14/14 [00:01<00:00,  9.11it/s]\n",
      "stimulated to control predicting...: 100%|██████████████████████████| 14/14 [00:01<00:00,  8.44it/s]\n",
      "[INFO] Tester: calculate neighbors graph for following test ...\n",
      "[INFO] Tester: calculate neighbors graph for following test ...\n",
      "[INFO] Tester: calculate neighbors graph for following test ...\n",
      "[INFO] Tester: calculate neighbors graph for following test ...\n",
      "[INFO] Tester: calculate neighbors graph for following test ...\n"
     ]
    },
    {
     "name": "stdout",
     "output_type": "stream",
     "text": [
      "WARNING: saving figure to file /home/katzalis/thesis/ssh/thesis/saved_results/butterfly/perturb/playground_pbmc/batch1/test_validation/rank_genes_groups_condition.pdf\n",
      "WARNING: saving figure to file /home/katzalis/thesis/ssh/thesis/saved_results/butterfly/perturb/playground_pbmc/batch1/test_validation/dotplot_.pdf\n"
     ]
    },
    {
     "name": "stderr",
     "output_type": "stream",
     "text": [
      "[INFO] Tester: get predicting ...\n",
      "[INFO] Tester: get predicting ...\n",
      "[INFO] Tester: get predicting ...\n",
      "[INFO] Tester: get predicting ...\n",
      "[INFO] Tester: get predicting ...\n",
      "[INFO] Tester: get predicting ...\n",
      "Control to stimulated predicting...: 100%|██████████████████████████| 55/55 [00:02<00:00, 23.67it/s]\n",
      "stimulated to control predicting...: 100%|██████████████████████████| 55/55 [00:02<00:00, 24.15it/s]\n",
      "[INFO] Tester: calculate neighbors graph for following test ...\n",
      "[INFO] Tester: calculate neighbors graph for following test ...\n",
      "[INFO] Tester: calculate neighbors graph for following test ...\n",
      "[INFO] Tester: calculate neighbors graph for following test ...\n",
      "[INFO] Tester: calculate neighbors graph for following test ...\n",
      "[INFO] Tester: calculate neighbors graph for following test ...\n"
     ]
    },
    {
     "name": "stdout",
     "output_type": "stream",
     "text": [
      "WARNING: saving figure to file /home/katzalis/thesis/ssh/thesis/saved_results/butterfly/perturb/playground_pbmc/batch1/test_train/rank_genes_groups_condition.pdf\n",
      "WARNING: saving figure to file /home/katzalis/thesis/ssh/thesis/saved_results/butterfly/perturb/playground_pbmc/batch1/test_train/dotplot_.pdf\n",
      "Writing metrics to /home/katzalis/thesis/ssh/thesis/saved_results/butterfly/perturb/playground_pbmc/batch1/metrics.csv\n",
      "Writing metrics to /home/katzalis/thesis/ssh/thesis/saved_results/metrics.csv\n",
      "name playground_pbmc Batch 2\n"
     ]
    },
    {
     "name": "stderr",
     "output_type": "stream",
     "text": [
      "[INFO] Trainer: Control pretraining ...\n",
      "[INFO] Trainer: Control pretraining ...\n",
      "[INFO] Trainer: Control pretraining ...\n",
      "Control pretrain:  45%|████████          | 45/100 [01:20<01:38,  1.80s/it, train=0.0231, val=0.0248]\n"
     ]
    },
    {
     "ename": "KeyboardInterrupt",
     "evalue": "",
     "output_type": "error",
     "traceback": [
      "\u001b[0;31m---------------------------------------------------------------------------\u001b[0m",
      "\u001b[0;31mKeyboardInterrupt\u001b[0m                         Traceback (most recent call last)",
      "Cell \u001b[0;32mIn[2], line 4\u001b[0m\n\u001b[1;32m      1\u001b[0m \u001b[38;5;28;01mfrom\u001b[39;00m \u001b[38;5;21;01mthesis\u001b[39;00m\u001b[38;5;21;01m.\u001b[39;00m\u001b[38;5;21;01mscbutterfly\u001b[39;00m \u001b[38;5;28;01mimport\u001b[39;00m run_pbmc\n\u001b[0;32m----> 4\u001b[0m \u001b[43mrun_pbmc\u001b[49m\u001b[43m(\u001b[49m\u001b[43mname\u001b[49m\u001b[38;5;241;43m=\u001b[39;49m\u001b[38;5;124;43m\"\u001b[39;49m\u001b[38;5;124;43mplayground_pbmc\u001b[39;49m\u001b[38;5;124;43m\"\u001b[39;49m\u001b[43m,\u001b[49m\u001b[43m \u001b[49m\u001b[43mdataset\u001b[49m\u001b[38;5;241;43m=\u001b[39;49m\u001b[43madata\u001b[49m\u001b[43m)\u001b[49m\n",
      "File \u001b[0;32m~/thesis/ssh/thesis/thesis/scbutterfly.py:350\u001b[0m, in \u001b[0;36mrun_pbmc\u001b[0;34m(name, dataset, batch)\u001b[0m\n\u001b[1;32m      0\u001b[0m <Error retrieving source code with stack_data see ipython/ipython#13598>\n",
      "File \u001b[0;32m~/thesis/ssh/thesis/thesis/scbutterfly.py:260\u001b[0m, in \u001b[0;36m_run\u001b[0;34m(name, control, perturb, split_func, perturbation_name, dosage, cell_type_key, batch_idx)\u001b[0m\n\u001b[1;32m    248\u001b[0m     id_list, _ \u001b[38;5;241m=\u001b[39m split_func(control, perturb)\n\u001b[1;32m    249\u001b[0m     _run_dataset(\n\u001b[1;32m    250\u001b[0m         name\u001b[38;5;241m=\u001b[39mname,\n\u001b[1;32m    251\u001b[0m         control\u001b[38;5;241m=\u001b[39mcontrol,\n\u001b[0;32m   (...)\u001b[0m\n\u001b[1;32m    256\u001b[0m         dosage\u001b[38;5;241m=\u001b[39mdosage,\n\u001b[1;32m    257\u001b[0m     )\n\u001b[0;32m--> 260\u001b[0m \u001b[38;5;28;01mdef\u001b[39;00m \u001b[38;5;21m_run_sciplex3\u001b[39m(name: \u001b[38;5;28mstr\u001b[39m, dataset: AnnData, perturbation_name: \u001b[38;5;28mstr\u001b[39m, dosage: \u001b[38;5;28mint\u001b[39m, split_func: Callable, batch: Optional[\u001b[38;5;28mint\u001b[39m] \u001b[38;5;241m=\u001b[39m \u001b[38;5;28;01mNone\u001b[39;00m):\n\u001b[1;32m    261\u001b[0m     control, perturb \u001b[38;5;241m=\u001b[39m _get_control_perturb_sciplex3(dataset)\n\u001b[1;32m    262\u001b[0m     \u001b[38;5;28;01mreturn\u001b[39;00m _run(\n\u001b[1;32m    263\u001b[0m         name\u001b[38;5;241m=\u001b[39mname,\n\u001b[1;32m    264\u001b[0m         control\u001b[38;5;241m=\u001b[39mcontrol,\n\u001b[0;32m   (...)\u001b[0m\n\u001b[1;32m    270\u001b[0m         dosage\u001b[38;5;241m=\u001b[39mdosage\n\u001b[1;32m    271\u001b[0m     )\n",
      "File \u001b[0;32m~/thesis/ssh/thesis/thesis/scbutterfly.py:58\u001b[0m, in \u001b[0;36m_run_dataset\u001b[0;34m(name, control, perturb, id_list, batch_list, perturbation_name, dosage)\u001b[0m\n\u001b[1;32m     56\u001b[0m \u001b[38;5;28;01mfor\u001b[39;00m idx, batch \u001b[38;5;129;01min\u001b[39;00m \u001b[38;5;28menumerate\u001b[39m(batch_list):\n\u001b[1;32m     57\u001b[0m     \u001b[38;5;28mprint\u001b[39m(\u001b[38;5;124m\"\u001b[39m\u001b[38;5;124mname\u001b[39m\u001b[38;5;124m\"\u001b[39m, name, \u001b[38;5;124m\"\u001b[39m\u001b[38;5;124mBatch\u001b[39m\u001b[38;5;124m\"\u001b[39m, batch)\n\u001b[0;32m---> 58\u001b[0m     \u001b[43m_run_batch\u001b[49m\u001b[43m(\u001b[49m\u001b[43mname\u001b[49m\u001b[38;5;241;43m=\u001b[39;49m\u001b[43mname\u001b[49m\u001b[43m,\u001b[49m\u001b[43m \u001b[49m\u001b[43mcontrol\u001b[49m\u001b[38;5;241;43m=\u001b[39;49m\u001b[43mcontrol\u001b[49m\u001b[43m,\u001b[49m\u001b[43m \u001b[49m\u001b[43mperturb\u001b[49m\u001b[38;5;241;43m=\u001b[39;49m\u001b[43mperturb\u001b[49m\u001b[43m,\u001b[49m\u001b[43m \u001b[49m\u001b[43mid_list\u001b[49m\u001b[38;5;241;43m=\u001b[39;49m\u001b[43mid_list\u001b[49m\u001b[43m,\u001b[49m\u001b[43m \u001b[49m\u001b[43mbatch\u001b[49m\u001b[38;5;241;43m=\u001b[39;49m\u001b[43mbatch\u001b[49m\u001b[43m,\u001b[49m\u001b[43m \u001b[49m\u001b[43mperturbation_name\u001b[49m\u001b[38;5;241;43m=\u001b[39;49m\u001b[43mperturbation_name\u001b[49m\u001b[43m,\u001b[49m\u001b[43m \u001b[49m\u001b[43mdosage\u001b[49m\u001b[38;5;241;43m=\u001b[39;49m\u001b[43mdosage\u001b[49m\u001b[43m)\u001b[49m\n",
      "File \u001b[0;32m~/thesis/ssh/thesis/thesis/scbutterfly.py:119\u001b[0m, in \u001b[0;36m_run_batch\u001b[0;34m(name, control, perturb, id_list, batch, perturbation_name, dosage)\u001b[0m\n\u001b[1;32m    116\u001b[0m \u001b[38;5;28;01melse\u001b[39;00m:\n\u001b[1;32m    117\u001b[0m     load_model \u001b[38;5;241m=\u001b[39m \u001b[38;5;28;01mNone\u001b[39;00m\n\u001b[0;32m--> 119\u001b[0m model\u001b[38;5;241m.\u001b[39mtrain(\n\u001b[1;32m    120\u001b[0m     R_encoder_lr\u001b[38;5;241m=\u001b[39m\u001b[38;5;241m0.001\u001b[39m,\n\u001b[1;32m    121\u001b[0m     A_encoder_lr\u001b[38;5;241m=\u001b[39m\u001b[38;5;241m0.001\u001b[39m,\n\u001b[1;32m    122\u001b[0m     R_decoder_lr\u001b[38;5;241m=\u001b[39m\u001b[38;5;241m0.001\u001b[39m,\n\u001b[1;32m    123\u001b[0m     A_decoder_lr\u001b[38;5;241m=\u001b[39m\u001b[38;5;241m0.001\u001b[39m,\n\u001b[1;32m    124\u001b[0m     R_translator_lr\u001b[38;5;241m=\u001b[39m\u001b[38;5;241m0.001\u001b[39m,\n\u001b[1;32m    125\u001b[0m     A_translator_lr\u001b[38;5;241m=\u001b[39m\u001b[38;5;241m0.001\u001b[39m,\n\u001b[1;32m    126\u001b[0m     translator_lr\u001b[38;5;241m=\u001b[39m\u001b[38;5;241m0.001\u001b[39m,\n\u001b[1;32m    127\u001b[0m     discriminator_lr\u001b[38;5;241m=\u001b[39m\u001b[38;5;241m0.005\u001b[39m,\n\u001b[1;32m    128\u001b[0m     R2R_pretrain_epoch\u001b[38;5;241m=\u001b[39m\u001b[38;5;241m100\u001b[39m,\n\u001b[1;32m    129\u001b[0m     A2A_pretrain_epoch\u001b[38;5;241m=\u001b[39m\u001b[38;5;241m100\u001b[39m,\n\u001b[1;32m    130\u001b[0m     lock_encoder_and_decoder\u001b[38;5;241m=\u001b[39m\u001b[38;5;28;01mFalse\u001b[39;00m,\n\u001b[1;32m    131\u001b[0m     translator_epoch\u001b[38;5;241m=\u001b[39m\u001b[38;5;241m200\u001b[39m,\n\u001b[1;32m    132\u001b[0m     patience\u001b[38;5;241m=\u001b[39m\u001b[38;5;241m50\u001b[39m,\n\u001b[1;32m    133\u001b[0m     batch_size\u001b[38;5;241m=\u001b[39m\u001b[38;5;241m64\u001b[39m,\n\u001b[1;32m    134\u001b[0m     r_loss\u001b[38;5;241m=\u001b[39mnn\u001b[38;5;241m.\u001b[39mMSELoss(size_average\u001b[38;5;241m=\u001b[39m\u001b[38;5;28;01mTrue\u001b[39;00m),\n\u001b[1;32m    135\u001b[0m     a_loss\u001b[38;5;241m=\u001b[39mnn\u001b[38;5;241m.\u001b[39mMSELoss(size_average\u001b[38;5;241m=\u001b[39m\u001b[38;5;28;01mTrue\u001b[39;00m),\n\u001b[1;32m    136\u001b[0m     d_loss\u001b[38;5;241m=\u001b[39mnn\u001b[38;5;241m.\u001b[39mBCELoss(size_average\u001b[38;5;241m=\u001b[39m\u001b[38;5;28;01mTrue\u001b[39;00m),\n\u001b[1;32m    137\u001b[0m     loss_weight\u001b[38;5;241m=\u001b[39m[\u001b[38;5;241m1\u001b[39m, \u001b[38;5;241m1\u001b[39m, \u001b[38;5;241m1\u001b[39m, R_kl_div, A_kl_div, kl_div],\n\u001b[1;32m    138\u001b[0m     train_id_r\u001b[38;5;241m=\u001b[39mtrain_id_control,\n\u001b[1;32m    139\u001b[0m     train_id_a\u001b[38;5;241m=\u001b[39mtrain_id_perturb,\n\u001b[1;32m    140\u001b[0m     validation_id_r\u001b[38;5;241m=\u001b[39mvalidation_id_control,\n\u001b[1;32m    141\u001b[0m     validation_id_a\u001b[38;5;241m=\u001b[39mvalidation_id_perturb,\n\u001b[1;32m    142\u001b[0m     output_path\u001b[38;5;241m=\u001b[39mfile_path,\n\u001b[1;32m    143\u001b[0m     seed\u001b[38;5;241m=\u001b[39m\u001b[38;5;241m19193\u001b[39m,\n\u001b[1;32m    144\u001b[0m     kl_mean\u001b[38;5;241m=\u001b[39m\u001b[38;5;28;01mTrue\u001b[39;00m,\n\u001b[1;32m    145\u001b[0m     R_pretrain_kl_warmup\u001b[38;5;241m=\u001b[39m\u001b[38;5;241m50\u001b[39m,\n\u001b[1;32m    146\u001b[0m     A_pretrain_kl_warmup\u001b[38;5;241m=\u001b[39m\u001b[38;5;241m50\u001b[39m,\n\u001b[1;32m    147\u001b[0m     translation_kl_warmup\u001b[38;5;241m=\u001b[39m\u001b[38;5;241m50\u001b[39m,\n\u001b[1;32m    148\u001b[0m     load_model\u001b[38;5;241m=\u001b[39mload_model,\n\u001b[1;32m    149\u001b[0m     logging_path\u001b[38;5;241m=\u001b[39mfile_path,\n\u001b[1;32m    150\u001b[0m )\n\u001b[1;32m    152\u001b[0m perturb_test \u001b[38;5;241m=\u001b[39m perturb[test_id_perturb]\n\u001b[1;32m    154\u001b[0m test_file_path \u001b[38;5;241m=\u001b[39m \u001b[38;5;124mf\u001b[39m\u001b[38;5;124m\"\u001b[39m\u001b[38;5;132;01m{\u001b[39;00mfile_path\u001b[38;5;132;01m}\u001b[39;00m\u001b[38;5;124m/test\u001b[39m\u001b[38;5;124m\"\u001b[39m\n",
      "File \u001b[0;32m~/thesis/ssh/thesis/lib/scButterfly/scButterfly/train_model_perturb.py:657\u001b[0m, in \u001b[0;36mModel.train\u001b[0;34m(self, loss_weight, train_id_r, train_id_a, validation_id_r, validation_id_a, R_encoder_lr, A_encoder_lr, R_decoder_lr, A_decoder_lr, R_translator_lr, A_translator_lr, translator_lr, discriminator_lr, R2R_pretrain_epoch, A2A_pretrain_epoch, lock_encoder_and_decoder, translator_epoch, patience, batch_size, r_loss, a_loss, d_loss, output_path, seed, kl_mean, R_pretrain_kl_warmup, A_pretrain_kl_warmup, translation_kl_warmup, load_model, logging_path)\u001b[0m\n\u001b[1;32m    654\u001b[0m \u001b[38;5;28mself\u001b[39m\u001b[38;5;241m.\u001b[39mset_eval()\n\u001b[1;32m    655\u001b[0m \u001b[38;5;28;01mfor\u001b[39;00m idx, batch_samples \u001b[38;5;129;01min\u001b[39;00m \u001b[38;5;28menumerate\u001b[39m(\u001b[38;5;28mself\u001b[39m\u001b[38;5;241m.\u001b[39mvalidation_dataloader):\n\u001b[0;32m--> 657\u001b[0m     \u001b[38;5;28;01mif\u001b[39;00m \u001b[43mtorch\u001b[49m\u001b[38;5;241;43m.\u001b[39;49m\u001b[43mcuda\u001b[49m\u001b[38;5;241;43m.\u001b[39;49m\u001b[43mis_available\u001b[49m\u001b[43m(\u001b[49m\u001b[43m)\u001b[49m:\n\u001b[1;32m    658\u001b[0m         batch_samples \u001b[38;5;241m=\u001b[39m batch_samples\u001b[38;5;241m.\u001b[39mcuda()\u001b[38;5;241m.\u001b[39mto(torch\u001b[38;5;241m.\u001b[39mfloat32)\n\u001b[1;32m    660\u001b[0m     RNA_input, ATAC_input \u001b[38;5;241m=\u001b[39m torch\u001b[38;5;241m.\u001b[39msplit(batch_samples, [RNA_input_dim, ATAC_input_dim], dim\u001b[38;5;241m=\u001b[39m\u001b[38;5;241m1\u001b[39m)\n",
      "File \u001b[0;32m/g/kreshuk/katzalis/conda/miniforge3/envs/thesis/lib/python3.10/site-packages/torch/cuda/__init__.py:115\u001b[0m, in \u001b[0;36mis_available\u001b[0;34m()\u001b[0m\n\u001b[1;32m    111\u001b[0m \u001b[38;5;28;01mdef\u001b[39;00m \u001b[38;5;21m_nvml_based_avail\u001b[39m() \u001b[38;5;241m-\u001b[39m\u001b[38;5;241m>\u001b[39m \u001b[38;5;28mbool\u001b[39m:\n\u001b[1;32m    112\u001b[0m     \u001b[38;5;28;01mreturn\u001b[39;00m os\u001b[38;5;241m.\u001b[39mgetenv(\u001b[38;5;124m\"\u001b[39m\u001b[38;5;124mPYTORCH_NVML_BASED_CUDA_CHECK\u001b[39m\u001b[38;5;124m\"\u001b[39m) \u001b[38;5;241m==\u001b[39m \u001b[38;5;124m\"\u001b[39m\u001b[38;5;124m1\u001b[39m\u001b[38;5;124m\"\u001b[39m\n\u001b[0;32m--> 115\u001b[0m \u001b[38;5;28;01mdef\u001b[39;00m \u001b[38;5;21mis_available\u001b[39m() \u001b[38;5;241m-\u001b[39m\u001b[38;5;241m>\u001b[39m \u001b[38;5;28mbool\u001b[39m:\n\u001b[1;32m    116\u001b[0m \u001b[38;5;250m    \u001b[39m\u001b[38;5;124mr\u001b[39m\u001b[38;5;124;03m\"\"\"Return a bool indicating if CUDA is currently available.\"\"\"\u001b[39;00m\n\u001b[1;32m    117\u001b[0m     \u001b[38;5;28;01mif\u001b[39;00m \u001b[38;5;129;01mnot\u001b[39;00m _is_compiled():\n",
      "\u001b[0;31mKeyboardInterrupt\u001b[0m: "
     ]
    }
   ],
   "source": [
    "from thesis.scbutterfly import run_pbmc\n",
    "\n",
    "\n",
    "run_pbmc(name=\"playground_pbmc\", dataset=adata)"
   ]
  }
 ],
 "metadata": {
  "kernelspec": {
   "display_name": "thesis",
   "language": "python",
   "name": "python3"
  },
  "language_info": {
   "codemirror_mode": {
    "name": "ipython",
    "version": 3
   },
   "file_extension": ".py",
   "mimetype": "text/x-python",
   "name": "python",
   "nbconvert_exporter": "python",
   "pygments_lexer": "ipython3",
   "version": "3.10.15"
  }
 },
 "nbformat": 4,
 "nbformat_minor": 2
}
