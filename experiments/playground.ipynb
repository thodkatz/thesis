{
 "cells": [
  {
   "cell_type": "code",
   "execution_count": 1,
   "metadata": {},
   "outputs": [
    {
     "name": "stderr",
     "output_type": "stream",
     "text": [
      "/g/kreshuk/katzalis/conda/miniforge3/envs/thesis/lib/python3.10/site-packages/setuptools_scm/_integration/setuptools.py:31: RuntimeWarning: \n",
      "ERROR: setuptools==59.5.0 is used in combination with setuptools_scm>=8.x\n",
      "\n",
      "Your build configuration is incomplete and previously worked by accident!\n",
      "setuptools_scm requires setuptools>=61\n",
      "\n",
      "Suggested workaround if applicable:\n",
      " - migrating from the deprecated setup_requires mechanism to pep517/518\n",
      "   and using a pyproject.toml to declare build dependencies\n",
      "   which are reliably pre-installed before running the build tools\n",
      "\n",
      "  warnings.warn(\n"
     ]
    },
    {
     "data": {
      "text/plain": [
       "AnnData object with n_obs × n_vars = 18868 × 6998\n",
       "    obs: 'condition', 'n_counts', 'n_genes', 'mt_frac', 'cell_type', 'batch'\n",
       "    var: 'gene_symbol', 'n_cells'\n",
       "    obsm: 'X_pca', 'X_tsne', 'X_umap'"
      ]
     },
     "execution_count": 1,
     "metadata": {},
     "output_type": "execute_result"
    }
   ],
   "source": [
    "from thesis.datasets import get_pbmc\n",
    "adata = get_pbmc()\n",
    "adata\n"
   ]
  },
  {
   "cell_type": "code",
   "execution_count": 3,
   "metadata": {},
   "outputs": [
    {
     "name": "stdout",
     "output_type": "stream",
     "text": [
      "config ModelConfig(model_name='scbutterfly', dataset_name='pbmc', experiment_name='playground', perturbation='ifn-b', root_path=PosixPath('/g/kreshuk/katzalis/repos/thesis/saved_results'), dosage=0, cell_type_key='cell_type') Batch 0\n",
      "Batch already trained 0\n"
     ]
    }
   ],
   "source": [
    "from thesis.scbutterfly import run_pbmc\n",
    "\n",
    "\n",
    "run_pbmc(experiment_name=\"playground\", dataset=adata, batch=0)"
   ]
  }
 ],
 "metadata": {
  "kernelspec": {
   "display_name": "thesis",
   "language": "python",
   "name": "python3"
  },
  "language_info": {
   "codemirror_mode": {
    "name": "ipython",
    "version": 3
   },
   "file_extension": ".py",
   "mimetype": "text/x-python",
   "name": "python",
   "nbconvert_exporter": "python",
   "pygments_lexer": "ipython3",
   "version": "3.10.15"
  }
 },
 "nbformat": 4,
 "nbformat_minor": 2
}
