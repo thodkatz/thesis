{
 "cells": [
  {
   "cell_type": "markdown",
   "metadata": {},
   "source": [
    "## Multi-task UnitedNet on perturbation prediction with the PBMC dataset\n",
    "\n",
    "Motivation relies on the potential of scButterfly for perturbation response on the PBMC dataset stimulated by IFN-beta. scButterfly and UnitedNet share similar architectures. The seconds one leverages multi-task learning. Thus, we will attempt for a simple dataset with one perturbation type to explore the usage of UnitedNet with the tasks:\n",
    "\n",
    "- cross modal prediction on perturbation (perturbation response prediction task)\n",
    "- classification task for cell type annotation\n",
    "\n",
    "We would like to investigate if multi-task can be beneficial for perturbation modeling. Thus we will compare the multi-task model with the single-task models of the classification and the cross modal prediction task."
   ]
  },
  {
   "cell_type": "code",
   "execution_count": 1,
   "metadata": {},
   "outputs": [
    {
     "name": "stderr",
     "output_type": "stream",
     "text": [
      "/g/kreshuk/katzalis/conda/miniforge3/envs/thesis/lib/python3.10/site-packages/anndata/compat/__init__.py:311: FutureWarning: Moving element from .uns['neighbors']['distances'] to .obsp['distances'].\n",
      "\n",
      "This is where adjacency matrices should go now.\n",
      "  warn(\n",
      "/g/kreshuk/katzalis/conda/miniforge3/envs/thesis/lib/python3.10/site-packages/anndata/compat/__init__.py:311: FutureWarning: Moving element from .uns['neighbors']['connectivities'] to .obsp['connectivities'].\n",
      "\n",
      "This is where adjacency matrices should go now.\n",
      "  warn(\n",
      "/g/kreshuk/katzalis/conda/miniforge3/envs/thesis/lib/python3.10/site-packages/anndata/compat/__init__.py:311: FutureWarning: Moving element from .uns['neighbors']['distances'] to .obsp['distances'].\n",
      "\n",
      "This is where adjacency matrices should go now.\n",
      "  warn(\n",
      "/g/kreshuk/katzalis/conda/miniforge3/envs/thesis/lib/python3.10/site-packages/anndata/compat/__init__.py:311: FutureWarning: Moving element from .uns['neighbors']['connectivities'] to .obsp['connectivities'].\n",
      "\n",
      "This is where adjacency matrices should go now.\n",
      "  warn(\n",
      "/tmp/ipykernel_1045987/4073794797.py:12: FutureWarning: Use anndata.concat instead of AnnData.concatenate, AnnData.concatenate is deprecated and will be removed in the future. See the tutorial for concat at: https://anndata.readthedocs.io/en/latest/concatenation.html\n",
      "  pbmc = sc_data_train.concatenate(sc_data_valid)\n"
     ]
    }
   ],
   "source": [
    "# prepare dataset\n",
    "# dataset from https://github.com/theislab/scgen-reproducibility, already preprocessed\n",
    "\n",
    "import scanpy as sc\n",
    "\n",
    "train_data = \"../data/pbmc/train_pbmc.h5ad\"\n",
    "valid_data = \"../data/pbmc/valid_pbmc.h5ad\"\n",
    "\n",
    "# pbmc data from scGen is already split into train and valid, but we will concatenate them to do a custom split\n",
    "sc_data_train = sc.read_h5ad(train_data)\n",
    "sc_data_valid = sc.read_h5ad(valid_data)\n",
    "pbmc = sc_data_train.concatenate(sc_data_valid)"
   ]
  },
  {
   "cell_type": "code",
   "execution_count": 2,
   "metadata": {},
   "outputs": [
    {
     "data": {
      "text/plain": [
       "AnnData object with n_obs × n_vars = 18868 × 6998\n",
       "    obs: 'condition', 'n_counts', 'n_genes', 'mt_frac', 'cell_type', 'batch'\n",
       "    var: 'gene_symbol', 'n_cells'\n",
       "    obsm: 'X_pca', 'X_tsne', 'X_umap'"
      ]
     },
     "execution_count": 2,
     "metadata": {},
     "output_type": "execute_result"
    }
   ],
   "source": [
    "pbmc"
   ]
  },
  {
   "cell_type": "code",
   "execution_count": 3,
   "metadata": {},
   "outputs": [
    {
     "name": "stderr",
     "output_type": "stream",
     "text": [
      "/tmp/ipykernel_1045987/191267336.py:1: FutureWarning: The default of observed=False is deprecated and will be changed to True in a future version of pandas. Pass observed=False to retain current behavior or observed=True to adopt the future default and silence this warning.\n",
      "  pbmc.obs.groupby(['cell_type', 'condition']).size()\n"
     ]
    },
    {
     "data": {
      "text/plain": [
       "cell_type    condition \n",
       "CD4T         control       2715\n",
       "             stimulated    3483\n",
       "CD14+Mono    control       2184\n",
       "             stimulated     698\n",
       "B            control        928\n",
       "             stimulated    1105\n",
       "CD8T         control        643\n",
       "             stimulated     594\n",
       "NK           control        571\n",
       "             stimulated     733\n",
       "FCGR3A+Mono  control       1232\n",
       "             stimulated    2790\n",
       "Dendritic    control        670\n",
       "             stimulated     522\n",
       "dtype: int64"
      ]
     },
     "execution_count": 3,
     "metadata": {},
     "output_type": "execute_result"
    }
   ],
   "source": [
    "pbmc.obs.groupby(['cell_type', 'condition']).size()"
   ]
  },
  {
   "cell_type": "code",
   "execution_count": 4,
   "metadata": {},
   "outputs": [
    {
     "name": "stderr",
     "output_type": "stream",
     "text": [
      "/tmp/ipykernel_1045987/225387844.py:1: FutureWarning: The default of observed=False is deprecated and will be changed to True in a future version of pandas. Pass observed=False to retain current behavior or observed=True to adopt the future default and silence this warning.\n",
      "  pbmc.obs.groupby(['condition']).size()\n"
     ]
    },
    {
     "data": {
      "text/plain": [
       "condition\n",
       "control       8943\n",
       "stimulated    9925\n",
       "dtype: int64"
      ]
     },
     "execution_count": 4,
     "metadata": {},
     "output_type": "execute_result"
    }
   ],
   "source": [
    "pbmc.obs.groupby(['condition']).size()"
   ]
  },
  {
   "cell_type": "code",
   "execution_count": 5,
   "metadata": {},
   "outputs": [],
   "source": [
    "# simple inspection\n",
    "\n",
    "# sc.pp.pca(pbmc)\n",
    "# sc.pp.neighbors(pbmc)\n",
    "# sc.tl.tsne(pbmc)\n",
    "# sc.pl.tsne(pbmc, color=['condition', 'cell_type'], legend_loc='on data', legend_fontsize='small')"
   ]
  },
  {
   "cell_type": "markdown",
   "metadata": {},
   "source": [
    "### Create pairs of control and stimulated data using scButterfly method\n",
    "\n",
    "scButterfly showed the potential of using a dual VAR scheme for perturbation response prediction. They split the cells based on the cell type for control and stimulated, and then per cell type group, they create pairs of control and stimulated gene expression profile using optimal transport.\n",
    "\n",
    "It should be noted that during perturbation, we can't measure the exact same cell that was perturbed. The current experimental methods, don't allow this type of information. Thus, deep learning architectures that are relying on pairs, such as scButterfly and UnitedNet (combining modalities), need to find a strategy to explore if creating pseudo pairs is beneficial.\n",
    "\n",
    "scButterfly showed this exact potential."
   ]
  },
  {
   "cell_type": "code",
   "execution_count": 6,
   "metadata": {},
   "outputs": [
    {
     "name": "stderr",
     "output_type": "stream",
     "text": [
      " UserWarning:/g/kreshuk/katzalis/conda/miniforge3/envs/thesis/lib/python3.10/site-packages/torch/nn/_reduction.py:42: size_average and reduce args will be deprecated, please use reduction='mean' instead.\n"
     ]
    }
   ],
   "source": [
    "from scButterfly.split_datasets import unpaired_split_dataset_perturb\n",
    "\n",
    "\n",
    "# create pairs of data using scButterfly technique\n",
    "control_data = pbmc[pbmc.obs.condition == 'control']\n",
    "stimulate_data = pbmc[pbmc.obs.condition == 'stimulated']\n",
    "\n",
    "control_data.obs.index = [str(i) for i in range(control_data.X.shape[0])]\n",
    "stimulate_data.obs.index = [str(i) for i in range(stimulate_data.X.shape[0])]\n",
    "\n",
    "cell_type_list = list(control_data.obs.cell_type.cat.categories)"
   ]
  },
  {
   "cell_type": "code",
   "execution_count": 7,
   "metadata": {},
   "outputs": [
    {
     "name": "stdout",
     "output_type": "stream",
     "text": [
      "optimal transport array torch.Size([2715, 3483])\n",
      "CD4T, control num 2715 stimulate num 3483\n",
      "\n",
      "optimal transport array torch.Size([2184, 698])\n",
      "CD14+Mono, control num 2184 stimulate num 698\n",
      "\n",
      "optimal transport array torch.Size([928, 1105])\n",
      "B, control num 928 stimulate num 1105\n",
      "\n",
      "optimal transport array torch.Size([643, 594])\n",
      "CD8T, control num 643 stimulate num 594\n",
      "\n",
      "optimal transport array torch.Size([571, 733])\n",
      "NK, control num 571 stimulate num 733\n",
      "\n",
      "optimal transport array torch.Size([1232, 2790])\n",
      "FCGR3A+Mono, control num 1232 stimulate num 2790\n",
      "\n",
      "optimal transport array torch.Size([670, 522])\n",
      "Dendritic, control num 670 stimulate num 522\n",
      "\n",
      "\n",
      "Start CD4T\n",
      "Batch list ['Dendritic', 'B', 'FCGR3A+Mono', 'CD14+Mono', 'CD4T', 'NK', 'CD8T']\n",
      "Test batch control ['Dendritic']\n",
      "Validation batch control ['B', 'FCGR3A+Mono', 'CD14+Mono', 'CD4T', 'NK', 'CD8T']\n",
      "Train batch control ['B', 'FCGR3A+Mono', 'CD14+Mono', 'CD4T', 'NK', 'CD8T']\n",
      "Test batch stimulated ['Dendritic']\n",
      "Validation batch stimulated ['B', 'FCGR3A+Mono', 'CD14+Mono', 'CD4T', 'NK', 'CD8T']\n",
      "Train batch stimulated ['B', 'FCGR3A+Mono', 'CD14+Mono', 'CD4T', 'NK', 'CD8T']\n",
      "End CD4T\n",
      "\n",
      "train len 2172 valid len 543\n",
      "id_list\n",
      "2172\n",
      "2172\n",
      "543\n",
      "543\n",
      "670\n",
      "522\n",
      "\n",
      "train len 1747 valid len 437\n",
      "id_list\n",
      "3919\n",
      "3919\n",
      "980\n",
      "980\n",
      "670\n",
      "522\n",
      "\n",
      "train len 742 valid len 186\n",
      "id_list\n",
      "4661\n",
      "4661\n",
      "1166\n",
      "1166\n",
      "670\n",
      "522\n",
      "\n",
      "train len 514 valid len 129\n",
      "id_list\n",
      "5175\n",
      "5175\n",
      "1295\n",
      "1295\n",
      "670\n",
      "522\n",
      "\n",
      "train len 456 valid len 115\n",
      "id_list\n",
      "5631\n",
      "5631\n",
      "1410\n",
      "1410\n",
      "670\n",
      "522\n",
      "\n",
      "train len 985 valid len 247\n",
      "id_list\n",
      "6616\n",
      "6616\n",
      "1657\n",
      "1657\n",
      "670\n",
      "522\n",
      "\n",
      "train len 0 valid len 0\n",
      "\n",
      "Start CD14+Mono\n",
      "Batch list ['B', 'FCGR3A+Mono', 'CD14+Mono', 'CD4T', 'NK', 'CD8T', 'Dendritic']\n",
      "Test batch control ['B']\n",
      "Validation batch control ['FCGR3A+Mono', 'CD14+Mono', 'CD4T', 'NK', 'CD8T', 'Dendritic']\n",
      "Train batch control ['FCGR3A+Mono', 'CD14+Mono', 'CD4T', 'NK', 'CD8T', 'Dendritic']\n",
      "Test batch stimulated ['B']\n",
      "Validation batch stimulated ['FCGR3A+Mono', 'CD14+Mono', 'CD4T', 'NK', 'CD8T', 'Dendritic']\n",
      "Train batch stimulated ['FCGR3A+Mono', 'CD14+Mono', 'CD4T', 'NK', 'CD8T', 'Dendritic']\n",
      "End CD14+Mono\n",
      "\n",
      "train len 2172 valid len 543\n",
      "id_list\n",
      "2172\n",
      "2172\n",
      "543\n",
      "543\n",
      "928\n",
      "1105\n",
      "\n",
      "train len 1747 valid len 437\n",
      "id_list\n",
      "3919\n",
      "3919\n",
      "980\n",
      "980\n",
      "928\n",
      "1105\n",
      "\n",
      "train len 0 valid len 0\n",
      "train len 514 valid len 129\n",
      "id_list\n",
      "4433\n",
      "4433\n",
      "1109\n",
      "1109\n",
      "928\n",
      "1105\n",
      "\n",
      "train len 456 valid len 115\n",
      "id_list\n",
      "4889\n",
      "4889\n",
      "1224\n",
      "1224\n",
      "928\n",
      "1105\n",
      "\n",
      "train len 985 valid len 247\n",
      "id_list\n",
      "5874\n",
      "5874\n",
      "1471\n",
      "1471\n",
      "928\n",
      "1105\n",
      "\n",
      "train len 536 valid len 134\n",
      "id_list\n",
      "6410\n",
      "6410\n",
      "1605\n",
      "1605\n",
      "928\n",
      "1105\n",
      "\n",
      "\n",
      "Start B\n",
      "Batch list ['FCGR3A+Mono', 'CD14+Mono', 'CD4T', 'NK', 'CD8T', 'Dendritic', 'B']\n",
      "Test batch control ['FCGR3A+Mono']\n",
      "Validation batch control ['CD14+Mono', 'CD4T', 'NK', 'CD8T', 'Dendritic', 'B']\n",
      "Train batch control ['CD14+Mono', 'CD4T', 'NK', 'CD8T', 'Dendritic', 'B']\n",
      "Test batch stimulated ['FCGR3A+Mono']\n",
      "Validation batch stimulated ['CD14+Mono', 'CD4T', 'NK', 'CD8T', 'Dendritic', 'B']\n",
      "Train batch stimulated ['CD14+Mono', 'CD4T', 'NK', 'CD8T', 'Dendritic', 'B']\n",
      "End B\n",
      "\n",
      "train len 2172 valid len 543\n",
      "id_list\n",
      "2172\n",
      "2172\n",
      "543\n",
      "543\n",
      "1232\n",
      "2790\n",
      "\n",
      "train len 1747 valid len 437\n",
      "id_list\n",
      "3919\n",
      "3919\n",
      "980\n",
      "980\n",
      "1232\n",
      "2790\n",
      "\n",
      "train len 742 valid len 186\n",
      "id_list\n",
      "4661\n",
      "4661\n",
      "1166\n",
      "1166\n",
      "1232\n",
      "2790\n",
      "\n",
      "train len 514 valid len 129\n",
      "id_list\n",
      "5175\n",
      "5175\n",
      "1295\n",
      "1295\n",
      "1232\n",
      "2790\n",
      "\n",
      "train len 456 valid len 115\n",
      "id_list\n",
      "5631\n",
      "5631\n",
      "1410\n",
      "1410\n",
      "1232\n",
      "2790\n",
      "\n",
      "train len 0 valid len 0\n",
      "train len 536 valid len 134\n",
      "id_list\n",
      "6167\n",
      "6167\n",
      "1544\n",
      "1544\n",
      "1232\n",
      "2790\n",
      "\n",
      "\n",
      "Start CD8T\n",
      "Batch list ['CD14+Mono', 'CD4T', 'NK', 'CD8T', 'Dendritic', 'B', 'FCGR3A+Mono']\n",
      "Test batch control ['CD14+Mono']\n",
      "Validation batch control ['CD4T', 'NK', 'CD8T', 'Dendritic', 'B', 'FCGR3A+Mono']\n",
      "Train batch control ['CD4T', 'NK', 'CD8T', 'Dendritic', 'B', 'FCGR3A+Mono']\n",
      "Test batch stimulated ['CD14+Mono']\n",
      "Validation batch stimulated ['CD4T', 'NK', 'CD8T', 'Dendritic', 'B', 'FCGR3A+Mono']\n",
      "Train batch stimulated ['CD4T', 'NK', 'CD8T', 'Dendritic', 'B', 'FCGR3A+Mono']\n",
      "End CD8T\n",
      "\n",
      "train len 2172 valid len 543\n",
      "id_list\n",
      "2172\n",
      "2172\n",
      "543\n",
      "543\n",
      "2184\n",
      "698\n",
      "\n",
      "train len 0 valid len 0\n",
      "train len 742 valid len 186\n",
      "id_list\n",
      "2914\n",
      "2914\n",
      "729\n",
      "729\n",
      "2184\n",
      "698\n",
      "\n",
      "train len 514 valid len 129\n",
      "id_list\n",
      "3428\n",
      "3428\n",
      "858\n",
      "858\n",
      "2184\n",
      "698\n",
      "\n",
      "train len 456 valid len 115\n",
      "id_list\n",
      "3884\n",
      "3884\n",
      "973\n",
      "973\n",
      "2184\n",
      "698\n",
      "\n",
      "train len 985 valid len 247\n",
      "id_list\n",
      "4869\n",
      "4869\n",
      "1220\n",
      "1220\n",
      "2184\n",
      "698\n",
      "\n",
      "train len 536 valid len 134\n",
      "id_list\n",
      "5405\n",
      "5405\n",
      "1354\n",
      "1354\n",
      "2184\n",
      "698\n",
      "\n",
      "\n",
      "Start NK\n",
      "Batch list ['CD4T', 'NK', 'CD8T', 'Dendritic', 'B', 'FCGR3A+Mono', 'CD14+Mono']\n",
      "Test batch control ['CD4T']\n",
      "Validation batch control ['NK', 'CD8T', 'Dendritic', 'B', 'FCGR3A+Mono', 'CD14+Mono']\n",
      "Train batch control ['NK', 'CD8T', 'Dendritic', 'B', 'FCGR3A+Mono', 'CD14+Mono']\n",
      "Test batch stimulated ['CD4T']\n",
      "Validation batch stimulated ['NK', 'CD8T', 'Dendritic', 'B', 'FCGR3A+Mono', 'CD14+Mono']\n",
      "Train batch stimulated ['NK', 'CD8T', 'Dendritic', 'B', 'FCGR3A+Mono', 'CD14+Mono']\n",
      "End NK\n",
      "\n",
      "train len 0 valid len 0\n",
      "train len 1747 valid len 437\n",
      "id_list\n",
      "1747\n",
      "1747\n",
      "437\n",
      "437\n",
      "2715\n",
      "3483\n",
      "\n",
      "train len 742 valid len 186\n",
      "id_list\n",
      "2489\n",
      "2489\n",
      "623\n",
      "623\n",
      "2715\n",
      "3483\n",
      "\n",
      "train len 514 valid len 129\n",
      "id_list\n",
      "3003\n",
      "3003\n",
      "752\n",
      "752\n",
      "2715\n",
      "3483\n",
      "\n",
      "train len 456 valid len 115\n",
      "id_list\n",
      "3459\n",
      "3459\n",
      "867\n",
      "867\n",
      "2715\n",
      "3483\n",
      "\n",
      "train len 985 valid len 247\n",
      "id_list\n",
      "4444\n",
      "4444\n",
      "1114\n",
      "1114\n",
      "2715\n",
      "3483\n",
      "\n",
      "train len 536 valid len 134\n",
      "id_list\n",
      "4980\n",
      "4980\n",
      "1248\n",
      "1248\n",
      "2715\n",
      "3483\n",
      "\n",
      "\n",
      "Start FCGR3A+Mono\n",
      "Batch list ['NK', 'CD8T', 'Dendritic', 'B', 'FCGR3A+Mono', 'CD14+Mono', 'CD4T']\n",
      "Test batch control ['NK']\n",
      "Validation batch control ['CD8T', 'Dendritic', 'B', 'FCGR3A+Mono', 'CD14+Mono', 'CD4T']\n",
      "Train batch control ['CD8T', 'Dendritic', 'B', 'FCGR3A+Mono', 'CD14+Mono', 'CD4T']\n",
      "Test batch stimulated ['NK']\n",
      "Validation batch stimulated ['CD8T', 'Dendritic', 'B', 'FCGR3A+Mono', 'CD14+Mono', 'CD4T']\n",
      "Train batch stimulated ['CD8T', 'Dendritic', 'B', 'FCGR3A+Mono', 'CD14+Mono', 'CD4T']\n",
      "End FCGR3A+Mono\n",
      "\n",
      "train len 2172 valid len 543\n",
      "id_list\n",
      "2172\n",
      "2172\n",
      "543\n",
      "543\n",
      "571\n",
      "733\n",
      "\n",
      "train len 1747 valid len 437\n",
      "id_list\n",
      "3919\n",
      "3919\n",
      "980\n",
      "980\n",
      "571\n",
      "733\n",
      "\n",
      "train len 742 valid len 186\n",
      "id_list\n",
      "4661\n",
      "4661\n",
      "1166\n",
      "1166\n",
      "571\n",
      "733\n",
      "\n",
      "train len 514 valid len 129\n",
      "id_list\n",
      "5175\n",
      "5175\n",
      "1295\n",
      "1295\n",
      "571\n",
      "733\n",
      "\n",
      "train len 0 valid len 0\n",
      "train len 985 valid len 247\n",
      "id_list\n",
      "6160\n",
      "6160\n",
      "1542\n",
      "1542\n",
      "571\n",
      "733\n",
      "\n",
      "train len 536 valid len 134\n",
      "id_list\n",
      "6696\n",
      "6696\n",
      "1676\n",
      "1676\n",
      "571\n",
      "733\n",
      "\n",
      "\n",
      "Start Dendritic\n",
      "Batch list ['CD8T', 'Dendritic', 'B', 'FCGR3A+Mono', 'CD14+Mono', 'CD4T', 'NK']\n",
      "Test batch control ['CD8T']\n",
      "Validation batch control ['Dendritic', 'B', 'FCGR3A+Mono', 'CD14+Mono', 'CD4T', 'NK']\n",
      "Train batch control ['Dendritic', 'B', 'FCGR3A+Mono', 'CD14+Mono', 'CD4T', 'NK']\n",
      "Test batch stimulated ['CD8T']\n",
      "Validation batch stimulated ['Dendritic', 'B', 'FCGR3A+Mono', 'CD14+Mono', 'CD4T', 'NK']\n",
      "Train batch stimulated ['Dendritic', 'B', 'FCGR3A+Mono', 'CD14+Mono', 'CD4T', 'NK']\n",
      "End Dendritic\n",
      "\n",
      "train len 2172 valid len 543\n",
      "id_list\n",
      "2172\n",
      "2172\n",
      "543\n",
      "543\n",
      "643\n",
      "594\n",
      "\n",
      "train len 1747 valid len 437\n",
      "id_list\n",
      "3919\n",
      "3919\n",
      "980\n",
      "980\n",
      "643\n",
      "594\n",
      "\n",
      "train len 742 valid len 186\n",
      "id_list\n",
      "4661\n",
      "4661\n",
      "1166\n",
      "1166\n",
      "643\n",
      "594\n",
      "\n",
      "train len 0 valid len 0\n",
      "train len 456 valid len 115\n",
      "id_list\n",
      "5117\n",
      "5117\n",
      "1281\n",
      "1281\n",
      "643\n",
      "594\n",
      "\n",
      "train len 985 valid len 247\n",
      "id_list\n",
      "6102\n",
      "6102\n",
      "1528\n",
      "1528\n",
      "643\n",
      "594\n",
      "\n",
      "train len 536 valid len 134\n",
      "id_list\n",
      "6638\n",
      "6638\n",
      "1662\n",
      "1662\n",
      "643\n",
      "594\n",
      "\n"
     ]
    }
   ],
   "source": [
    "id_list, id_list_dict = unpaired_split_dataset_perturb(control_data, stimulate_data)"
   ]
  },
  {
   "cell_type": "code",
   "execution_count": 8,
   "metadata": {},
   "outputs": [
    {
     "name": "stdout",
     "output_type": "stream",
     "text": [
      "CD4T\n",
      "control 6616 1657 670 8943\n",
      "control 6616 1657 670\n",
      "peturb 6616 1657 522 8795\n",
      "peturb 6616 1657 522\n",
      "\n",
      "CD14+Mono\n",
      "control 6410 1605 928 8943\n",
      "control 6410 1605 928\n",
      "peturb 6410 1605 1105 9120\n",
      "peturb 6410 1605 1105\n",
      "\n",
      "B\n",
      "control 6167 1544 1232 8943\n",
      "control 6167 1544 1232\n",
      "peturb 6167 1544 2790 10501\n",
      "peturb 6167 1544 2790\n",
      "\n",
      "CD8T\n",
      "control 5405 1354 2184 8943\n",
      "control 5405 1354 2184\n",
      "peturb 5405 1354 698 7457\n",
      "peturb 5405 1354 698\n",
      "\n",
      "NK\n",
      "control 4980 1248 2715 8943\n",
      "control 4980 1248 2715\n",
      "peturb 4980 1248 3483 9711\n",
      "peturb 4980 1248 3483\n",
      "\n",
      "FCGR3A+Mono\n",
      "control 6696 1676 571 8943\n",
      "control 6696 1676 571\n",
      "peturb 6696 1676 733 9105\n",
      "peturb 6696 1676 733\n",
      "\n",
      "Dendritic\n",
      "control 6638 1662 643 8943\n",
      "control 6638 1662 643\n",
      "peturb 6638 1662 594 8894\n",
      "peturb 6638 1662 594\n",
      "\n"
     ]
    }
   ],
   "source": [
    "#print(len(id_list[0]))\n",
    "for idx, cell_type in enumerate(cell_type_list):\n",
    "    print(cell_type)\n",
    "    train_id_control, train_id_peturb, validation_id_control, validation_id_peturb, test_id_control, test_id_peturb = id_list[idx]\n",
    "\n",
    "    control = len(train_id_control) + len(validation_id_control) + len(test_id_control)\n",
    "    peturb = len(train_id_peturb) + len(validation_id_peturb) + len(test_id_peturb) \n",
    "    control_dict = id_list_dict[cell_type][\"control\"]\n",
    "    peturb_dict = id_list_dict[cell_type][\"stimulated\"]\n",
    "    print(\"control\", len(train_id_control), len(validation_id_control), len(test_id_control), control)\n",
    "    print(\"control\", len(control_dict[\"train\"]), len(control_dict[\"validation\"]), len(control_dict[\"test\"]))\n",
    "    print(\"peturb\", len(train_id_peturb), len(validation_id_peturb), len(test_id_peturb), peturb)    \n",
    "    print(\"peturb\", len(peturb_dict[\"train\"]), len(peturb_dict[\"validation\"]), len(peturb_dict[\"test\"]))\n",
    "    print()\n",
    "    \n",
    "# Some notes due to the lack of code readability from scButterfly:\n",
    "# - the rows of the id_list correspond to the cell types, but they don't have any meaning.\n",
    "# - the rows actually correspond to k-fold cross validation. One batch is a cell type that is held out.\n",
    "# - the cell_type of the row and the one that is held out are irrelevant.\n",
    "# - for the test, the control and the stimulated can have different size. But for train and validation we need pairs."
   ]
  },
  {
   "cell_type": "code",
   "execution_count": 15,
   "metadata": {},
   "outputs": [
    {
     "name": "stdout",
     "output_type": "stream",
     "text": [
      "min 7.0346947\n",
      "max 0.0\n",
      "\n",
      "min 6.822089\n",
      "max 0.0\n",
      "\n",
      "min 6.7637987\n",
      "max 0.0\n",
      "\n",
      "min 6.879698\n",
      "max 0.0\n",
      "\n",
      "min 7.0346947\n",
      "max 0.0\n",
      "\n",
      "min 5.961386\n",
      "max 0.0\n",
      "\n"
     ]
    },
    {
     "data": {
      "text/plain": [
       "[AnnData object with n_obs × n_vars = 6616 × 6998\n",
       "     obs: 'condition', 'n_counts', 'n_genes', 'mt_frac', 'cell_type', 'batch', 'label'\n",
       "     var: 'gene_symbol', 'n_cells'\n",
       "     obsm: 'X_pca', 'X_tsne', 'X_umap',\n",
       " AnnData object with n_obs × n_vars = 6616 × 6998\n",
       "     obs: 'condition', 'n_counts', 'n_genes', 'mt_frac', 'cell_type', 'batch', 'label'\n",
       "     var: 'gene_symbol', 'n_cells'\n",
       "     obsm: 'X_pca', 'X_tsne', 'X_umap']"
      ]
     },
     "execution_count": 15,
     "metadata": {},
     "output_type": "execute_result"
    }
   ],
   "source": [
    "# create adatas for pair of control and stimulated\n",
    "import numpy as np\n",
    "\n",
    "\n",
    "batch = cell_type_list[0]\n",
    "id_list_batch = id_list_dict[batch]\n",
    "control = id_list_batch[\"control\"]\n",
    "peturb = id_list_batch[\"stimulated\"]\n",
    "train_id_control = control[\"train\"]\n",
    "validation_id_control = control[\"validation\"]\n",
    "test_id_control = control[\"test\"]\n",
    "train_id_peturb = peturb[\"train\"]\n",
    "validation_id_peturb = peturb[\"validation\"]\n",
    "test_id_peturb = peturb[\"test\"]\n",
    "\n",
    "control_train = pbmc[train_id_control]\n",
    "control_valid = pbmc[validation_id_control]\n",
    "control_test = pbmc[test_id_control]\n",
    "\n",
    "peturb_train = pbmc[train_id_peturb]\n",
    "peturb_valid = pbmc[validation_id_peturb]\n",
    "peturb_test = pbmc[test_id_peturb]\n",
    "\n",
    "all = [control_train, control_valid, control_test, peturb_train, peturb_valid, peturb_test]\n",
    "for adata in all:\n",
    "    adata.obs[\"label\"] = list(adata.obs[\"cell_type\"])\n",
    "    adata.X = adata.X.toarray()\n",
    "    print(\"min\", np.max(adata.X))\n",
    "    print(\"max\", np.min(adata.X))\n",
    "    print()\n",
    "\n",
    "adatas_train = [control_train, peturb_train]\n",
    "adatas_valid = [control_valid, peturb_valid]\n",
    "adatas_test = [control_test, peturb_test]\n",
    "\n",
    "features_num = adatas_train[0].n_vars\n",
    "adatas_train\n"
   ]
  },
  {
   "cell_type": "markdown",
   "metadata": {},
   "source": [
    "### Prepare multi-task model\n",
    "\n",
    "UnitedNet attempts to solve two tasks, the cell type annotation and the cross modal prediction.\n",
    "\n",
    "Metrics overview:\n",
    "\n",
    "Translation\n",
    "- R2\n",
    "\n",
    "Classification\n",
    "- Confusion matrix\n",
    "- Adjusted Rank Index\n",
    "- Accuracy\n",
    "- Normalized Mutual information\n",
    "\n",
    "Both of the classification and the translation network's parameters are taken into account in the multi-task way orchestrated by UnitedNet."
   ]
  },
  {
   "cell_type": "code",
   "execution_count": 10,
   "metadata": {},
   "outputs": [
    {
     "name": "stdout",
     "output_type": "stream",
     "text": [
      "training\n"
     ]
    },
    {
     "name": "stderr",
     "output_type": "stream",
     "text": [
      "  0%|          | 0/50 [00:00<?, ?it/s]"
     ]
    },
    {
     "name": "stdout",
     "output_type": "stream",
     "text": [
      "model saved at ../saved_results/thesis/pbmc/multi_task/CD4T/train_epoch_1.pt \n",
      "\n",
      "\n",
      "\n",
      "Metrics                        Value\n",
      "-----------------------------  --------------------------------------\n",
      "R2                             [[-0.05472612 -0.05900957]\n",
      "                                [-1.84497035 -1.84497035]]\n",
      "Confusion Matrix               [[ 740    0    4    0    1    0    0]\n",
      "                                [   0  398    0    0    0   55    0]\n",
      "                                [   1    0 2262   84    1    0    1]\n",
      "                                [   0    0    0  389    0    0    1]\n",
      "                                [   0    0    0    0  338    1    0]\n",
      "                                [   4   12    0    0   29 1814    0]\n",
      "                                [   0    0    0    2    0    0  479]]\n",
      "Accuracy                       0.9703748488512697\n",
      "Adjusted Rand Index            0.9393411933748044\n",
      "Normalized Mutual Information  0.9276699113348741\n"
     ]
    },
    {
     "name": "stderr",
     "output_type": "stream",
     "text": [
      "  2%|▏         | 1/50 [00:08<06:54,  8.46s/it]"
     ]
    },
    {
     "name": "stdout",
     "output_type": "stream",
     "text": [
      "model saved at ../saved_results/thesis/pbmc/multi_task/CD4T/train_epoch_2.pt \n",
      "\n",
      "\n",
      "\n",
      "Metrics                        Value\n",
      "-----------------------------  --------------------------------------\n",
      "R2                             [[-0.05476969 -0.05476969]\n",
      "                                [-0.12899895 -0.12899895]]\n",
      "Confusion Matrix               [[ 745    0    0    0    0    0    0]\n",
      "                                [   0  453    0    0    0    0    0]\n",
      "                                [   0    0 2349    0    0    0    0]\n",
      "                                [   0    0    0  390    0    0    0]\n",
      "                                [   0    0    0    0  338    1    0]\n",
      "                                [   1    8    0    0    0 1849    1]\n",
      "                                [   0    0    0    0    0    0  481]]\n",
      "Accuracy                       0.9983373639661427\n",
      "Adjusted Rand Index            0.9967376651495392\n",
      "Normalized Mutual Information  0.9936836497302288\n"
     ]
    },
    {
     "name": "stderr",
     "output_type": "stream",
     "text": [
      "  4%|▍         | 2/50 [00:15<05:57,  7.45s/it]"
     ]
    },
    {
     "name": "stdout",
     "output_type": "stream",
     "text": [
      "model saved at ../saved_results/thesis/pbmc/multi_task/CD4T/train_epoch_3.pt \n",
      "\n",
      "\n",
      "\n",
      "Metrics                        Value\n",
      "-----------------------------  --------------------------------------\n",
      "R2                             [[-0.05476969 -0.05476969]\n",
      "                                [-0.01190785 -0.01190785]]\n",
      "Confusion Matrix               [[ 745    0    0    0    0    0    0]\n",
      "                                [   0  451    0    0    0    2    0]\n",
      "                                [   0    0 2349    0    0    0    0]\n",
      "                                [   0    0    0  390    0    0    0]\n",
      "                                [   0    0    0    0  339    0    0]\n",
      "                                [   2   10    0    0   40 1807    0]\n",
      "                                [   0    0    0    0    0    0  481]]\n",
      "Accuracy                       0.9918379685610641\n",
      "Adjusted Rand Index            0.9847986438519976\n",
      "Normalized Mutual Information  0.9778700907718905\n"
     ]
    },
    {
     "name": "stderr",
     "output_type": "stream",
     "text": [
      "  6%|▌         | 3/50 [00:21<05:20,  6.82s/it]"
     ]
    },
    {
     "name": "stdout",
     "output_type": "stream",
     "text": [
      "model saved at ../saved_results/thesis/pbmc/multi_task/CD4T/train_epoch_4.pt \n",
      "\n",
      "\n",
      "\n",
      "Metrics                        Value\n",
      "-----------------------------  --------------------------------------\n",
      "R2                             [[-0.05476969 -0.05476969]\n",
      "                                [-0.00429278 -0.00429278]]\n",
      "Confusion Matrix               [[ 745    0    0    0    0    0    0]\n",
      "                                [   0  453    0    0    0    0    0]\n",
      "                                [   0    0 2348    1    0    0    0]\n",
      "                                [   0    0    1  389    0    0    0]\n",
      "                                [   0    0    0    0  339    0    0]\n",
      "                                [   1    3    0    0    5 1845    5]\n",
      "                                [   0    0    0    5    1    0  475]]\n",
      "Accuracy                       0.9966747279322854\n",
      "Adjusted Rand Index            0.9945442156805141\n",
      "Normalized Mutual Information  0.987310230328031\n"
     ]
    },
    {
     "name": "stderr",
     "output_type": "stream",
     "text": [
      "  8%|▊         | 4/50 [00:27<05:06,  6.65s/it]"
     ]
    },
    {
     "name": "stdout",
     "output_type": "stream",
     "text": [
      "model saved at ../saved_results/thesis/pbmc/multi_task/CD4T/train_epoch_5.pt \n",
      "\n",
      "\n",
      "\n",
      "Metrics                        Value\n",
      "-----------------------------  --------------------------------------\n",
      "R2                             [[-0.05476969 -0.05476969]\n",
      "                                [-0.00394938 -0.00394938]]\n",
      "Confusion Matrix               [[ 745    0    0    0    0    0    0]\n",
      "                                [   0  453    0    0    0    0    0]\n",
      "                                [   0    0 2282   64    1    0    2]\n",
      "                                [   0    0    0  390    0    0    0]\n",
      "                                [   0    0    0    0  339    0    0]\n",
      "                                [   0    1    0    0    0 1858    0]\n",
      "                                [   0    0    0    0    0    0  481]]\n",
      "Accuracy                       0.9897218863361548\n",
      "Adjusted Rand Index            0.9766147246626197\n",
      "Normalized Mutual Information  0.9756725290021383\n"
     ]
    },
    {
     "name": "stderr",
     "output_type": "stream",
     "text": [
      " 10%|█         | 5/50 [00:34<04:59,  6.65s/it]"
     ]
    },
    {
     "name": "stdout",
     "output_type": "stream",
     "text": [
      "model saved at ../saved_results/thesis/pbmc/multi_task/CD4T/train_epoch_6.pt \n",
      "\n",
      "\n",
      "\n",
      "Metrics                        Value\n",
      "-----------------------------  --------------------------------------\n",
      "R2                             [[-0.05476969 -0.05476969]\n",
      "                                [-0.00438534 -0.00438534]]\n",
      "Confusion Matrix               [[ 745    0    0    0    0    0    0]\n",
      "                                [   0  452    0    0    0    1    0]\n",
      "                                [   1    0 2323   24    1    0    0]\n",
      "                                [   0    0    0  390    0    0    0]\n",
      "                                [   0    0    0    0  337    2    0]\n",
      "                                [   1    2    0    0    0 1855    1]\n",
      "                                [   0    0    0    0    0    0  481]]\n",
      "Accuracy                       0.9950120918984281\n",
      "Adjusted Rand Index            0.9888418414112929\n",
      "Normalized Mutual Information  0.9836185818147879\n"
     ]
    },
    {
     "name": "stderr",
     "output_type": "stream",
     "text": [
      " 12%|█▏        | 6/50 [00:40<04:51,  6.61s/it]"
     ]
    },
    {
     "name": "stdout",
     "output_type": "stream",
     "text": [
      "model saved at ../saved_results/thesis/pbmc/multi_task/CD4T/train_epoch_7.pt \n",
      "\n",
      "\n",
      "\n",
      "Metrics                        Value\n",
      "-----------------------------  --------------------------------------\n",
      "R2                             [[-0.05476969 -0.05476969]\n",
      "                                [-0.00462746 -0.00462746]]\n",
      "Confusion Matrix               [[ 745    0    0    0    0    0    0]\n",
      "                                [   0  453    0    0    0    0    0]\n",
      "                                [   1    0 2348    0    0    0    0]\n",
      "                                [   0    0    0  390    0    0    0]\n",
      "                                [   0    0    0    0  339    0    0]\n",
      "                                [   0    0    0    0    0 1859    0]\n",
      "                                [   0    0    0    0    0    0  481]]\n",
      "Accuracy                       0.9998488512696493\n",
      "Adjusted Rand Index            0.9996052627117882\n",
      "Normalized Mutual Information  0.9992561145216492\n"
     ]
    },
    {
     "name": "stderr",
     "output_type": "stream",
     "text": [
      " 14%|█▍        | 7/50 [00:47<04:46,  6.66s/it]"
     ]
    },
    {
     "name": "stdout",
     "output_type": "stream",
     "text": [
      "model saved at ../saved_results/thesis/pbmc/multi_task/CD4T/train_epoch_8.pt \n",
      "\n",
      "\n",
      "\n",
      "Metrics                        Value\n",
      "-----------------------------  --------------------------------------\n",
      "R2                             [[-0.05476969 -0.05476969]\n",
      "                                [-0.00551282 -0.00551282]]\n",
      "Confusion Matrix               [[ 745    0    0    0    0    0    0]\n",
      "                                [   0  453    0    0    0    0    0]\n",
      "                                [   0    0 2349    0    0    0    0]\n",
      "                                [   0    0    3  387    0    0    0]\n",
      "                                [   0    0    0    0  339    0    0]\n",
      "                                [   0    0    0    0    0 1859    0]\n",
      "                                [   0    0    0    0    0    0  481]]\n",
      "Accuracy                       0.999546553808948\n",
      "Adjusted Rand Index            0.9989530052056911\n",
      "Normalized Mutual Information  0.9981559644724224\n"
     ]
    },
    {
     "name": "stderr",
     "output_type": "stream",
     "text": [
      " 16%|█▌        | 8/50 [00:54<04:40,  6.68s/it]"
     ]
    },
    {
     "name": "stdout",
     "output_type": "stream",
     "text": [
      "model saved at ../saved_results/thesis/pbmc/multi_task/CD4T/train_epoch_9.pt \n",
      "\n",
      "\n",
      "\n",
      "Metrics                        Value\n",
      "-----------------------------  --------------------------------------\n",
      "R2                             [[-0.05476969 -0.05476969]\n",
      "                                [-0.00555034 -0.00555034]]\n",
      "Confusion Matrix               [[ 745    0    0    0    0    0    0]\n",
      "                                [   0  453    0    0    0    0    0]\n",
      "                                [   0    0 2349    0    0    0    0]\n",
      "                                [   0    0    0  390    0    0    0]\n",
      "                                [   0    0    0    0  339    0    0]\n",
      "                                [   0    0    0    0    0 1859    0]\n",
      "                                [   0    0    0    0    0    0  481]]\n",
      "Accuracy                       1.0\n",
      "Adjusted Rand Index            1.0\n",
      "Normalized Mutual Information  1.0\n"
     ]
    },
    {
     "name": "stderr",
     "output_type": "stream",
     "text": [
      " 18%|█▊        | 9/50 [01:00<04:28,  6.54s/it]"
     ]
    },
    {
     "name": "stdout",
     "output_type": "stream",
     "text": [
      "model saved at ../saved_results/thesis/pbmc/multi_task/CD4T/train_epoch_10.pt \n",
      "\n",
      "\n",
      "\n",
      "Metrics                        Value\n",
      "-----------------------------  --------------------------------------\n",
      "R2                             [[-0.05476969 -0.05476969]\n",
      "                                [-0.0057021  -0.0057021 ]]\n",
      "Confusion Matrix               [[ 744    0    1    0    0    0    0]\n",
      "                                [   0  453    0    0    0    0    0]\n",
      "                                [   0    0 2346    3    0    0    0]\n",
      "                                [   0    0    0  390    0    0    0]\n",
      "                                [   0    0    0    0  339    0    0]\n",
      "                                [   0    0    0    0    0 1859    0]\n",
      "                                [   0    0    0    0    0    0  481]]\n",
      "Accuracy                       0.9993954050785974\n",
      "Adjusted Rand Index            0.9985578566336064\n",
      "Normalized Mutual Information  0.9974122016927038\n"
     ]
    },
    {
     "name": "stderr",
     "output_type": "stream",
     "text": [
      " 20%|██        | 10/50 [01:07<04:23,  6.59s/it]"
     ]
    },
    {
     "name": "stdout",
     "output_type": "stream",
     "text": [
      "model saved at ../saved_results/thesis/pbmc/multi_task/CD4T/train_epoch_11.pt \n",
      "\n",
      "\n",
      "\n",
      "Metrics                        Value\n",
      "-----------------------------  --------------------------------------\n",
      "R2                             [[-0.05476969 -0.05476969]\n",
      "                                [-0.00605845 -0.00605845]]\n",
      "Confusion Matrix               [[ 745    0    0    0    0    0    0]\n",
      "                                [   0  453    0    0    0    0    0]\n",
      "                                [   0    0 2347    0    1    1    0]\n",
      "                                [   0    0    0  390    0    0    0]\n",
      "                                [   0    0    0    0  339    0    0]\n",
      "                                [   0    7    2    0   17 1833    0]\n",
      "                                [   0    0    0    0    0    0  481]]\n",
      "Accuracy                       0.9957678355501813\n",
      "Adjusted Rand Index            0.9912577802531397\n",
      "Normalized Mutual Information  0.9858553080100517\n"
     ]
    },
    {
     "name": "stderr",
     "output_type": "stream",
     "text": [
      " 22%|██▏       | 11/50 [01:13<04:15,  6.55s/it]"
     ]
    },
    {
     "name": "stdout",
     "output_type": "stream",
     "text": [
      "model saved at ../saved_results/thesis/pbmc/multi_task/CD4T/train_epoch_12.pt \n",
      "\n",
      "\n",
      "\n",
      "Metrics                        Value\n",
      "-----------------------------  --------------------------------------\n",
      "R2                             [[-0.05476969 -0.05476969]\n",
      "                                [-0.00644008 -0.00644008]]\n",
      "Confusion Matrix               [[ 745    0    0    0    0    0    0]\n",
      "                                [   0  451    0    0    0    2    0]\n",
      "                                [   0    0 2349    0    0    0    0]\n",
      "                                [   0    0    0  390    0    0    0]\n",
      "                                [   0    0    0    0  339    0    0]\n",
      "                                [   0    1    0    0    0 1858    0]\n",
      "                                [   0    0    0    0    0    0  481]]\n",
      "Accuracy                       0.999546553808948\n",
      "Adjusted Rand Index            0.9991161378041702\n",
      "Normalized Mutual Information  0.9979941644570681\n"
     ]
    },
    {
     "name": "stderr",
     "output_type": "stream",
     "text": [
      " 24%|██▍       | 12/50 [01:20<04:06,  6.49s/it]"
     ]
    },
    {
     "name": "stdout",
     "output_type": "stream",
     "text": [
      "model saved at ../saved_results/thesis/pbmc/multi_task/CD4T/train_epoch_13.pt \n",
      "\n",
      "\n",
      "\n",
      "Metrics                        Value\n",
      "-----------------------------  --------------------------------------\n",
      "R2                             [[-0.05476969 -0.05476969]\n",
      "                                [-0.00647214 -0.00647214]]\n",
      "Confusion Matrix               [[ 745    0    0    0    0    0    0]\n",
      "                                [   0  452    0    0    0    1    0]\n",
      "                                [   0    0 2349    0    0    0    0]\n",
      "                                [   0    0    0  390    0    0    0]\n",
      "                                [   0    1    0    0  332    6    0]\n",
      "                                [   0    0    0    0    0 1858    1]\n",
      "                                [   0    0    0    0    0    0  481]]\n",
      "Accuracy                       0.998639661426844\n",
      "Adjusted Rand Index            0.9976298880710341\n",
      "Normalized Mutual Information  0.994734805392876\n"
     ]
    },
    {
     "name": "stderr",
     "output_type": "stream",
     "text": [
      " 26%|██▌       | 13/50 [01:26<03:56,  6.39s/it]"
     ]
    },
    {
     "name": "stdout",
     "output_type": "stream",
     "text": [
      "model saved at ../saved_results/thesis/pbmc/multi_task/CD4T/train_epoch_14.pt \n",
      "\n",
      "\n",
      "\n",
      "Metrics                        Value\n",
      "-----------------------------  --------------------------------------\n",
      "R2                             [[-0.05476969 -0.05476969]\n",
      "                                [-0.00729888 -0.00729888]]\n",
      "Confusion Matrix               [[ 745    0    0    0    0    0    0]\n",
      "                                [   0  452    0    0    0    1    0]\n",
      "                                [   0    0 2349    0    0    0    0]\n",
      "                                [   0    0    0  390    0    0    0]\n",
      "                                [   0    0    0    0  339    0    0]\n",
      "                                [   0    0    0    0    0 1859    0]\n",
      "                                [   0    0    0    0    0    0  481]]\n",
      "Accuracy                       0.9998488512696493\n",
      "Adjusted Rand Index            0.9997051240746986\n",
      "Normalized Mutual Information  0.9992893182711852\n"
     ]
    },
    {
     "name": "stderr",
     "output_type": "stream",
     "text": [
      " 28%|██▊       | 14/50 [01:32<03:49,  6.38s/it]"
     ]
    },
    {
     "name": "stdout",
     "output_type": "stream",
     "text": [
      "model saved at ../saved_results/thesis/pbmc/multi_task/CD4T/train_epoch_15.pt \n",
      "\n",
      "\n",
      "\n",
      "Metrics                        Value\n",
      "-----------------------------  --------------------------------------\n",
      "R2                             [[-0.05476969 -0.05476969]\n",
      "                                [-0.00712604 -0.00712604]]\n",
      "Confusion Matrix               [[ 745    0    0    0    0    0    0]\n",
      "                                [   0  453    0    0    0    0    0]\n",
      "                                [   0    0 2347    2    0    0    0]\n",
      "                                [   0    0    0  390    0    0    0]\n",
      "                                [   0    0    0    0  339    0    0]\n",
      "                                [   0    0    0    0    1 1858    0]\n",
      "                                [   0    0    0    0    0    0  481]]\n",
      "Accuracy                       0.999546553808948\n",
      "Adjusted Rand Index            0.9990207506034441\n",
      "Normalized Mutual Information  0.9979997065908862\n"
     ]
    },
    {
     "name": "stderr",
     "output_type": "stream",
     "text": [
      " 30%|███       | 15/50 [01:39<03:44,  6.42s/it]"
     ]
    },
    {
     "name": "stdout",
     "output_type": "stream",
     "text": [
      "model saved at ../saved_results/thesis/pbmc/multi_task/CD4T/train_epoch_16.pt \n",
      "\n",
      "\n",
      "\n",
      "Metrics                        Value\n",
      "-----------------------------  --------------------------------------\n",
      "R2                             [[-0.05476969 -0.05476969]\n",
      "                                [-0.00765267 -0.00765267]]\n",
      "Confusion Matrix               [[ 745    0    0    0    0    0    0]\n",
      "                                [   0  453    0    0    0    0    0]\n",
      "                                [   0    0 2349    0    0    0    0]\n",
      "                                [   0    0    0  390    0    0    0]\n",
      "                                [   0    0    0    0  339    0    0]\n",
      "                                [   0    0    0    0    3 1856    0]\n",
      "                                [   0    0    0    0    0    0  481]]\n",
      "Accuracy                       0.999546553808948\n",
      "Adjusted Rand Index            0.9991594354660043\n",
      "Normalized Mutual Information  0.9982068829067328\n"
     ]
    },
    {
     "name": "stderr",
     "output_type": "stream",
     "text": [
      " 32%|███▏      | 16/50 [01:45<03:40,  6.47s/it]"
     ]
    },
    {
     "name": "stdout",
     "output_type": "stream",
     "text": [
      "model saved at ../saved_results/thesis/pbmc/multi_task/CD4T/train_epoch_17.pt \n",
      "\n",
      "\n",
      "\n",
      "Metrics                        Value\n",
      "-----------------------------  --------------------------------------\n",
      "R2                             [[-0.05476969 -0.05476969]\n",
      "                                [-0.00794911 -0.00794911]]\n",
      "Confusion Matrix               [[ 745    0    0    0    0    0    0]\n",
      "                                [   0  453    0    0    0    0    0]\n",
      "                                [   0    0 2349    0    0    0    0]\n",
      "                                [   0    0    0  390    0    0    0]\n",
      "                                [   0    0    0    0  339    0    0]\n",
      "                                [   0    0    0    0  111 1748    0]\n",
      "                                [   0    0    0    0    1    0  480]]\n",
      "Accuracy                       0.9830713422007256\n",
      "Adjusted Rand Index            0.970000833960853\n",
      "Normalized Mutual Information  0.9690961061744795\n"
     ]
    },
    {
     "name": "stderr",
     "output_type": "stream",
     "text": [
      " 34%|███▍      | 17/50 [01:52<03:41,  6.70s/it]"
     ]
    },
    {
     "name": "stdout",
     "output_type": "stream",
     "text": [
      "model saved at ../saved_results/thesis/pbmc/multi_task/CD4T/train_epoch_18.pt \n",
      "\n",
      "\n",
      "\n",
      "Metrics                        Value\n",
      "-----------------------------  --------------------------------------\n",
      "R2                             [[-0.05476969 -0.05476969]\n",
      "                                [-0.00801118 -0.00801118]]\n",
      "Confusion Matrix               [[ 745    0    0    0    0    0    0]\n",
      "                                [   0  453    0    0    0    0    0]\n",
      "                                [   0    0 2349    0    0    0    0]\n",
      "                                [   0    0    0  390    0    0    0]\n",
      "                                [   0    0    0    0  339    0    0]\n",
      "                                [   0    0    0    0    0 1859    0]\n",
      "                                [   0    0    0    0    0    0  481]]\n",
      "Accuracy                       1.0\n",
      "Adjusted Rand Index            1.0\n",
      "Normalized Mutual Information  1.0\n"
     ]
    },
    {
     "name": "stderr",
     "output_type": "stream",
     "text": [
      " 36%|███▌      | 18/50 [02:00<03:37,  6.81s/it]"
     ]
    },
    {
     "name": "stdout",
     "output_type": "stream",
     "text": [
      "model saved at ../saved_results/thesis/pbmc/multi_task/CD4T/train_epoch_19.pt \n",
      "\n",
      "\n",
      "\n",
      "Metrics                        Value\n",
      "-----------------------------  --------------------------------------\n",
      "R2                             [[-0.05476969 -0.05476969]\n",
      "                                [-0.00827838 -0.00827838]]\n",
      "Confusion Matrix               [[ 745    0    0    0    0    0    0]\n",
      "                                [   0  453    0    0    0    0    0]\n",
      "                                [   0    0 2349    0    0    0    0]\n",
      "                                [   0    0    0  390    0    0    0]\n",
      "                                [   0    0    0    0  339    0    0]\n",
      "                                [   0    0    0    0    0 1859    0]\n",
      "                                [   0    0    0    0    0    0  481]]\n",
      "Accuracy                       1.0\n",
      "Adjusted Rand Index            1.0\n",
      "Normalized Mutual Information  1.0\n"
     ]
    },
    {
     "name": "stderr",
     "output_type": "stream",
     "text": [
      " 38%|███▊      | 19/50 [02:07<03:37,  7.03s/it]"
     ]
    },
    {
     "name": "stdout",
     "output_type": "stream",
     "text": [
      "model saved at ../saved_results/thesis/pbmc/multi_task/CD4T/train_epoch_20.pt \n",
      "\n",
      "\n",
      "\n",
      "Metrics                        Value\n",
      "-----------------------------  --------------------------------------\n",
      "R2                             [[-0.05476969 -0.05476969]\n",
      "                                [-0.00832983 -0.00832983]]\n",
      "Confusion Matrix               [[ 745    0    0    0    0    0    0]\n",
      "                                [   0  453    0    0    0    0    0]\n",
      "                                [   0    0 2349    0    0    0    0]\n",
      "                                [   0    0    0  390    0    0    0]\n",
      "                                [   0    0    0    0  339    0    0]\n",
      "                                [   0    0    0    0    0 1859    0]\n",
      "                                [   0    0    0    0    0    0  481]]\n",
      "Accuracy                       1.0\n",
      "Adjusted Rand Index            1.0\n",
      "Normalized Mutual Information  1.0\n"
     ]
    },
    {
     "name": "stderr",
     "output_type": "stream",
     "text": [
      " 40%|████      | 20/50 [02:14<03:30,  7.01s/it]"
     ]
    },
    {
     "name": "stdout",
     "output_type": "stream",
     "text": [
      "model saved at ../saved_results/thesis/pbmc/multi_task/CD4T/train_epoch_21.pt \n",
      "\n",
      "\n",
      "\n",
      "Metrics                        Value\n",
      "-----------------------------  --------------------------------------\n",
      "R2                             [[-0.05476969 -0.05476969]\n",
      "                                [-0.00879232 -0.00879232]]\n",
      "Confusion Matrix               [[ 745    0    0    0    0    0    0]\n",
      "                                [   0  453    0    0    0    0    0]\n",
      "                                [   0    0 2349    0    0    0    0]\n",
      "                                [   0    0    0  390    0    0    0]\n",
      "                                [   0    0    0    0  339    0    0]\n",
      "                                [   0    0    0    0    0 1859    0]\n",
      "                                [   0    0    0    0    0    0  481]]\n",
      "Accuracy                       1.0\n",
      "Adjusted Rand Index            1.0\n",
      "Normalized Mutual Information  1.0\n"
     ]
    },
    {
     "name": "stderr",
     "output_type": "stream",
     "text": [
      " 42%|████▏     | 21/50 [02:21<03:22,  6.98s/it]"
     ]
    },
    {
     "name": "stdout",
     "output_type": "stream",
     "text": [
      "model saved at ../saved_results/thesis/pbmc/multi_task/CD4T/train_epoch_22.pt \n",
      "\n",
      "\n",
      "\n",
      "Metrics                        Value\n",
      "-----------------------------  --------------------------------------\n",
      "R2                             [[-0.05476969 -0.05476969]\n",
      "                                [-0.00889857 -0.00889857]]\n",
      "Confusion Matrix               [[ 745    0    0    0    0    0    0]\n",
      "                                [   0  453    0    0    0    0    0]\n",
      "                                [   9    0 2340    0    0    0    0]\n",
      "                                [   0    0    0  390    0    0    0]\n",
      "                                [   0    0    0    0  338    1    0]\n",
      "                                [   0    0    0    0    0 1859    0]\n",
      "                                [   0    0    0    0    0    0  481]]\n",
      "Accuracy                       0.9984885126964933\n",
      "Adjusted Rand Index            0.9961732441202164\n",
      "Normalized Mutual Information  0.9944046971645242\n"
     ]
    },
    {
     "name": "stderr",
     "output_type": "stream",
     "text": [
      " 44%|████▍     | 22/50 [02:27<03:09,  6.76s/it]"
     ]
    },
    {
     "name": "stdout",
     "output_type": "stream",
     "text": [
      "model saved at ../saved_results/thesis/pbmc/multi_task/CD4T/train_epoch_23.pt \n",
      "\n",
      "\n",
      "\n",
      "Metrics                        Value\n",
      "-----------------------------  --------------------------------------\n",
      "R2                             [[-0.05476969 -0.05476969]\n",
      "                                [-0.00935492 -0.00935492]]\n",
      "Confusion Matrix               [[ 745    0    0    0    0    0    0]\n",
      "                                [   0  453    0    0    0    0    0]\n",
      "                                [   0    0 2349    0    0    0    0]\n",
      "                                [   0    0    0  384    0    0    6]\n",
      "                                [   0    0    0    0  339    0    0]\n",
      "                                [   0    0    0    0    0 1859    0]\n",
      "                                [   0    0    0    0    0    0  481]]\n",
      "Accuracy                       0.999093107617896\n",
      "Adjusted Rand Index            0.999337736098755\n",
      "Normalized Mutual Information  0.9971222733333066\n"
     ]
    },
    {
     "name": "stderr",
     "output_type": "stream",
     "text": [
      " 46%|████▌     | 23/50 [02:33<02:57,  6.58s/it]"
     ]
    },
    {
     "name": "stdout",
     "output_type": "stream",
     "text": [
      "model saved at ../saved_results/thesis/pbmc/multi_task/CD4T/train_epoch_24.pt \n",
      "\n",
      "\n",
      "\n",
      "Metrics                        Value\n",
      "-----------------------------  --------------------------------------\n",
      "R2                             [[-0.05476969 -0.05476969]\n",
      "                                [-0.00971907 -0.00971907]]\n",
      "Confusion Matrix               [[ 745    0    0    0    0    0    0]\n",
      "                                [   0  451    0    0    0    2    0]\n",
      "                                [   0    0 2349    0    0    0    0]\n",
      "                                [   0    0    0  390    0    0    0]\n",
      "                                [   0    0    0    0  339    0    0]\n",
      "                                [   0    0    0    0    0 1859    0]\n",
      "                                [   0    0    0    2    0    0  479]]\n",
      "Accuracy                       0.9993954050785974\n",
      "Adjusted Rand Index            0.9991888081884325\n",
      "Normalized Mutual Information  0.9975454906786807\n"
     ]
    },
    {
     "name": "stderr",
     "output_type": "stream",
     "text": [
      " 48%|████▊     | 24/50 [02:41<02:56,  6.78s/it]"
     ]
    },
    {
     "name": "stdout",
     "output_type": "stream",
     "text": [
      "model saved at ../saved_results/thesis/pbmc/multi_task/CD4T/train_epoch_25.pt \n",
      "\n",
      "\n",
      "\n",
      "Metrics                        Value\n",
      "-----------------------------  --------------------------------------\n",
      "R2                             [[-0.05476969 -0.05476968]\n",
      "                                [-0.00961243 -0.00961243]]\n",
      "Confusion Matrix               [[ 745    0    0    0    0    0    0]\n",
      "                                [   0  453    0    0    0    0    0]\n",
      "                                [   0    0 2349    0    0    0    0]\n",
      "                                [   0    0    0  390    0    0    0]\n",
      "                                [   0    0    0    0  339    0    0]\n",
      "                                [   0    0    0    0    0 1859    0]\n",
      "                                [   0    0    0    0    0    0  481]]\n",
      "Accuracy                       1.0\n",
      "Adjusted Rand Index            1.0\n",
      "Normalized Mutual Information  1.0\n"
     ]
    },
    {
     "name": "stderr",
     "output_type": "stream",
     "text": [
      " 50%|█████     | 25/50 [02:48<02:53,  6.94s/it]"
     ]
    },
    {
     "name": "stdout",
     "output_type": "stream",
     "text": [
      "model saved at ../saved_results/thesis/pbmc/multi_task/CD4T/train_epoch_26.pt \n",
      "\n",
      "\n",
      "\n",
      "Metrics                        Value\n",
      "-----------------------------  --------------------------------------\n",
      "R2                             [[-0.05476969 -0.05476968]\n",
      "                                [-0.00992751 -0.00992751]]\n",
      "Confusion Matrix               [[ 745    0    0    0    0    0    0]\n",
      "                                [   0  453    0    0    0    0    0]\n",
      "                                [   0    0 2349    0    0    0    0]\n",
      "                                [   0    0    0  390    0    0    0]\n",
      "                                [   0    0    0    0  339    0    0]\n",
      "                                [   0    0    0    0    0 1859    0]\n",
      "                                [   0    0    0    0    0    0  481]]\n",
      "Accuracy                       1.0\n",
      "Adjusted Rand Index            1.0\n",
      "Normalized Mutual Information  1.0\n"
     ]
    },
    {
     "name": "stderr",
     "output_type": "stream",
     "text": [
      " 52%|█████▏    | 26/50 [02:54<02:42,  6.79s/it]"
     ]
    },
    {
     "name": "stdout",
     "output_type": "stream",
     "text": [
      "model saved at ../saved_results/thesis/pbmc/multi_task/CD4T/train_epoch_27.pt \n",
      "\n",
      "\n",
      "\n",
      "Metrics                        Value\n",
      "-----------------------------  --------------------------------------\n",
      "R2                             [[-0.05506452 -0.05506452]\n",
      "                                [-0.00996751 -0.00996751]]\n",
      "Confusion Matrix               [[ 745    0    0    0    0    0    0]\n",
      "                                [   0  453    0    0    0    0    0]\n",
      "                                [   0    0 2349    0    0    0    0]\n",
      "                                [   0    0    0  390    0    0    0]\n",
      "                                [   0    0    0    0  339    0    0]\n",
      "                                [   0    0    0    0    0 1859    0]\n",
      "                                [   0    0    0    0    0    0  481]]\n",
      "Accuracy                       1.0\n",
      "Adjusted Rand Index            1.0\n",
      "Normalized Mutual Information  1.0\n"
     ]
    },
    {
     "name": "stderr",
     "output_type": "stream",
     "text": [
      " 54%|█████▍    | 27/50 [03:03<02:46,  7.25s/it]"
     ]
    },
    {
     "name": "stdout",
     "output_type": "stream",
     "text": [
      "model saved at ../saved_results/thesis/pbmc/multi_task/CD4T/train_epoch_28.pt \n",
      "\n",
      "\n",
      "\n",
      "Metrics                        Value\n",
      "-----------------------------  --------------------------------------\n",
      "R2                             [[-0.05506452 -0.05506452]\n",
      "                                [-0.01036059 -0.01036059]]\n",
      "Confusion Matrix               [[ 745    0    0    0    0    0    0]\n",
      "                                [   0  453    0    0    0    0    0]\n",
      "                                [   0    0 2349    0    0    0    0]\n",
      "                                [   0    0    0  390    0    0    0]\n",
      "                                [   0    0    0    0  339    0    0]\n",
      "                                [   0    0    0    0    0 1859    0]\n",
      "                                [   0    0    0    0    0    0  481]]\n",
      "Accuracy                       1.0\n",
      "Adjusted Rand Index            1.0\n",
      "Normalized Mutual Information  1.0\n"
     ]
    },
    {
     "name": "stderr",
     "output_type": "stream",
     "text": [
      " 56%|█████▌    | 28/50 [03:10<02:42,  7.40s/it]"
     ]
    },
    {
     "name": "stdout",
     "output_type": "stream",
     "text": [
      "model saved at ../saved_results/thesis/pbmc/multi_task/CD4T/train_epoch_29.pt \n",
      "\n",
      "\n",
      "\n",
      "Metrics                        Value\n",
      "-----------------------------  --------------------------------------\n",
      "R2                             [[-0.05506452 -0.05563611]\n",
      "                                [-0.01018077 -0.01018077]]\n",
      "Confusion Matrix               [[ 745    0    0    0    0    0    0]\n",
      "                                [   0  453    0    0    0    0    0]\n",
      "                                [   0    0 2349    0    0    0    0]\n",
      "                                [   0    0    0  390    0    0    0]\n",
      "                                [   0    0    0    0  339    0    0]\n",
      "                                [   0    9    0    0    0 1850    0]\n",
      "                                [   0    0    0    0    0    0  481]]\n",
      "Accuracy                       0.998639661426844\n",
      "Adjusted Rand Index            0.9973527881760367\n",
      "Normalized Mutual Information  0.9954003829193265\n"
     ]
    },
    {
     "name": "stderr",
     "output_type": "stream",
     "text": [
      " 58%|█████▊    | 29/50 [03:17<02:32,  7.25s/it]"
     ]
    },
    {
     "name": "stdout",
     "output_type": "stream",
     "text": [
      "model saved at ../saved_results/thesis/pbmc/multi_task/CD4T/train_epoch_30.pt \n",
      "\n",
      "\n",
      "\n",
      "Metrics                        Value\n",
      "-----------------------------  --------------------------------------\n",
      "R2                             [[-0.05506452 -0.06849693]\n",
      "                                [-0.01046568 -0.01046568]]\n",
      "Confusion Matrix               [[ 745    0    0    0    0    0    0]\n",
      "                                [   0  453    0    0    0    0    0]\n",
      "                                [   0    0 2349    0    0    0    0]\n",
      "                                [   0    0    0  390    0    0    0]\n",
      "                                [   0    0    0    0  339    0    0]\n",
      "                                [   0    0    0    0    0 1859    0]\n",
      "                                [   0    0    0    0    0    0  481]]\n",
      "Accuracy                       1.0\n",
      "Adjusted Rand Index            1.0\n",
      "Normalized Mutual Information  1.0\n"
     ]
    },
    {
     "name": "stderr",
     "output_type": "stream",
     "text": [
      " 60%|██████    | 30/50 [03:24<02:22,  7.11s/it]"
     ]
    },
    {
     "name": "stdout",
     "output_type": "stream",
     "text": [
      "model saved at ../saved_results/thesis/pbmc/multi_task/CD4T/train_epoch_31.pt \n",
      "\n",
      "\n",
      "\n",
      "Metrics                        Value\n",
      "-----------------------------  --------------------------------------\n",
      "R2                             [[-0.05506452 -0.05506452]\n",
      "                                [-0.01078609 -0.01078609]]\n",
      "Confusion Matrix               [[ 745    0    0    0    0    0    0]\n",
      "                                [   0  453    0    0    0    0    0]\n",
      "                                [   0    0 2349    0    0    0    0]\n",
      "                                [   0    0    0  390    0    0    0]\n",
      "                                [   0    0    0    0  339    0    0]\n",
      "                                [   0    0    0    0    0 1859    0]\n",
      "                                [   0    0    0    0    0    0  481]]\n",
      "Accuracy                       1.0\n",
      "Adjusted Rand Index            1.0\n",
      "Normalized Mutual Information  1.0\n"
     ]
    },
    {
     "name": "stderr",
     "output_type": "stream",
     "text": [
      " 62%|██████▏   | 31/50 [03:31<02:12,  6.99s/it]"
     ]
    },
    {
     "name": "stdout",
     "output_type": "stream",
     "text": [
      "model saved at ../saved_results/thesis/pbmc/multi_task/CD4T/train_epoch_32.pt \n",
      "\n",
      "\n",
      "\n",
      "Metrics                        Value\n",
      "-----------------------------  --------------------------------------\n",
      "R2                             [[-0.05506452 -0.05506452]\n",
      "                                [-0.01084994 -0.01084994]]\n",
      "Confusion Matrix               [[ 745    0    0    0    0    0    0]\n",
      "                                [   0  453    0    0    0    0    0]\n",
      "                                [   0    0 2349    0    0    0    0]\n",
      "                                [   0    0    0  390    0    0    0]\n",
      "                                [   0    0    0    0  339    0    0]\n",
      "                                [   0    0    0    0    0 1859    0]\n",
      "                                [   0    0    0    0    0    0  481]]\n",
      "Accuracy                       1.0\n",
      "Adjusted Rand Index            1.0\n",
      "Normalized Mutual Information  1.0\n"
     ]
    },
    {
     "name": "stderr",
     "output_type": "stream",
     "text": [
      " 64%|██████▍   | 32/50 [03:37<02:03,  6.88s/it]"
     ]
    },
    {
     "name": "stdout",
     "output_type": "stream",
     "text": [
      "model saved at ../saved_results/thesis/pbmc/multi_task/CD4T/train_epoch_33.pt \n",
      "\n",
      "\n",
      "\n",
      "Metrics                        Value\n",
      "-----------------------------  --------------------------------------\n",
      "R2                             [[-0.05506452 -0.05520742]\n",
      "                                [-0.01097941 -0.01097941]]\n",
      "Confusion Matrix               [[ 745    0    0    0    0    0    0]\n",
      "                                [   0  453    0    0    0    0    0]\n",
      "                                [   0    0 2349    0    0    0    0]\n",
      "                                [   0    0    0  390    0    0    0]\n",
      "                                [   0    0    0    0  339    0    0]\n",
      "                                [   0    0    0    0    0 1859    0]\n",
      "                                [   0    0    0    0    0    0  481]]\n",
      "Accuracy                       1.0\n",
      "Adjusted Rand Index            1.0\n",
      "Normalized Mutual Information  1.0\n"
     ]
    },
    {
     "name": "stderr",
     "output_type": "stream",
     "text": [
      " 66%|██████▌   | 33/50 [03:44<01:54,  6.71s/it]"
     ]
    },
    {
     "name": "stdout",
     "output_type": "stream",
     "text": [
      "model saved at ../saved_results/thesis/pbmc/multi_task/CD4T/train_epoch_34.pt \n",
      "\n",
      "\n",
      "\n",
      "Metrics                        Value\n",
      "-----------------------------  --------------------------------------\n",
      "R2                             [[-0.05506452 -0.05549321]\n",
      "                                [-0.01141557 -0.01141557]]\n",
      "Confusion Matrix               [[ 745    0    0    0    0    0    0]\n",
      "                                [   0  453    0    0    0    0    0]\n",
      "                                [   0    0 2349    0    0    0    0]\n",
      "                                [   0    0    0  390    0    0    0]\n",
      "                                [   0    0    0    0  339    0    0]\n",
      "                                [   0    0    0    0    0 1859    0]\n",
      "                                [   0    0    0    0    0    0  481]]\n",
      "Accuracy                       1.0\n",
      "Adjusted Rand Index            1.0\n",
      "Normalized Mutual Information  1.0\n"
     ]
    },
    {
     "name": "stderr",
     "output_type": "stream",
     "text": [
      " 68%|██████▊   | 34/50 [03:51<01:48,  6.77s/it]"
     ]
    },
    {
     "name": "stdout",
     "output_type": "stream",
     "text": [
      "model saved at ../saved_results/thesis/pbmc/multi_task/CD4T/train_epoch_35.pt \n",
      "\n",
      "\n",
      "\n",
      "Metrics                        Value\n",
      "-----------------------------  --------------------------------------\n",
      "R2                             [[-0.05506452 -0.05506452]\n",
      "                                [-0.01111746 -0.01111746]]\n",
      "Confusion Matrix               [[ 744    0    0    1    0    0    0]\n",
      "                                [   0  453    0    0    0    0    0]\n",
      "                                [   0    0 2301   48    0    0    0]\n",
      "                                [   0    0    0  390    0    0    0]\n",
      "                                [   0    0    0    0  339    0    0]\n",
      "                                [   0    0    0    0    0 1859    0]\n",
      "                                [   0    0    0    0    0    0  481]]\n",
      "Accuracy                       0.9925937122128174\n",
      "Adjusted Rand Index            0.9832614624128413\n",
      "Normalized Mutual Information  0.9818883585728778\n"
     ]
    },
    {
     "name": "stderr",
     "output_type": "stream",
     "text": [
      " 70%|███████   | 35/50 [03:58<01:43,  6.92s/it]"
     ]
    },
    {
     "name": "stdout",
     "output_type": "stream",
     "text": [
      "model saved at ../saved_results/thesis/pbmc/multi_task/CD4T/train_epoch_36.pt \n",
      "\n",
      "\n",
      "\n",
      "Metrics                        Value\n",
      "-----------------------------  --------------------------------------\n",
      "R2                             [[-0.05506452 -0.05506452]\n",
      "                                [-0.00866119 -0.00866119]]\n",
      "Confusion Matrix               [[ 745    0    0    0    0    0    0]\n",
      "                                [   0  453    0    0    0    0    0]\n",
      "                                [   0    0 2347    2    0    0    0]\n",
      "                                [   0    0    0  390    0    0    0]\n",
      "                                [   0    0    0    0  339    0    0]\n",
      "                                [   0    0    0    0    0 1859    0]\n",
      "                                [   0    0    0    0    0    0  481]]\n",
      "Accuracy                       0.9996977025392987\n",
      "Adjusted Rand Index            0.9993012830728246\n",
      "Normalized Mutual Information  0.998696984374044\n"
     ]
    },
    {
     "name": "stderr",
     "output_type": "stream",
     "text": [
      " 72%|███████▏  | 36/50 [04:06<01:43,  7.40s/it]"
     ]
    },
    {
     "name": "stdout",
     "output_type": "stream",
     "text": [
      "model saved at ../saved_results/thesis/pbmc/multi_task/CD4T/train_epoch_37.pt \n",
      "\n",
      "\n",
      "\n",
      "Metrics                        Value\n",
      "-----------------------------  --------------------------------------\n",
      "R2                             [[-0.05506452 -0.06849495]\n",
      "                                [-0.00169769 -0.00169769]]\n",
      "Confusion Matrix               [[ 745    0    0    0    0    0    0]\n",
      "                                [   0  453    0    0    0    0    0]\n",
      "                                [   0    0 2349    0    0    0    0]\n",
      "                                [   0    0    0  390    0    0    0]\n",
      "                                [   0    0    0    0  339    0    0]\n",
      "                                [   0  433    0    0    0 1426    0]\n",
      "                                [   0    0    0    0    0    0  481]]\n",
      "Accuracy                       0.9345525997581621\n",
      "Adjusted Rand Index            0.8931154133209355\n",
      "Normalized Mutual Information  0.9277161816357347\n"
     ]
    },
    {
     "name": "stderr",
     "output_type": "stream",
     "text": [
      " 74%|███████▍  | 37/50 [04:14<01:35,  7.33s/it]"
     ]
    },
    {
     "name": "stdout",
     "output_type": "stream",
     "text": [
      "model saved at ../saved_results/thesis/pbmc/multi_task/CD4T/train_epoch_38.pt \n",
      "\n",
      "\n",
      "\n",
      "Metrics                        Value\n",
      "-----------------------------  --------------------------------------\n",
      "R2                             [[-0.05642027 -0.05642027]\n",
      "                                [ 0.00431911  0.00431911]]\n",
      "Confusion Matrix               [[ 745    0    0    0    0    0    0]\n",
      "                                [   0  453    0    0    0    0    0]\n",
      "                                [   0    0 2349    0    0    0    0]\n",
      "                                [   0    0    0  390    0    0    0]\n",
      "                                [   0    0    0    0  339    0    0]\n",
      "                                [   0    1    0    0    0 1858    0]\n",
      "                                [   0    0    0    0    0    0  481]]\n",
      "Accuracy                       0.9998488512696493\n",
      "Adjusted Rand Index            0.9997050677033135\n",
      "Normalized Mutual Information  0.9992893335825449\n"
     ]
    },
    {
     "name": "stderr",
     "output_type": "stream",
     "text": [
      " 76%|███████▌  | 38/50 [04:21<01:27,  7.29s/it]"
     ]
    },
    {
     "name": "stdout",
     "output_type": "stream",
     "text": [
      "model saved at ../saved_results/thesis/pbmc/multi_task/CD4T/train_epoch_39.pt \n",
      "\n",
      "\n",
      "\n",
      "Metrics                        Value\n",
      "-----------------------------  --------------------------------------\n",
      "R2                             [[-0.05642027 -0.05642027]\n",
      "                                [ 0.0043975   0.0043975 ]]\n",
      "Confusion Matrix               [[ 745    0    0    0    0    0    0]\n",
      "                                [   0  453    0    0    0    0    0]\n",
      "                                [   0    0 2349    0    0    0    0]\n",
      "                                [   0    0    0  390    0    0    0]\n",
      "                                [   0    0    0    0  339    0    0]\n",
      "                                [   0    0    0    0    0 1859    0]\n",
      "                                [   0    0    0    0    0    0  481]]\n",
      "Accuracy                       1.0\n",
      "Adjusted Rand Index            1.0\n",
      "Normalized Mutual Information  1.0\n"
     ]
    },
    {
     "name": "stderr",
     "output_type": "stream",
     "text": [
      " 78%|███████▊  | 39/50 [04:28<01:19,  7.21s/it]"
     ]
    },
    {
     "name": "stdout",
     "output_type": "stream",
     "text": [
      "model saved at ../saved_results/thesis/pbmc/multi_task/CD4T/train_epoch_40.pt \n",
      "\n",
      "\n",
      "\n",
      "Metrics                        Value\n",
      "-----------------------------  --------------------------------------\n",
      "R2                             [[-0.05642027 -0.06670892]\n",
      "                                [ 0.00398215  0.00398215]]\n",
      "Confusion Matrix               [[ 745    0    0    0    0    0    0]\n",
      "                                [   0  453    0    0    0    0    0]\n",
      "                                [   0    0 2348    1    0    0    0]\n",
      "                                [   0    0    0  390    0    0    0]\n",
      "                                [   0    0    0    0  339    0    0]\n",
      "                                [   0    0    0    0    0 1859    0]\n",
      "                                [   0    0    3    9    0    0  469]]\n",
      "Accuracy                       0.9980350665054414\n",
      "Adjusted Rand Index            0.9975815309974926\n",
      "Normalized Mutual Information  0.9934281313772423\n"
     ]
    },
    {
     "name": "stderr",
     "output_type": "stream",
     "text": [
      " 80%|████████  | 40/50 [04:35<01:11,  7.16s/it]"
     ]
    },
    {
     "name": "stdout",
     "output_type": "stream",
     "text": [
      "model saved at ../saved_results/thesis/pbmc/multi_task/CD4T/train_epoch_41.pt \n",
      "\n",
      "\n",
      "\n",
      "Metrics                        Value\n",
      "-----------------------------  --------------------------------------\n",
      "R2                             [[-0.05642027 -0.05642027]\n",
      "                                [ 0.00396012  0.00396012]]\n",
      "Confusion Matrix               [[ 745    0    0    0    0    0    0]\n",
      "                                [   0  453    0    0    0    0    0]\n",
      "                                [   0    0 2349    0    0    0    0]\n",
      "                                [   0    0    0  390    0    0    0]\n",
      "                                [   0    0    0    0  339    0    0]\n",
      "                                [   0    0    0    0    0 1859    0]\n",
      "                                [   0    0    0    0    0    0  481]]\n",
      "Accuracy                       1.0\n",
      "Adjusted Rand Index            1.0\n",
      "Normalized Mutual Information  1.0\n"
     ]
    },
    {
     "name": "stderr",
     "output_type": "stream",
     "text": [
      " 82%|████████▏ | 41/50 [04:42<01:03,  7.10s/it]"
     ]
    },
    {
     "name": "stdout",
     "output_type": "stream",
     "text": [
      "model saved at ../saved_results/thesis/pbmc/multi_task/CD4T/train_epoch_42.pt \n",
      "\n",
      "\n",
      "\n",
      "Metrics                        Value\n",
      "-----------------------------  --------------------------------------\n",
      "R2                             [[-0.05642027 -0.05642027]\n",
      "                                [ 0.00360769  0.00360769]]\n",
      "Confusion Matrix               [[ 745    0    0    0    0    0    0]\n",
      "                                [   0  453    0    0    0    0    0]\n",
      "                                [   0    0 2349    0    0    0    0]\n",
      "                                [   0    0    0  390    0    0    0]\n",
      "                                [   0    0    0    0  339    0    0]\n",
      "                                [   0    0    0    0    0 1859    0]\n",
      "                                [   0    0    0    0    0    0  481]]\n",
      "Accuracy                       1.0\n",
      "Adjusted Rand Index            1.0\n",
      "Normalized Mutual Information  1.0\n"
     ]
    },
    {
     "name": "stderr",
     "output_type": "stream",
     "text": [
      " 84%|████████▍ | 42/50 [04:49<00:56,  7.01s/it]"
     ]
    },
    {
     "name": "stdout",
     "output_type": "stream",
     "text": [
      "model saved at ../saved_results/thesis/pbmc/multi_task/CD4T/train_epoch_43.pt \n",
      "\n",
      "\n",
      "\n",
      "Metrics                        Value\n",
      "-----------------------------  --------------------------------------\n",
      "R2                             [[-0.05642027 -0.05642027]\n",
      "                                [ 0.00350734  0.00350734]]\n",
      "Confusion Matrix               [[ 745    0    0    0    0    0    0]\n",
      "                                [   0  453    0    0    0    0    0]\n",
      "                                [   0    0 2349    0    0    0    0]\n",
      "                                [   0    0    0  390    0    0    0]\n",
      "                                [   0    0    0    0  339    0    0]\n",
      "                                [   0    2    0    0    0 1857    0]\n",
      "                                [   0    0    0    0    0    0  481]]\n",
      "Accuracy                       0.9996977025392987\n",
      "Adjusted Rand Index            0.9994103344058928\n",
      "Normalized Mutual Information  0.9987046261815996\n"
     ]
    },
    {
     "name": "stderr",
     "output_type": "stream",
     "text": [
      " 86%|████████▌ | 43/50 [04:56<00:50,  7.21s/it]"
     ]
    },
    {
     "name": "stdout",
     "output_type": "stream",
     "text": [
      "model saved at ../saved_results/thesis/pbmc/multi_task/CD4T/train_epoch_44.pt \n",
      "\n",
      "\n",
      "\n",
      "Metrics                        Value\n",
      "-----------------------------  --------------------------------------\n",
      "R2                             [[-0.05642027 -0.05642027]\n",
      "                                [ 0.00304605  0.00304605]]\n",
      "Confusion Matrix               [[ 745    0    0    0    0    0    0]\n",
      "                                [   0  453    0    0    0    0    0]\n",
      "                                [   0    0 2349    0    0    0    0]\n",
      "                                [   0    0    0  390    0    0    0]\n",
      "                                [   0    0    0    0  339    0    0]\n",
      "                                [   0    0    0    0    0 1859    0]\n",
      "                                [   0    0    0    0    0    0  481]]\n",
      "Accuracy                       1.0\n",
      "Adjusted Rand Index            1.0\n",
      "Normalized Mutual Information  1.0\n"
     ]
    },
    {
     "name": "stderr",
     "output_type": "stream",
     "text": [
      " 88%|████████▊ | 44/50 [05:04<00:44,  7.45s/it]"
     ]
    },
    {
     "name": "stdout",
     "output_type": "stream",
     "text": [
      "model saved at ../saved_results/thesis/pbmc/multi_task/CD4T/train_epoch_45.pt \n",
      "\n",
      "\n",
      "\n",
      "Metrics                        Value\n",
      "-----------------------------  --------------------------------------\n",
      "R2                             [[-0.05642027 -0.05642027]\n",
      "                                [ 0.00348069  0.00348069]]\n",
      "Confusion Matrix               [[ 745    0    0    0    0    0    0]\n",
      "                                [   0  453    0    0    0    0    0]\n",
      "                                [   0    0 2349    0    0    0    0]\n",
      "                                [   0    0    0  390    0    0    0]\n",
      "                                [   0    0    0    0  339    0    0]\n",
      "                                [   0    0    0    0    0 1859    0]\n",
      "                                [   0    0    0    0    0    0  481]]\n",
      "Accuracy                       1.0\n",
      "Adjusted Rand Index            1.0\n",
      "Normalized Mutual Information  1.0\n"
     ]
    },
    {
     "name": "stderr",
     "output_type": "stream",
     "text": [
      " 90%|█████████ | 45/50 [05:12<00:37,  7.52s/it]"
     ]
    },
    {
     "name": "stdout",
     "output_type": "stream",
     "text": [
      "model saved at ../saved_results/thesis/pbmc/multi_task/CD4T/train_epoch_46.pt \n",
      "\n",
      "\n",
      "\n",
      "Metrics                        Value\n",
      "-----------------------------  --------------------------------------\n",
      "R2                             [[-0.05642027 -0.05642027]\n",
      "                                [ 0.00333501  0.00333501]]\n",
      "Confusion Matrix               [[ 745    0    0    0    0    0    0]\n",
      "                                [   0  453    0    0    0    0    0]\n",
      "                                [   0    0 2349    0    0    0    0]\n",
      "                                [   0    0    0  390    0    0    0]\n",
      "                                [   0    0    0    0  339    0    0]\n",
      "                                [   0    0    0    0    0 1859    0]\n",
      "                                [   0    0    0    0    0    0  481]]\n",
      "Accuracy                       1.0\n",
      "Adjusted Rand Index            1.0\n",
      "Normalized Mutual Information  1.0\n"
     ]
    },
    {
     "name": "stderr",
     "output_type": "stream",
     "text": [
      " 92%|█████████▏| 46/50 [05:19<00:29,  7.32s/it]"
     ]
    },
    {
     "name": "stdout",
     "output_type": "stream",
     "text": [
      "model saved at ../saved_results/thesis/pbmc/multi_task/CD4T/train_epoch_47.pt \n",
      "\n",
      "\n",
      "\n",
      "Metrics                        Value\n",
      "-----------------------------  --------------------------------------\n",
      "R2                             [[-0.05642027 -0.05642027]\n",
      "                                [ 0.0026004   0.0026004 ]]\n",
      "Confusion Matrix               [[ 745    0    0    0    0    0    0]\n",
      "                                [   0  453    0    0    0    0    0]\n",
      "                                [   0    0 2348    1    0    0    0]\n",
      "                                [   0    0    0  390    0    0    0]\n",
      "                                [   0    0    0    0  339    0    0]\n",
      "                                [   0    0    0    0    0 1859    0]\n",
      "                                [   0    0    0    0    0    0  481]]\n",
      "Accuracy                       0.9998488512696493\n",
      "Adjusted Rand Index            0.9996505603685436\n",
      "Normalized Mutual Information  0.9992855115365117\n"
     ]
    },
    {
     "name": "stderr",
     "output_type": "stream",
     "text": [
      " 94%|█████████▍| 47/50 [05:25<00:21,  7.09s/it]"
     ]
    },
    {
     "name": "stdout",
     "output_type": "stream",
     "text": [
      "model saved at ../saved_results/thesis/pbmc/multi_task/CD4T/train_epoch_48.pt \n",
      "\n",
      "\n",
      "\n",
      "Metrics                        Value\n",
      "-----------------------------  --------------------------------------\n",
      "R2                             [[-0.05642027 -0.05642027]\n",
      "                                [ 0.00218566  0.00218566]]\n",
      "Confusion Matrix               [[ 745    0    0    0    0    0    0]\n",
      "                                [   0  453    0    0    0    0    0]\n",
      "                                [   2    0 2347    0    0    0    0]\n",
      "                                [   0    0    0  390    0    0    0]\n",
      "                                [   0    0    0    0  339    0    0]\n",
      "                                [   0    3    0    0    0 1856    0]\n",
      "                                [   0    0    0    0    0    0  481]]\n",
      "Accuracy                       0.9992442563482467\n",
      "Adjusted Rand Index            0.9983260764226445\n",
      "Normalized Mutual Information  0.9968061363178338\n"
     ]
    },
    {
     "name": "stderr",
     "output_type": "stream",
     "text": [
      " 96%|█████████▌| 48/50 [05:32<00:13,  6.88s/it]"
     ]
    },
    {
     "name": "stdout",
     "output_type": "stream",
     "text": [
      "model saved at ../saved_results/thesis/pbmc/multi_task/CD4T/train_epoch_49.pt \n",
      "\n",
      "\n",
      "\n",
      "Metrics                        Value\n",
      "-----------------------------  --------------------------------------\n",
      "R2                             [[-0.05642027 -0.05642027]\n",
      "                                [ 0.00307248  0.00307248]]\n",
      "Confusion Matrix               [[ 745    0    0    0    0    0    0]\n",
      "                                [   0  453    0    0    0    0    0]\n",
      "                                [   0    0 2349    0    0    0    0]\n",
      "                                [   0    0    0  390    0    0    0]\n",
      "                                [   0    0    0    0  339    0    0]\n",
      "                                [   0    0    0    0    0 1859    0]\n",
      "                                [   0    0    0    0    0    0  481]]\n",
      "Accuracy                       1.0\n",
      "Adjusted Rand Index            1.0\n",
      "Normalized Mutual Information  1.0\n"
     ]
    },
    {
     "name": "stderr",
     "output_type": "stream",
     "text": [
      " 98%|█████████▊| 49/50 [05:38<00:06,  6.82s/it]"
     ]
    },
    {
     "name": "stdout",
     "output_type": "stream",
     "text": [
      "model saved at ../saved_results/thesis/pbmc/multi_task/CD4T/train_epoch_50.pt \n",
      "\n",
      "\n",
      "\n",
      "Metrics                        Value\n",
      "-----------------------------  --------------------------------------\n",
      "R2                             [[-0.05642027 -0.05642027]\n",
      "                                [ 0.00206853  0.00206853]]\n",
      "Confusion Matrix               [[ 745    0    0    0    0    0    0]\n",
      "                                [   0  453    0    0    0    0    0]\n",
      "                                [   0    0 2349    0    0    0    0]\n",
      "                                [   0    0    0  390    0    0    0]\n",
      "                                [   0    0    0    0  339    0    0]\n",
      "                                [   0    0    0    0    0 1859    0]\n",
      "                                [   0    0    0    0    0    0  481]]\n",
      "Accuracy                       1.0\n",
      "Adjusted Rand Index            1.0\n",
      "Normalized Mutual Information  1.0\n"
     ]
    },
    {
     "name": "stderr",
     "output_type": "stream",
     "text": [
      "100%|██████████| 50/50 [05:45<00:00,  6.91s/it]\n"
     ]
    }
   ],
   "source": [
    "from unitednet.interface import UnitedNet\n",
    "\n",
    "\n",
    "pbmc_config = {\n",
    "    \"train_batch_size\": 256,\n",
    "    \"finetune_batch_size\": 5000,\n",
    "    \"transfer_batch_size\": 512,\n",
    "    \"train_epochs\": 50,\n",
    "    \"finetune_epochs\": 10,\n",
    "    \"transfer_epochs\": 20,\n",
    "    \"train_task\": \"supervised_group_identification\", # -> translation, classification\n",
    "    \"finetune_task\": None,\n",
    "    \"transfer_task\": None,\n",
    "    \"train_loss_weight\": None,\n",
    "    \"finetune_loss_weight\": None,\n",
    "    \"transfer_loss_weight\": None,\n",
    "    \"lr\": 0.1,\n",
    "    \"checkpoint\": 1,\n",
    "    \"n_head\": 1,\n",
    "    \"noise_level\":[0,0],\n",
    "    \"fuser_type\":\"WeightedMean\",\n",
    "    \"encoders\": [\n",
    "        {\n",
    "            \"input\": features_num,\n",
    "            \"hiddens\": [64, 64],\n",
    "            \"output\": 64,\n",
    "            \"use_biases\": [True, True, True],\n",
    "            \"dropouts\": [0, 0, 0],\n",
    "            \"activations\": [\"relu\", \"relu\", \"relu\"],\n",
    "            \"use_batch_norms\": [True, True, True],\n",
    "            \"use_layer_norms\": [False, False, False],\n",
    "            \"is_binary_input\": False,\n",
    "        },\n",
    "        {\n",
    "            \"input\": features_num,\n",
    "            \"hiddens\": [64, 64],\n",
    "            \"output\": 64,\n",
    "            \"use_biases\": [True, True, True],\n",
    "            \"dropouts\": [0, 0, 0],\n",
    "            \"activations\": [\"relu\", \"relu\", \"relu\"],\n",
    "            \"use_batch_norms\": [True, True, True],\n",
    "            \"use_layer_norms\": [False, False, False],\n",
    "            \"is_binary_input\": False,\n",
    "        },\n",
    "    ],\n",
    "    \"latent_projector\": None,\n",
    "    \"decoders\": [\n",
    "        {\n",
    "            \"input\": 64,\n",
    "            \"hiddens\": [64, 64],\n",
    "            \"output\": features_num,\n",
    "            \"use_biases\": [True, True, True],\n",
    "            \"dropouts\": [0, 0, 0],\n",
    "            \"activations\": [\"relu\", \"relu\", \"sigmoid\"],\n",
    "            \"use_batch_norms\": [False, False, False],\n",
    "            \"use_layer_norms\": [False, False, False],\n",
    "        },\n",
    "        {\n",
    "            \"input\": 64,\n",
    "            \"hiddens\": [64, 64],\n",
    "            \"output\": features_num,\n",
    "            \"use_biases\": [True, True, True],\n",
    "            \"dropouts\": [0, 0, 0],\n",
    "            \"activations\": [\"relu\", \"relu\", None],\n",
    "            \"use_batch_norms\": [False, False, False],\n",
    "            \"use_layer_norms\": [False, False, False],\n",
    "        },\n",
    "    ],\n",
    "    \"discriminators\": [\n",
    "        {\n",
    "            \"input\": features_num,\n",
    "            \"hiddens\": [64],\n",
    "            \"output\": 1,\n",
    "            \"use_biases\": [True, True],\n",
    "            \"dropouts\": [0, 0],\n",
    "            \"activations\": [\"relu\", \"sigmoid\"],\n",
    "            \"use_batch_norms\": [False, False],\n",
    "            \"use_layer_norms\": [False, True],\n",
    "        },\n",
    "        {\n",
    "            \"input\": features_num,\n",
    "            \"hiddens\": [64],\n",
    "            \"output\": 1,\n",
    "            \"use_biases\": [True, True],\n",
    "            \"dropouts\": [0, 0],\n",
    "            \"activations\": [\"relu\", \"sigmoid\"],\n",
    "            \"use_batch_norms\": [False, False],\n",
    "            \"use_layer_norms\": [False, True],\n",
    "        },\n",
    "    ],\n",
    "    \"projectors\": {\n",
    "        \"input\": 64,\n",
    "        \"hiddens\": [],\n",
    "        \"output\": 100,\n",
    "        \"use_biases\": [True],\n",
    "        \"dropouts\": [0],\n",
    "        \"activations\": [\"relu\"],\n",
    "        \"use_batch_norms\": [False],\n",
    "        \"use_layer_norms\": [True],\n",
    "    },\n",
    "    \"clusters\": {\n",
    "        \"input\": 100,\n",
    "        \"hiddens\": [],\n",
    "        \"output\": len(cell_type_list),\n",
    "        \"use_biases\": [False],\n",
    "        \"dropouts\": [0],\n",
    "        \"activations\": [None],\n",
    "        \"use_batch_norms\": [False],\n",
    "        \"use_layer_norms\": [False],\n",
    "    },\n",
    "}\n",
    "\n",
    "device=\"cuda:0\"\n",
    "test_batch= batch\n",
    "root_save_path = f\"../saved_results/thesis/pbmc/multi_task\"\n",
    "\n",
    "\n",
    "model = UnitedNet(\"multitask\", f\"{root_save_path}/{test_batch}\", device=device, technique=pbmc_config)\n",
    "model.train(adatas_train=adatas_train)\n",
    "#model.finetune(adatas_train)\n",
    "#model.transfer(adatas_train, adatas_transfer = adatas_test, verbose=True)\n",
    "#print(model.evaluate(adatas_test))\n",
    "# evaluation should be different for peturbation"
   ]
  },
  {
   "cell_type": "markdown",
   "metadata": {},
   "source": [
    "## Single-task translation via UnitedNet \n",
    "\n",
    "The classification network's parameters are ignored.\n",
    "\n",
    "It should be noted that all the metrics used in the multi-task way are still monitored for the single task as well. But we are only interested for the translation, so the metrics to pay attention to is the R2."
   ]
  },
  {
   "cell_type": "code",
   "execution_count": 11,
   "metadata": {},
   "outputs": [],
   "source": [
    "from unitednet.interface import UnitedNet\n",
    "\n",
    "\n",
    "pbmc_config_translation = {\n",
    "    \"train_batch_size\": 512,\n",
    "    \"finetune_batch_size\": 5000,\n",
    "    \"transfer_batch_size\": 512,\n",
    "    \"train_epochs\": 10,\n",
    "    \"finetune_epochs\": 10,\n",
    "    \"transfer_epochs\": 20,\n",
    "    \"train_task\": \"cross_model_prediction\", # translation\n",
    "    \"finetune_task\": None,\n",
    "    \"transfer_task\": None,\n",
    "    \"train_loss_weight\": None,\n",
    "    \"finetune_loss_weight\": None,\n",
    "    \"transfer_loss_weight\": None,\n",
    "    \"lr\": 0.1,\n",
    "    \"checkpoint\": 1,\n",
    "    \"n_head\": 1,\n",
    "    \"noise_level\":[0,0],\n",
    "    \"fuser_type\":\"WeightedMean\",\n",
    "    \"encoders\": [\n",
    "        {\n",
    "            \"input\": features_num,\n",
    "            \"hiddens\": [64, 64],\n",
    "            \"output\": 64,\n",
    "            \"use_biases\": [True, True, True],\n",
    "            \"dropouts\": [0, 0, 0],\n",
    "            \"activations\": [\"relu\", \"relu\", \"relu\"],\n",
    "            \"use_batch_norms\": [True, True, True],\n",
    "            \"use_layer_norms\": [False, False, False],\n",
    "            \"is_binary_input\": False,\n",
    "        },\n",
    "        {\n",
    "            \"input\": features_num,\n",
    "            \"hiddens\": [64, 64],\n",
    "            \"output\": 64,\n",
    "            \"use_biases\": [True, True, True],\n",
    "            \"dropouts\": [0, 0, 0],\n",
    "            \"activations\": [\"relu\", \"relu\", \"relu\"],\n",
    "            \"use_batch_norms\": [True, True, True],\n",
    "            \"use_layer_norms\": [False, False, False],\n",
    "            \"is_binary_input\": False,\n",
    "        },\n",
    "    ],\n",
    "    \"latent_projector\": None,\n",
    "    \"decoders\": [\n",
    "        {\n",
    "            \"input\": 64,\n",
    "            \"hiddens\": [64, 64],\n",
    "            \"output\": features_num,\n",
    "            \"use_biases\": [True, True, True],\n",
    "            \"dropouts\": [0, 0, 0],\n",
    "            \"activations\": [\"relu\", \"relu\", \"sigmoid\"],\n",
    "            \"use_batch_norms\": [False, False, False],\n",
    "            \"use_layer_norms\": [False, False, False],\n",
    "        },\n",
    "        {\n",
    "            \"input\": 64,\n",
    "            \"hiddens\": [64, 64],\n",
    "            \"output\": features_num,\n",
    "            \"use_biases\": [True, True, True],\n",
    "            \"dropouts\": [0, 0, 0],\n",
    "            \"activations\": [\"relu\", \"relu\", None],\n",
    "            \"use_batch_norms\": [False, False, False],\n",
    "            \"use_layer_norms\": [False, False, False],\n",
    "        },\n",
    "    ],\n",
    "    \"discriminators\": [\n",
    "        {\n",
    "            \"input\": features_num,\n",
    "            \"hiddens\": [64],\n",
    "            \"output\": 1,\n",
    "            \"use_biases\": [True, True],\n",
    "            \"dropouts\": [0, 0],\n",
    "            \"activations\": [\"relu\", \"sigmoid\"],\n",
    "            \"use_batch_norms\": [False, False],\n",
    "            \"use_layer_norms\": [False, True],\n",
    "        },\n",
    "        {\n",
    "            \"input\": features_num,\n",
    "            \"hiddens\": [64],\n",
    "            \"output\": 1,\n",
    "            \"use_biases\": [True, True],\n",
    "            \"dropouts\": [0, 0],\n",
    "            \"activations\": [\"relu\", \"sigmoid\"],\n",
    "            \"use_batch_norms\": [False, False],\n",
    "            \"use_layer_norms\": [False, True],\n",
    "        },\n",
    "    ],\n",
    "    \"projectors\": {\n",
    "        \"input\": 64,\n",
    "        \"hiddens\": [],\n",
    "        \"output\": 100,\n",
    "        \"use_biases\": [True],\n",
    "        \"dropouts\": [0],\n",
    "        \"activations\": [\"relu\"],\n",
    "        \"use_batch_norms\": [False],\n",
    "        \"use_layer_norms\": [True],\n",
    "    },\n",
    "    \"clusters\": {\n",
    "        \"input\": 100,\n",
    "        \"hiddens\": [],\n",
    "        \"output\": len(cell_type_list),\n",
    "        \"use_biases\": [False],\n",
    "        \"dropouts\": [0],\n",
    "        \"activations\": [None],\n",
    "        \"use_batch_norms\": [False],\n",
    "        \"use_layer_norms\": [False],\n",
    "    },\n",
    "}\n",
    "\n",
    "device=\"cuda:0\"\n",
    "test_batch= batch\n",
    "root_save_path = f\"../saved_results/thesis/pbmc/translation\"\n",
    "\n",
    "model_translation = UnitedNet(\"translation\", f\"{root_save_path}/{test_batch}\", device=device, technique=pbmc_config_translation)"
   ]
  },
  {
   "cell_type": "code",
   "execution_count": 12,
   "metadata": {},
   "outputs": [
    {
     "name": "stdout",
     "output_type": "stream",
     "text": [
      "training\n"
     ]
    },
    {
     "name": "stderr",
     "output_type": "stream",
     "text": [
      "  0%|          | 0/10 [00:00<?, ?it/s]"
     ]
    },
    {
     "name": "stdout",
     "output_type": "stream",
     "text": [
      "model saved at ../saved_results/thesis/pbmc/translation/CD4T/train_epoch_1.pt \n",
      "\n",
      "\n",
      "\n",
      "Metrics                        Value\n",
      "-----------------------------  --------------------------------------\n",
      "R2                             [[-0.05630496 -0.05630494]\n",
      "                                [-4.47049189 -4.47049189]]\n",
      "Confusion Matrix               [[   0    0  556    0    0  143   46]\n",
      "                                [   0    0  328    0    0   96   29]\n",
      "                                [   0    0 1888    0    0  255  206]\n",
      "                                [   0    0  334    0    0   29   27]\n",
      "                                [   0    0  219    0    0   93   27]\n",
      "                                [   0    0 1203    0    0  438  218]\n",
      "                                [   0    0  397    0    0   34   50]]\n",
      "Accuracy                       0.3591293833131802\n",
      "Adjusted Rand Index            0.008820493532019568\n",
      "Normalized Mutual Information  0.018271206722835588\n"
     ]
    },
    {
     "name": "stderr",
     "output_type": "stream",
     "text": [
      " 10%|█         | 1/10 [00:04<00:36,  4.05s/it]"
     ]
    },
    {
     "name": "stdout",
     "output_type": "stream",
     "text": [
      "model saved at ../saved_results/thesis/pbmc/translation/CD4T/train_epoch_2.pt \n",
      "\n",
      "\n",
      "\n",
      "Metrics                        Value\n",
      "-----------------------------  --------------------------------------\n",
      "R2                             [[-0.05740947 -0.05740947]\n",
      "                                [-1.77818835 -1.77818835]]\n",
      "Confusion Matrix               [[   0    2  721    0    0   22    0]\n",
      "                                [   0    2  446    0    0    5    0]\n",
      "                                [   0    7 2170    0    0  172    0]\n",
      "                                [   0    1  360    0    0   29    0]\n",
      "                                [   0    2  320    0    1   16    0]\n",
      "                                [   0   47 1655    0   19  138    0]\n",
      "                                [   0    2  431    0    0   48    0]]\n",
      "Accuracy                       0.3493047158403869\n",
      "Adjusted Rand Index            -0.0074504385595088015\n",
      "Normalized Mutual Information  0.018393853836542146\n"
     ]
    },
    {
     "name": "stderr",
     "output_type": "stream",
     "text": [
      " 20%|██        | 2/10 [00:08<00:34,  4.26s/it]"
     ]
    },
    {
     "name": "stdout",
     "output_type": "stream",
     "text": [
      "model saved at ../saved_results/thesis/pbmc/translation/CD4T/train_epoch_3.pt \n",
      "\n",
      "\n",
      "\n",
      "Metrics                        Value\n",
      "-----------------------------  --------------------------------------\n",
      "R2                             [[-0.05740947 -0.05740947]\n",
      "                                [-0.48814806 -0.48814806]]\n",
      "Confusion Matrix               [[   0    0  700    0    0    4   41]\n",
      "                                [   0    0  368    0    0   80    5]\n",
      "                                [   0    0 2144    0    0   24  181]\n",
      "                                [   0    0  352    0    0    1   37]\n",
      "                                [   0    0  289    0    2   36   12]\n",
      "                                [   0    0 1355    0    1  405   98]\n",
      "                                [   0    0  431    0    0    8   42]]\n",
      "Accuracy                       0.3919286577992745\n",
      "Adjusted Rand Index            0.008982578324036174\n",
      "Normalized Mutual Information  0.0703032601794225\n"
     ]
    },
    {
     "name": "stderr",
     "output_type": "stream",
     "text": [
      " 30%|███       | 3/10 [00:13<00:30,  4.40s/it]"
     ]
    },
    {
     "name": "stdout",
     "output_type": "stream",
     "text": [
      "model saved at ../saved_results/thesis/pbmc/translation/CD4T/train_epoch_4.pt \n",
      "\n",
      "\n",
      "\n",
      "Metrics                        Value\n",
      "-----------------------------  --------------------------------------\n",
      "R2                             [[-0.05740947 -0.05740947]\n",
      "                                [-0.12387719 -0.12387719]]\n",
      "Confusion Matrix               [[   0    0  690    0    3   52    0]\n",
      "                                [   0    1  427    0    2   23    0]\n",
      "                                [   0    0 2131    0    6  212    0]\n",
      "                                [   0    0  337    0    2   51    0]\n",
      "                                [   0    0  313    0    4   22    0]\n",
      "                                [   0    2 1599    0   19  239    0]\n",
      "                                [   0    0  411    0    1   69    0]]\n",
      "Accuracy                       0.3589782345828295\n",
      "Adjusted Rand Index            -0.001009996972991858\n",
      "Normalized Mutual Information  0.007818893413208126\n"
     ]
    },
    {
     "name": "stderr",
     "output_type": "stream",
     "text": [
      " 40%|████      | 4/10 [00:17<00:26,  4.41s/it]"
     ]
    },
    {
     "name": "stdout",
     "output_type": "stream",
     "text": [
      "model saved at ../saved_results/thesis/pbmc/translation/CD4T/train_epoch_5.pt \n",
      "\n",
      "\n",
      "\n",
      "Metrics                        Value\n",
      "-----------------------------  --------------------------------------\n",
      "R2                             [[-0.05740947 -0.05740947]\n",
      "                                [-0.03337806 -0.03337806]]\n",
      "Confusion Matrix               [[   0    1  673    0    0   71    0]\n",
      "                                [   0    1  387    0    0   65    0]\n",
      "                                [   0    5 2103    0    1  240    0]\n",
      "                                [   0    1  337    0    0   52    0]\n",
      "                                [   0    1  291    0    0   47    0]\n",
      "                                [   0   10 1346    0    0  503    0]\n",
      "                                [   0    0  399    0    0   82    0]]\n",
      "Accuracy                       0.39404474002418377\n",
      "Adjusted Rand Index            0.0071958521691532\n",
      "Normalized Mutual Information  0.02189013125604787\n"
     ]
    },
    {
     "name": "stderr",
     "output_type": "stream",
     "text": [
      " 50%|█████     | 5/10 [00:22<00:22,  4.48s/it]"
     ]
    },
    {
     "name": "stdout",
     "output_type": "stream",
     "text": [
      "model saved at ../saved_results/thesis/pbmc/translation/CD4T/train_epoch_6.pt \n",
      "\n",
      "\n",
      "\n",
      "Metrics                        Value\n",
      "-----------------------------  --------------------------------------\n",
      "R2                             [[-0.05740947 -0.05740947]\n",
      "                                [-0.00998109 -0.00998109]]\n",
      "Confusion Matrix               [[   0    3  678    0    0   64    0]\n",
      "                                [   0    5  383    0    0   65    0]\n",
      "                                [   0    5 2083    0    0  261    0]\n",
      "                                [   0    1  335    0    0   53    1]\n",
      "                                [   0    4  293    0    0   42    0]\n",
      "                                [   0   13 1349    0    0  497    0]\n",
      "                                [   0    3  401    0    0   75    2]]\n",
      "Accuracy                       0.3910217654171705\n",
      "Adjusted Rand Index            0.004942116970259271\n",
      "Normalized Mutual Information  0.021400146390759184\n"
     ]
    },
    {
     "name": "stderr",
     "output_type": "stream",
     "text": [
      " 60%|██████    | 6/10 [00:25<00:17,  4.28s/it]"
     ]
    },
    {
     "name": "stdout",
     "output_type": "stream",
     "text": [
      "model saved at ../saved_results/thesis/pbmc/translation/CD4T/train_epoch_7.pt \n",
      "\n",
      "\n",
      "\n",
      "Metrics                        Value\n",
      "-----------------------------  --------------------------------------\n",
      "R2                             [[-0.05730562 -0.05730562]\n",
      "                                [-0.00412386 -0.00412386]]\n",
      "Confusion Matrix               [[   3    2  663    0    0   77    0]\n",
      "                                [   0    1  404    0    0   48    0]\n",
      "                                [   8    7 2018    0    0  316    0]\n",
      "                                [   0    0  328    0    0   62    0]\n",
      "                                [   1    1  290    0    0   47    0]\n",
      "                                [   0    4 1406    1    0  448    0]\n",
      "                                [   2    0  389    0    0   90    0]]\n",
      "Accuracy                       0.3733373639661427\n",
      "Adjusted Rand Index            -0.001966001722448588\n",
      "Normalized Mutual Information  0.012476071430539516\n"
     ]
    },
    {
     "name": "stderr",
     "output_type": "stream",
     "text": [
      " 70%|███████   | 7/10 [00:30<00:12,  4.25s/it]"
     ]
    },
    {
     "name": "stdout",
     "output_type": "stream",
     "text": [
      "model saved at ../saved_results/thesis/pbmc/translation/CD4T/train_epoch_8.pt \n",
      "\n",
      "\n",
      "\n",
      "Metrics                        Value\n",
      "-----------------------------  --------------------------------------\n",
      "R2                             [[-0.05730561 -0.05730561]\n",
      "                                [-0.00267519 -0.00267519]]\n",
      "Confusion Matrix               [[   1    0  665    0    0   79    0]\n",
      "                                [   0    0  383    0    0   70    0]\n",
      "                                [   1    0 2045    0    0  303    0]\n",
      "                                [   0    0  329    0    0   61    0]\n",
      "                                [   0    0  287    0    0   52    0]\n",
      "                                [   0    0 1296    0    0  563    0]\n",
      "                                [   0    0  395    0    0   86    0]]\n",
      "Accuracy                       0.39434703748488514\n",
      "Adjusted Rand Index            0.005143447920724046\n",
      "Normalized Mutual Information  0.02113158951875281\n"
     ]
    },
    {
     "name": "stderr",
     "output_type": "stream",
     "text": [
      " 80%|████████  | 8/10 [00:33<00:08,  4.09s/it]"
     ]
    },
    {
     "name": "stdout",
     "output_type": "stream",
     "text": [
      "model saved at ../saved_results/thesis/pbmc/translation/CD4T/train_epoch_9.pt \n",
      "\n",
      "\n",
      "\n",
      "Metrics                        Value\n",
      "-----------------------------  --------------------------------------\n",
      "R2                             [[-0.05729266 -0.05729265]\n",
      "                                [-0.00222913 -0.00222913]]\n",
      "Confusion Matrix               [[   0    0  662    0    0   83    0]\n",
      "                                [   0    0  375    0    0   78    0]\n",
      "                                [   0    0 2047    0    0  302    0]\n",
      "                                [   0    0  330    0    0   60    0]\n",
      "                                [   0    0  284    0    0   55    0]\n",
      "                                [   0    0 1314    0    1  544    0]\n",
      "                                [   0    0  395    0    0   86    0]]\n",
      "Accuracy                       0.3916263603385732\n",
      "Adjusted Rand Index            0.005903229545142348\n",
      "Normalized Mutual Information  0.018500712246052094\n"
     ]
    },
    {
     "name": "stderr",
     "output_type": "stream",
     "text": [
      " 90%|█████████ | 9/10 [00:37<00:04,  4.03s/it]"
     ]
    },
    {
     "name": "stdout",
     "output_type": "stream",
     "text": [
      "model saved at ../saved_results/thesis/pbmc/translation/CD4T/train_epoch_10.pt \n",
      "\n",
      "\n",
      "\n",
      "Metrics                        Value\n",
      "-----------------------------  --------------------------------------\n",
      "R2                             [[-0.05769907 -0.05769907]\n",
      "                                [-0.00230476 -0.00230476]]\n",
      "Confusion Matrix               [[   0    0  662    0    0   83    0]\n",
      "                                [   0    0  383    0    0   70    0]\n",
      "                                [   0    0 2029    0    0  320    0]\n",
      "                                [   0    0  328    0    0   62    0]\n",
      "                                [   0    0  289    0    0   50    0]\n",
      "                                [   0    0 1322    0    0  536    1]\n",
      "                                [   0    0  393    0    0   88    0]]\n",
      "Accuracy                       0.3876964933494559\n",
      "Adjusted Rand Index            0.0026792206741629515\n",
      "Normalized Mutual Information  0.01679305761277922\n"
     ]
    },
    {
     "name": "stderr",
     "output_type": "stream",
     "text": [
      "100%|██████████| 10/10 [00:41<00:00,  4.15s/it]\n"
     ]
    }
   ],
   "source": [
    "model_translation.train(adatas_train, verbose=True)\n"
   ]
  },
  {
   "cell_type": "markdown",
   "metadata": {},
   "source": [
    "## Single-task cell type annotation (classification) via UnitedNet\n",
    "\n",
    "The translation networks' parameters are ignored.\n",
    "\n",
    "As mentioned above all metrics are monitored. For the classification task we are intested for the:\n",
    "- Confusion matrix\n",
    "- Adjusted Rank Index\n",
    "- Accuracy\n",
    "- Normalized Mutual information"
   ]
  },
  {
   "cell_type": "code",
   "execution_count": 13,
   "metadata": {},
   "outputs": [],
   "source": [
    "from unitednet.interface import UnitedNet\n",
    "\n",
    "\n",
    "pbmc_config_classification = {\n",
    "    \"train_batch_size\": 512,\n",
    "    \"finetune_batch_size\": 5000,\n",
    "    \"transfer_batch_size\": 512,\n",
    "    \"train_epochs\": 10,\n",
    "    \"finetune_epochs\": 10,\n",
    "    \"transfer_epochs\": 20,\n",
    "    \"train_task\": \"supervised_group_identification_only\", # classification\n",
    "    \"finetune_task\": None,\n",
    "    \"transfer_task\": None,\n",
    "    \"train_loss_weight\": None,\n",
    "    \"finetune_loss_weight\": None,\n",
    "    \"transfer_loss_weight\": None,\n",
    "    \"lr\": 0.1,\n",
    "    \"checkpoint\": 1,\n",
    "    \"n_head\": 1,\n",
    "    \"noise_level\":[0,0],\n",
    "    \"fuser_type\":\"WeightedMean\",\n",
    "    \"encoders\": [\n",
    "        {\n",
    "            \"input\": features_num,\n",
    "            \"hiddens\": [64, 64],\n",
    "            \"output\": 64,\n",
    "            \"use_biases\": [True, True, True],\n",
    "            \"dropouts\": [0, 0, 0],\n",
    "            \"activations\": [\"relu\", \"relu\", \"relu\"],\n",
    "            \"use_batch_norms\": [True, True, True],\n",
    "            \"use_layer_norms\": [False, False, False],\n",
    "            \"is_binary_input\": False,\n",
    "        },\n",
    "        {\n",
    "            \"input\": features_num,\n",
    "            \"hiddens\": [64, 64],\n",
    "            \"output\": 64,\n",
    "            \"use_biases\": [True, True, True],\n",
    "            \"dropouts\": [0, 0, 0],\n",
    "            \"activations\": [\"relu\", \"relu\", \"relu\"],\n",
    "            \"use_batch_norms\": [True, True, True],\n",
    "            \"use_layer_norms\": [False, False, False],\n",
    "            \"is_binary_input\": False,\n",
    "        },\n",
    "    ],\n",
    "    \"latent_projector\": None,\n",
    "    \"decoders\": [\n",
    "        {\n",
    "            \"input\": 64,\n",
    "            \"hiddens\": [64, 64],\n",
    "            \"output\": features_num,\n",
    "            \"use_biases\": [True, True, True],\n",
    "            \"dropouts\": [0, 0, 0],\n",
    "            \"activations\": [\"relu\", \"relu\", \"sigmoid\"],\n",
    "            \"use_batch_norms\": [False, False, False],\n",
    "            \"use_layer_norms\": [False, False, False],\n",
    "        },\n",
    "        {\n",
    "            \"input\": 64,\n",
    "            \"hiddens\": [64, 64],\n",
    "            \"output\": features_num,\n",
    "            \"use_biases\": [True, True, True],\n",
    "            \"dropouts\": [0, 0, 0],\n",
    "            \"activations\": [\"relu\", \"relu\", None],\n",
    "            \"use_batch_norms\": [False, False, False],\n",
    "            \"use_layer_norms\": [False, False, False],\n",
    "        },\n",
    "    ],\n",
    "    \"discriminators\": [\n",
    "        {\n",
    "            \"input\": features_num,\n",
    "            \"hiddens\": [64],\n",
    "            \"output\": 1,\n",
    "            \"use_biases\": [True, True],\n",
    "            \"dropouts\": [0, 0],\n",
    "            \"activations\": [\"relu\", \"sigmoid\"],\n",
    "            \"use_batch_norms\": [False, False],\n",
    "            \"use_layer_norms\": [False, True],\n",
    "        },\n",
    "        {\n",
    "            \"input\": features_num,\n",
    "            \"hiddens\": [64],\n",
    "            \"output\": 1,\n",
    "            \"use_biases\": [True, True],\n",
    "            \"dropouts\": [0, 0],\n",
    "            \"activations\": [\"relu\", \"sigmoid\"],\n",
    "            \"use_batch_norms\": [False, False],\n",
    "            \"use_layer_norms\": [False, True],\n",
    "        },\n",
    "    ],\n",
    "    \"projectors\": {\n",
    "        \"input\": 64,\n",
    "        \"hiddens\": [],\n",
    "        \"output\": 100,\n",
    "        \"use_biases\": [True],\n",
    "        \"dropouts\": [0],\n",
    "        \"activations\": [\"relu\"],\n",
    "        \"use_batch_norms\": [False],\n",
    "        \"use_layer_norms\": [True],\n",
    "    },\n",
    "    \"clusters\": {\n",
    "        \"input\": 100,\n",
    "        \"hiddens\": [],\n",
    "        \"output\": len(cell_type_list),\n",
    "        \"use_biases\": [False],\n",
    "        \"dropouts\": [0],\n",
    "        \"activations\": [None],\n",
    "        \"use_batch_norms\": [False],\n",
    "        \"use_layer_norms\": [False],\n",
    "    },\n",
    "}\n",
    "\n",
    "device=\"cuda:0\"\n",
    "test_batch= batch\n",
    "root_save_path = f\"../saved_results/thesis/pbmc/classification\"\n",
    "\n",
    "model_classification = UnitedNet(\"classification\", f\"{root_save_path}/{test_batch}\", device=device, technique=pbmc_config_classification)"
   ]
  },
  {
   "cell_type": "code",
   "execution_count": 14,
   "metadata": {},
   "outputs": [
    {
     "name": "stdout",
     "output_type": "stream",
     "text": [
      "training\n"
     ]
    },
    {
     "name": "stderr",
     "output_type": "stream",
     "text": [
      "  0%|          | 0/10 [00:00<?, ?it/s]"
     ]
    },
    {
     "name": "stdout",
     "output_type": "stream",
     "text": [
      "model saved at ../saved_results/thesis/pbmc/classification/CD4T/train_epoch_1.pt \n",
      "\n",
      "\n",
      "\n",
      "Metrics                        Value\n",
      "-----------------------------  --------------------------------------\n",
      "R2                             [[ -456.57522583  -343.61352539]\n",
      "                                [-6887.48681641  -431.98233032]]\n",
      "Confusion Matrix               [[ 745    0    0    0    0    0    0]\n",
      "                                [   0  453    0    0    0    0    0]\n",
      "                                [  50    3 1962  331    0    3    0]\n",
      "                                [   0    0    0  380    0    0   10]\n",
      "                                [   1    0    0    0  337    1    0]\n",
      "                                [   2  670    2    1  115 1066    3]\n",
      "                                [   0    0    0    2    0    0  479]]\n",
      "Accuracy                       0.8195284159613059\n",
      "Adjusted Rand Index            0.6891361118659025\n",
      "Normalized Mutual Information  0.7920490580732706\n"
     ]
    },
    {
     "name": "stderr",
     "output_type": "stream",
     "text": [
      " 10%|█         | 1/10 [00:04<00:42,  4.77s/it]"
     ]
    },
    {
     "name": "stdout",
     "output_type": "stream",
     "text": [
      "model saved at ../saved_results/thesis/pbmc/classification/CD4T/train_epoch_2.pt \n",
      "\n",
      "\n",
      "\n",
      "Metrics                        Value\n",
      "-----------------------------  --------------------------------------\n",
      "R2                             [[ -459.04974365  -343.96884155]\n",
      "                                [-6372.09667969  -415.36251831]]\n",
      "Confusion Matrix               [[ 745    0    0    0    0    0    0]\n",
      "                                [   0  451    0    0    0    2    0]\n",
      "                                [   0    0 2343    5    0    1    0]\n",
      "                                [   0    0    0  389    0    0    1]\n",
      "                                [   0    0    0    0  333    6    0]\n",
      "                                [   0   32    0    0    2 1824    1]\n",
      "                                [   0    0    0    0    0    0  481]]\n",
      "Accuracy                       0.9924425634824667\n",
      "Adjusted Rand Index            0.9851843871001829\n",
      "Normalized Mutual Information  0.9766101335090821\n"
     ]
    },
    {
     "name": "stderr",
     "output_type": "stream",
     "text": [
      " 20%|██        | 2/10 [00:09<00:39,  4.90s/it]"
     ]
    },
    {
     "name": "stdout",
     "output_type": "stream",
     "text": [
      "model saved at ../saved_results/thesis/pbmc/classification/CD4T/train_epoch_3.pt \n",
      "\n",
      "\n",
      "\n",
      "Metrics                        Value\n",
      "-----------------------------  --------------------------------------\n",
      "R2                             [[ -445.1177063   -338.70904541]\n",
      "                                [-5351.71533203  -372.30682373]]\n",
      "Confusion Matrix               [[ 745    0    0    0    0    0    0]\n",
      "                                [   0  453    0    0    0    0    0]\n",
      "                                [   0    0 2347    2    0    0    0]\n",
      "                                [   0    0    0  390    0    0    0]\n",
      "                                [   0    0    0    0  339    0    0]\n",
      "                                [   0    5    0    0    1 1852    1]\n",
      "                                [   0    0    0    0    0    0  481]]\n",
      "Accuracy                       0.998639661426844\n",
      "Adjusted Rand Index            0.9972494893583417\n",
      "Normalized Mutual Information  0.9944664818328194\n"
     ]
    },
    {
     "name": "stderr",
     "output_type": "stream",
     "text": [
      " 30%|███       | 3/10 [00:14<00:33,  4.80s/it]"
     ]
    },
    {
     "name": "stdout",
     "output_type": "stream",
     "text": [
      "model saved at ../saved_results/thesis/pbmc/classification/CD4T/train_epoch_4.pt \n",
      "\n",
      "\n",
      "\n",
      "Metrics                        Value\n",
      "-----------------------------  --------------------------------------\n",
      "R2                             [[ -458.28692627  -340.18048096]\n",
      "                                [-6903.26318359  -428.5944519 ]]\n",
      "Confusion Matrix               [[ 745    0    0    0    0    0    0]\n",
      "                                [   0  346    0    0    0  107    0]\n",
      "                                [   1    0 2346    1    0    1    0]\n",
      "                                [   0    0    0  390    0    0    0]\n",
      "                                [   0    0    0    0  339    0    0]\n",
      "                                [   0    0    0    0    1 1858    0]\n",
      "                                [   0    0    0    0    0    0  481]]\n",
      "Accuracy                       0.9832224909310762\n",
      "Adjusted Rand Index            0.9686647959860603\n",
      "Normalized Mutual Information  0.9667129920110877\n"
     ]
    },
    {
     "name": "stderr",
     "output_type": "stream",
     "text": [
      " 40%|████      | 4/10 [00:18<00:27,  4.66s/it]"
     ]
    },
    {
     "name": "stdout",
     "output_type": "stream",
     "text": [
      "model saved at ../saved_results/thesis/pbmc/classification/CD4T/train_epoch_5.pt \n",
      "\n",
      "\n",
      "\n",
      "Metrics                        Value\n",
      "-----------------------------  --------------------------------------\n",
      "R2                             [[ -443.11416626  -340.34884644]\n",
      "                                [-6311.97705078  -423.41625977]]\n",
      "Confusion Matrix               [[ 745    0    0    0    0    0    0]\n",
      "                                [   0  443    0    0    0   10    0]\n",
      "                                [   0    0 2345    3    0    1    0]\n",
      "                                [   0    0    0  390    0    0    0]\n",
      "                                [   0    0    0    0  339    0    0]\n",
      "                                [   0    3    0    0    1 1855    0]\n",
      "                                [   0    0    0    0    0    0  481]]\n",
      "Accuracy                       0.997279322853688\n",
      "Adjusted Rand Index            0.9943235867012179\n",
      "Normalized Mutual Information  0.9898315166169429\n"
     ]
    },
    {
     "name": "stderr",
     "output_type": "stream",
     "text": [
      " 50%|█████     | 5/10 [00:23<00:24,  4.81s/it]"
     ]
    },
    {
     "name": "stdout",
     "output_type": "stream",
     "text": [
      "model saved at ../saved_results/thesis/pbmc/classification/CD4T/train_epoch_6.pt \n",
      "\n",
      "\n",
      "\n",
      "Metrics                        Value\n",
      "-----------------------------  --------------------------------------\n",
      "R2                             [[ -445.84524536  -340.25708008]\n",
      "                                [-6489.96728516  -419.35403442]]\n",
      "Confusion Matrix               [[ 745    0    0    0    0    0    0]\n",
      "                                [   0  453    0    0    0    0    0]\n",
      "                                [   0    0 2348    1    0    0    0]\n",
      "                                [   0    0    0  390    0    0    0]\n",
      "                                [   0    0    0    0  339    0    0]\n",
      "                                [   0    1    0    0    0 1858    0]\n",
      "                                [   0    0    0    0    0    0  481]]\n",
      "Accuracy                       0.9996977025392987\n",
      "Adjusted Rand Index            0.9993555554257957\n",
      "Normalized Mutual Information  0.9985749540194646\n"
     ]
    },
    {
     "name": "stderr",
     "output_type": "stream",
     "text": [
      " 60%|██████    | 6/10 [00:28<00:19,  4.82s/it]"
     ]
    },
    {
     "name": "stdout",
     "output_type": "stream",
     "text": [
      "model saved at ../saved_results/thesis/pbmc/classification/CD4T/train_epoch_7.pt \n",
      "\n",
      "\n",
      "\n",
      "Metrics                        Value\n",
      "-----------------------------  --------------------------------------\n",
      "R2                             [[ -445.00866699  -340.08703613]\n",
      "                                [-6794.06347656  -489.80105591]]\n",
      "Confusion Matrix               [[ 745    0    0    0    0    0    0]\n",
      "                                [   0  453    0    0    0    0    0]\n",
      "                                [   1    0 2346    1    1    0    0]\n",
      "                                [   0    0    0  390    0    0    0]\n",
      "                                [   0    1    0    0  338    0    0]\n",
      "                                [   0  208    0    0    0 1651    0]\n",
      "                                [   0    0    0    0    0    0  481]]\n",
      "Accuracy                       0.967956469165659\n",
      "Adjusted Rand Index            0.9419360907804107\n",
      "Normalized Mutual Information  0.9495031414583308\n"
     ]
    },
    {
     "name": "stderr",
     "output_type": "stream",
     "text": [
      " 70%|███████   | 7/10 [00:33<00:14,  4.83s/it]"
     ]
    },
    {
     "name": "stdout",
     "output_type": "stream",
     "text": [
      "model saved at ../saved_results/thesis/pbmc/classification/CD4T/train_epoch_8.pt \n",
      "\n",
      "\n",
      "\n",
      "Metrics                        Value\n",
      "-----------------------------  --------------------------------------\n",
      "R2                             [[ -441.54043579  -343.38574219]\n",
      "                                [-6296.71582031  -578.20947266]]\n",
      "Confusion Matrix               [[ 745    0    0    0    0    0    0]\n",
      "                                [   0  453    0    0    0    0    0]\n",
      "                                [   0    0 2348    1    0    0    0]\n",
      "                                [   0    0    0  390    0    0    0]\n",
      "                                [   0    0    0    0  339    0    0]\n",
      "                                [   0   22    0    0    0 1837    0]\n",
      "                                [   0    0    0    0    0    0  481]]\n",
      "Accuracy                       0.9965235792019347\n",
      "Adjusted Rand Index            0.9932067066460201\n",
      "Normalized Mutual Information  0.9898271682436064\n"
     ]
    },
    {
     "name": "stderr",
     "output_type": "stream",
     "text": [
      " 80%|████████  | 8/10 [00:38<00:09,  4.95s/it]"
     ]
    },
    {
     "name": "stdout",
     "output_type": "stream",
     "text": [
      "model saved at ../saved_results/thesis/pbmc/classification/CD4T/train_epoch_9.pt \n",
      "\n",
      "\n",
      "\n",
      "Metrics                        Value\n",
      "-----------------------------  --------------------------------------\n",
      "R2                             [[ -442.73681641  -347.91082764]\n",
      "                                [-6529.03564453  -631.69818115]]\n",
      "Confusion Matrix               [[ 745    0    0    0    0    0    0]\n",
      "                                [   0  453    0    0    0    0    0]\n",
      "                                [   0    0 2348    1    0    0    0]\n",
      "                                [   0    0    0  390    0    0    0]\n",
      "                                [   0    0    0    0  339    0    0]\n",
      "                                [   0    0    0    0    0 1859    0]\n",
      "                                [   0    0    0    0    0    0  481]]\n",
      "Accuracy                       0.9998488512696493\n",
      "Adjusted Rand Index            0.9996505603685436\n",
      "Normalized Mutual Information  0.9992855115365117\n"
     ]
    },
    {
     "name": "stderr",
     "output_type": "stream",
     "text": [
      " 90%|█████████ | 9/10 [00:43<00:04,  4.82s/it]"
     ]
    },
    {
     "name": "stdout",
     "output_type": "stream",
     "text": [
      "model saved at ../saved_results/thesis/pbmc/classification/CD4T/train_epoch_10.pt \n",
      "\n",
      "\n",
      "\n",
      "Metrics                        Value\n",
      "-----------------------------  --------------------------------------\n",
      "R2                             [[ -446.23391724  -349.51376343]\n",
      "                                [-6712.47851562  -612.07824707]]\n",
      "Confusion Matrix               [[ 745    0    0    0    0    0    0]\n",
      "                                [   0  453    0    0    0    0    0]\n",
      "                                [   1    0 2347    0    1    0    0]\n",
      "                                [   0    0    0  390    0    0    0]\n",
      "                                [   0    0    0    0  339    0    0]\n",
      "                                [   0   28    0    0    1 1828    2]\n",
      "                                [   0    0    0    0    0    0  481]]\n",
      "Accuracy                       0.9950120918984281\n",
      "Adjusted Rand Index            0.9902046138824164\n",
      "Normalized Mutual Information  0.9851338471320409\n"
     ]
    },
    {
     "name": "stderr",
     "output_type": "stream",
     "text": [
      "100%|██████████| 10/10 [00:47<00:00,  4.77s/it]\n"
     ]
    }
   ],
   "source": [
    "model_classification.train(adatas_train, verbose=True)\n"
   ]
  },
  {
   "cell_type": "markdown",
   "metadata": {},
   "source": [
    "## Conclusion\n",
    "\n",
    "Perturbation response prediction is evaluated on a held out cell type group. The model given the control cells of a particular cell type, predicts the stimulated gene expression profiles, and with post-processing analysis, the DEGs are identified. scButterfly, scGen, and scPreGAN, do the comparison based on 1) the common DEGs, and 2) .\n",
    "\n",
    "The issue in our initial thinking is that the classification task can't be tested with the above setup. To hold out a cell type group to test it for perturbation response, won't be an equivalent meaningful evaluation for the classification, since we will have only one type. At the same time, the cell type knowledge is a prerequisite to train and test the model, so the cell type classification task seems not a meaningful one.\n",
    "\n",
    "In other words, the UnitedNet's classification task is meaningful, since it is possible from an experiment to have a multiple modality information for a cell, such as knowing the gene, protein or dna accessibility information. But from a perturbation perspective, the knowledge of a paired control and stimulated cell is unknown (we need cell type + optimal transport to create this pseudo information). On the other hand, we could assume that given the control cell, a model can predict the stimulated, and then having both, it could be leveraged for cell type. This would be an interesting use case to try it, and test the classification task, but the limitations of the model in the perturbation response will be carried along as the input for another task. That's we should explore other workflows.\n",
    "\n",
    "Overall, we could change the way we test, by keeping from all cell types a portion of it for testing, instead of holding out a whole cell type group (as we currently do for the validation set). Having all the above combined, UnitedNet, as it is, with the translation, and classification task can be explored on perturbation modeling."
   ]
  }
 ],
 "metadata": {
  "kernelspec": {
   "display_name": "thesis",
   "language": "python",
   "name": "python3"
  },
  "language_info": {
   "codemirror_mode": {
    "name": "ipython",
    "version": 3
   },
   "file_extension": ".py",
   "mimetype": "text/x-python",
   "name": "python",
   "nbconvert_exporter": "python",
   "pygments_lexer": "ipython3",
   "version": "3.12.6"
  }
 },
 "nbformat": 4,
 "nbformat_minor": 2
}
