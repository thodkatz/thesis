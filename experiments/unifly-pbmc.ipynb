{
 "cells": [
  {
   "cell_type": "markdown",
   "metadata": {},
   "source": [
    "## Multi-task UnitedNet on perturbation prediction with the PBMC dataset\n",
    "\n",
    "Motivation relies on the potential of scButterfly for perturbation response on the PBMC dataset stimulated by IFN-beta. scButterfly and UnitedNet share similar architectures. The seconds one leverages multi-task learning. Thus, we will attempt for a simple dataset with one perturbation type to explore the usage of UnitedNet with the tasks:\n",
    "\n",
    "- cross modal prediction on perturbation (perturbation response prediction task)\n",
    "- classification task for cell type annotation\n",
    "\n",
    "We would like to investigate if multi-task can be beneficial for perturbation modeling. Thus we will compare the multi-task model with the single-task models of the classification and the cross modal prediction task."
   ]
  },
  {
   "cell_type": "code",
   "execution_count": 29,
   "metadata": {},
   "outputs": [],
   "source": [
    "# prepare dataset\n",
    "# dataset from https://github.com/theislab/scgen-reproducibility, already preprocessed\n",
    "\n",
    "import scanpy as sc\n",
    "\n",
    "train_data = \"../data/pbmc/train_pbmc.h5ad\"\n",
    "valid_data = \"../data/pbmc/valid_pbmc.h5ad\"\n",
    "\n",
    "# pbmc data from scGen is already split into train and valid, but we will concatenate them to do a custom split\n",
    "sc_data_train = sc.read_h5ad(train_data)\n",
    "sc_data_valid = sc.read_h5ad(valid_data)\n",
    "pbmc = sc_data_train.concatenate(sc_data_valid)"
   ]
  },
  {
   "cell_type": "code",
   "execution_count": 30,
   "metadata": {},
   "outputs": [
    {
     "data": {
      "text/plain": [
       "AnnData object with n_obs × n_vars = 18868 × 6998\n",
       "    obs: 'condition', 'n_counts', 'n_genes', 'mt_frac', 'cell_type', 'batch'\n",
       "    var: 'gene_symbol', 'n_cells'\n",
       "    obsm: 'X_pca', 'X_tsne', 'X_umap'"
      ]
     },
     "execution_count": 30,
     "metadata": {},
     "output_type": "execute_result"
    }
   ],
   "source": [
    "pbmc"
   ]
  },
  {
   "cell_type": "code",
   "execution_count": 31,
   "metadata": {},
   "outputs": [
    {
     "data": {
      "text/plain": [
       "cell_type    condition \n",
       "CD4T         control       2715\n",
       "             stimulated    3483\n",
       "CD14+Mono    control       2184\n",
       "             stimulated     698\n",
       "B            control        928\n",
       "             stimulated    1105\n",
       "CD8T         control        643\n",
       "             stimulated     594\n",
       "NK           control        571\n",
       "             stimulated     733\n",
       "FCGR3A+Mono  control       1232\n",
       "             stimulated    2790\n",
       "Dendritic    control        670\n",
       "             stimulated     522\n",
       "dtype: int64"
      ]
     },
     "execution_count": 31,
     "metadata": {},
     "output_type": "execute_result"
    }
   ],
   "source": [
    "pbmc.obs.groupby(['cell_type', 'condition']).size()"
   ]
  },
  {
   "cell_type": "code",
   "execution_count": 32,
   "metadata": {},
   "outputs": [
    {
     "data": {
      "text/plain": [
       "condition\n",
       "control       8943\n",
       "stimulated    9925\n",
       "dtype: int64"
      ]
     },
     "execution_count": 32,
     "metadata": {},
     "output_type": "execute_result"
    }
   ],
   "source": [
    "pbmc.obs.groupby(['condition']).size()"
   ]
  },
  {
   "cell_type": "code",
   "execution_count": 33,
   "metadata": {},
   "outputs": [],
   "source": [
    "# simple inspection\n",
    "\n",
    "# sc.pp.pca(pbmc)\n",
    "# sc.pp.neighbors(pbmc)\n",
    "# sc.tl.tsne(pbmc)\n",
    "# sc.pl.tsne(pbmc, color=['condition', 'cell_type'], legend_loc='on data', legend_fontsize='small')"
   ]
  },
  {
   "cell_type": "markdown",
   "metadata": {},
   "source": [
    "### Create pairs of control and stimulated data using scButterfly method\n",
    "\n",
    "scButterfly showed the potential of using a dual VAR scheme for perturbation response prediction. They split the cells based on the cell type for control and stimulated, and then per cell type group, they create pairs of control and stimulated gene expression profile using optimal transport.\n",
    "\n",
    "It should be noted that during perturbation, we can't measure the exact same cell that was perturbed. The current experimental methods, don't allow this type of information. Thus, deep learning architectures that are relying on pairs, such as scButterfly and UnitedNet (combining modalities), need to find a strategy to explore if creating pseudo pairs is beneficial.\n",
    "\n",
    "scButterfly showed this exact potential."
   ]
  },
  {
   "cell_type": "code",
   "execution_count": 34,
   "metadata": {},
   "outputs": [],
   "source": [
    "from scButterfly.split_datasets import unpaired_split_dataset_perturb\n",
    "\n",
    "\n",
    "# create pairs of data using scButterfly technique\n",
    "control_data = pbmc[pbmc.obs.condition == 'control']\n",
    "stimulate_data = pbmc[pbmc.obs.condition == 'stimulated']\n",
    "\n",
    "control_data.obs.index = [str(i) for i in range(control_data.X.shape[0])]\n",
    "stimulate_data.obs.index = [str(i) for i in range(stimulate_data.X.shape[0])]\n",
    "\n",
    "cell_type_list = list(control_data.obs.cell_type.cat.categories)"
   ]
  },
  {
   "cell_type": "code",
   "execution_count": 35,
   "metadata": {},
   "outputs": [
    {
     "name": "stdout",
     "output_type": "stream",
     "text": [
      "optimal transport array torch.Size([2715, 3483])\n",
      "CD4T, control num 2715 stimulate num 3483\n",
      "\n",
      "optimal transport array torch.Size([2184, 698])\n",
      "CD14+Mono, control num 2184 stimulate num 698\n",
      "\n",
      "optimal transport array torch.Size([928, 1105])\n",
      "B, control num 928 stimulate num 1105\n",
      "\n",
      "optimal transport array torch.Size([643, 594])\n",
      "CD8T, control num 643 stimulate num 594\n",
      "\n",
      "optimal transport array torch.Size([571, 733])\n",
      "NK, control num 571 stimulate num 733\n",
      "\n",
      "optimal transport array torch.Size([1232, 2790])\n",
      "FCGR3A+Mono, control num 1232 stimulate num 2790\n",
      "\n",
      "optimal transport array torch.Size([670, 522])\n",
      "Dendritic, control num 670 stimulate num 522\n",
      "\n",
      "\n",
      "Start CD4T\n",
      "Batch list ['Dendritic', 'B', 'FCGR3A+Mono', 'CD14+Mono', 'CD4T', 'NK', 'CD8T']\n",
      "Test batch control ['Dendritic']\n",
      "Validation batch control ['B', 'FCGR3A+Mono', 'CD14+Mono', 'CD4T', 'NK', 'CD8T']\n",
      "Train batch control ['B', 'FCGR3A+Mono', 'CD14+Mono', 'CD4T', 'NK', 'CD8T']\n",
      "Test batch stimulated ['Dendritic']\n",
      "Validation batch stimulated ['B', 'FCGR3A+Mono', 'CD14+Mono', 'CD4T', 'NK', 'CD8T']\n",
      "Train batch stimulated ['B', 'FCGR3A+Mono', 'CD14+Mono', 'CD4T', 'NK', 'CD8T']\n",
      "End CD4T\n",
      "\n",
      "train len 2172 valid len 543\n",
      "id_list\n",
      "2172\n",
      "2172\n",
      "543\n",
      "543\n",
      "670\n",
      "522\n",
      "\n",
      "train len 1747 valid len 437\n",
      "id_list\n",
      "3919\n",
      "3919\n",
      "980\n",
      "980\n",
      "670\n",
      "522\n",
      "\n",
      "train len 742 valid len 186\n",
      "id_list\n",
      "4661\n",
      "4661\n",
      "1166\n",
      "1166\n",
      "670\n",
      "522\n",
      "\n",
      "train len 514 valid len 129\n",
      "id_list\n",
      "5175\n",
      "5175\n",
      "1295\n",
      "1295\n",
      "670\n",
      "522\n",
      "\n",
      "train len 456 valid len 115\n",
      "id_list\n",
      "5631\n",
      "5631\n",
      "1410\n",
      "1410\n",
      "670\n",
      "522\n",
      "\n",
      "train len 985 valid len 247\n",
      "id_list\n",
      "6616\n",
      "6616\n",
      "1657\n",
      "1657\n",
      "670\n",
      "522\n",
      "\n",
      "train len 0 valid len 0\n",
      "\n",
      "Start CD14+Mono\n",
      "Batch list ['B', 'FCGR3A+Mono', 'CD14+Mono', 'CD4T', 'NK', 'CD8T', 'Dendritic']\n",
      "Test batch control ['B']\n",
      "Validation batch control ['FCGR3A+Mono', 'CD14+Mono', 'CD4T', 'NK', 'CD8T', 'Dendritic']\n",
      "Train batch control ['FCGR3A+Mono', 'CD14+Mono', 'CD4T', 'NK', 'CD8T', 'Dendritic']\n",
      "Test batch stimulated ['B']\n",
      "Validation batch stimulated ['FCGR3A+Mono', 'CD14+Mono', 'CD4T', 'NK', 'CD8T', 'Dendritic']\n",
      "Train batch stimulated ['FCGR3A+Mono', 'CD14+Mono', 'CD4T', 'NK', 'CD8T', 'Dendritic']\n",
      "End CD14+Mono\n",
      "\n",
      "train len 2172 valid len 543\n",
      "id_list\n",
      "2172\n",
      "2172\n",
      "543\n",
      "543\n",
      "928\n",
      "1105\n",
      "\n",
      "train len 1747 valid len 437\n",
      "id_list\n",
      "3919\n",
      "3919\n",
      "980\n",
      "980\n",
      "928\n",
      "1105\n",
      "\n",
      "train len 0 valid len 0\n",
      "train len 514 valid len 129\n",
      "id_list\n",
      "4433\n",
      "4433\n",
      "1109\n",
      "1109\n",
      "928\n",
      "1105\n",
      "\n",
      "train len 456 valid len 115\n",
      "id_list\n",
      "4889\n",
      "4889\n",
      "1224\n",
      "1224\n",
      "928\n",
      "1105\n",
      "\n",
      "train len 985 valid len 247\n",
      "id_list\n",
      "5874\n",
      "5874\n",
      "1471\n",
      "1471\n",
      "928\n",
      "1105\n",
      "\n",
      "train len 536 valid len 134\n",
      "id_list\n",
      "6410\n",
      "6410\n",
      "1605\n",
      "1605\n",
      "928\n",
      "1105\n",
      "\n",
      "\n",
      "Start B\n",
      "Batch list ['FCGR3A+Mono', 'CD14+Mono', 'CD4T', 'NK', 'CD8T', 'Dendritic', 'B']\n",
      "Test batch control ['FCGR3A+Mono']\n",
      "Validation batch control ['CD14+Mono', 'CD4T', 'NK', 'CD8T', 'Dendritic', 'B']\n",
      "Train batch control ['CD14+Mono', 'CD4T', 'NK', 'CD8T', 'Dendritic', 'B']\n",
      "Test batch stimulated ['FCGR3A+Mono']\n",
      "Validation batch stimulated ['CD14+Mono', 'CD4T', 'NK', 'CD8T', 'Dendritic', 'B']\n",
      "Train batch stimulated ['CD14+Mono', 'CD4T', 'NK', 'CD8T', 'Dendritic', 'B']\n",
      "End B\n",
      "\n",
      "train len 2172 valid len 543\n",
      "id_list\n",
      "2172\n",
      "2172\n",
      "543\n",
      "543\n",
      "1232\n",
      "2790\n",
      "\n",
      "train len 1747 valid len 437\n",
      "id_list\n",
      "3919\n",
      "3919\n",
      "980\n",
      "980\n",
      "1232\n",
      "2790\n",
      "\n",
      "train len 742 valid len 186\n",
      "id_list\n",
      "4661\n",
      "4661\n",
      "1166\n",
      "1166\n",
      "1232\n",
      "2790\n",
      "\n",
      "train len 514 valid len 129\n",
      "id_list\n",
      "5175\n",
      "5175\n",
      "1295\n",
      "1295\n",
      "1232\n",
      "2790\n",
      "\n",
      "train len 456 valid len 115\n",
      "id_list\n",
      "5631\n",
      "5631\n",
      "1410\n",
      "1410\n",
      "1232\n",
      "2790\n",
      "\n",
      "train len 0 valid len 0\n",
      "train len 536 valid len 134\n",
      "id_list\n",
      "6167\n",
      "6167\n",
      "1544\n",
      "1544\n",
      "1232\n",
      "2790\n",
      "\n",
      "\n",
      "Start CD8T\n",
      "Batch list ['CD14+Mono', 'CD4T', 'NK', 'CD8T', 'Dendritic', 'B', 'FCGR3A+Mono']\n",
      "Test batch control ['CD14+Mono']\n",
      "Validation batch control ['CD4T', 'NK', 'CD8T', 'Dendritic', 'B', 'FCGR3A+Mono']\n",
      "Train batch control ['CD4T', 'NK', 'CD8T', 'Dendritic', 'B', 'FCGR3A+Mono']\n",
      "Test batch stimulated ['CD14+Mono']\n",
      "Validation batch stimulated ['CD4T', 'NK', 'CD8T', 'Dendritic', 'B', 'FCGR3A+Mono']\n",
      "Train batch stimulated ['CD4T', 'NK', 'CD8T', 'Dendritic', 'B', 'FCGR3A+Mono']\n",
      "End CD8T\n",
      "\n",
      "train len 2172 valid len 543\n",
      "id_list\n",
      "2172\n",
      "2172\n",
      "543\n",
      "543\n",
      "2184\n",
      "698\n",
      "\n",
      "train len 0 valid len 0\n",
      "train len 742 valid len 186\n",
      "id_list\n",
      "2914\n",
      "2914\n",
      "729\n",
      "729\n",
      "2184\n",
      "698\n",
      "\n",
      "train len 514 valid len 129\n",
      "id_list\n",
      "3428\n",
      "3428\n",
      "858\n",
      "858\n",
      "2184\n",
      "698\n",
      "\n",
      "train len 456 valid len 115\n",
      "id_list\n",
      "3884\n",
      "3884\n",
      "973\n",
      "973\n",
      "2184\n",
      "698\n",
      "\n",
      "train len 985 valid len 247\n",
      "id_list\n",
      "4869\n",
      "4869\n",
      "1220\n",
      "1220\n",
      "2184\n",
      "698\n",
      "\n",
      "train len 536 valid len 134\n",
      "id_list\n",
      "5405\n",
      "5405\n",
      "1354\n",
      "1354\n",
      "2184\n",
      "698\n",
      "\n",
      "\n",
      "Start NK\n",
      "Batch list ['CD4T', 'NK', 'CD8T', 'Dendritic', 'B', 'FCGR3A+Mono', 'CD14+Mono']\n",
      "Test batch control ['CD4T']\n",
      "Validation batch control ['NK', 'CD8T', 'Dendritic', 'B', 'FCGR3A+Mono', 'CD14+Mono']\n",
      "Train batch control ['NK', 'CD8T', 'Dendritic', 'B', 'FCGR3A+Mono', 'CD14+Mono']\n",
      "Test batch stimulated ['CD4T']\n",
      "Validation batch stimulated ['NK', 'CD8T', 'Dendritic', 'B', 'FCGR3A+Mono', 'CD14+Mono']\n",
      "Train batch stimulated ['NK', 'CD8T', 'Dendritic', 'B', 'FCGR3A+Mono', 'CD14+Mono']\n",
      "End NK\n",
      "\n",
      "train len 0 valid len 0\n",
      "train len 1747 valid len 437\n",
      "id_list\n",
      "1747\n",
      "1747\n",
      "437\n",
      "437\n",
      "2715\n",
      "3483\n",
      "\n",
      "train len 742 valid len 186\n",
      "id_list\n",
      "2489\n",
      "2489\n",
      "623\n",
      "623\n",
      "2715\n",
      "3483\n",
      "\n",
      "train len 514 valid len 129\n",
      "id_list\n",
      "3003\n",
      "3003\n",
      "752\n",
      "752\n",
      "2715\n",
      "3483\n",
      "\n",
      "train len 456 valid len 115\n",
      "id_list\n",
      "3459\n",
      "3459\n",
      "867\n",
      "867\n",
      "2715\n",
      "3483\n",
      "\n",
      "train len 985 valid len 247\n",
      "id_list\n",
      "4444\n",
      "4444\n",
      "1114\n",
      "1114\n",
      "2715\n",
      "3483\n",
      "\n",
      "train len 536 valid len 134\n",
      "id_list\n",
      "4980\n",
      "4980\n",
      "1248\n",
      "1248\n",
      "2715\n",
      "3483\n",
      "\n",
      "\n",
      "Start FCGR3A+Mono\n",
      "Batch list ['NK', 'CD8T', 'Dendritic', 'B', 'FCGR3A+Mono', 'CD14+Mono', 'CD4T']\n",
      "Test batch control ['NK']\n",
      "Validation batch control ['CD8T', 'Dendritic', 'B', 'FCGR3A+Mono', 'CD14+Mono', 'CD4T']\n",
      "Train batch control ['CD8T', 'Dendritic', 'B', 'FCGR3A+Mono', 'CD14+Mono', 'CD4T']\n",
      "Test batch stimulated ['NK']\n",
      "Validation batch stimulated ['CD8T', 'Dendritic', 'B', 'FCGR3A+Mono', 'CD14+Mono', 'CD4T']\n",
      "Train batch stimulated ['CD8T', 'Dendritic', 'B', 'FCGR3A+Mono', 'CD14+Mono', 'CD4T']\n",
      "End FCGR3A+Mono\n",
      "\n",
      "train len 2172 valid len 543\n",
      "id_list\n",
      "2172\n",
      "2172\n",
      "543\n",
      "543\n",
      "571\n",
      "733\n",
      "\n",
      "train len 1747 valid len 437\n",
      "id_list\n",
      "3919\n",
      "3919\n",
      "980\n",
      "980\n",
      "571\n",
      "733\n",
      "\n",
      "train len 742 valid len 186\n",
      "id_list\n",
      "4661\n",
      "4661\n",
      "1166\n",
      "1166\n",
      "571\n",
      "733\n",
      "\n",
      "train len 514 valid len 129\n",
      "id_list\n",
      "5175\n",
      "5175\n",
      "1295\n",
      "1295\n",
      "571\n",
      "733\n",
      "\n",
      "train len 0 valid len 0\n",
      "train len 985 valid len 247\n",
      "id_list\n",
      "6160\n",
      "6160\n",
      "1542\n",
      "1542\n",
      "571\n",
      "733\n",
      "\n",
      "train len 536 valid len 134\n",
      "id_list\n",
      "6696\n",
      "6696\n",
      "1676\n",
      "1676\n",
      "571\n",
      "733\n",
      "\n",
      "\n",
      "Start Dendritic\n",
      "Batch list ['CD8T', 'Dendritic', 'B', 'FCGR3A+Mono', 'CD14+Mono', 'CD4T', 'NK']\n",
      "Test batch control ['CD8T']\n",
      "Validation batch control ['Dendritic', 'B', 'FCGR3A+Mono', 'CD14+Mono', 'CD4T', 'NK']\n",
      "Train batch control ['Dendritic', 'B', 'FCGR3A+Mono', 'CD14+Mono', 'CD4T', 'NK']\n",
      "Test batch stimulated ['CD8T']\n",
      "Validation batch stimulated ['Dendritic', 'B', 'FCGR3A+Mono', 'CD14+Mono', 'CD4T', 'NK']\n",
      "Train batch stimulated ['Dendritic', 'B', 'FCGR3A+Mono', 'CD14+Mono', 'CD4T', 'NK']\n",
      "End Dendritic\n",
      "\n",
      "train len 2172 valid len 543\n",
      "id_list\n",
      "2172\n",
      "2172\n",
      "543\n",
      "543\n",
      "643\n",
      "594\n",
      "\n",
      "train len 1747 valid len 437\n",
      "id_list\n",
      "3919\n",
      "3919\n",
      "980\n",
      "980\n",
      "643\n",
      "594\n",
      "\n",
      "train len 742 valid len 186\n",
      "id_list\n",
      "4661\n",
      "4661\n",
      "1166\n",
      "1166\n",
      "643\n",
      "594\n",
      "\n",
      "train len 0 valid len 0\n",
      "train len 456 valid len 115\n",
      "id_list\n",
      "5117\n",
      "5117\n",
      "1281\n",
      "1281\n",
      "643\n",
      "594\n",
      "\n",
      "train len 985 valid len 247\n",
      "id_list\n",
      "6102\n",
      "6102\n",
      "1528\n",
      "1528\n",
      "643\n",
      "594\n",
      "\n",
      "train len 536 valid len 134\n",
      "id_list\n",
      "6638\n",
      "6638\n",
      "1662\n",
      "1662\n",
      "643\n",
      "594\n",
      "\n"
     ]
    }
   ],
   "source": [
    "id_list, id_list_dict = unpaired_split_dataset_perturb(control_data, stimulate_data)"
   ]
  },
  {
   "cell_type": "code",
   "execution_count": 36,
   "metadata": {},
   "outputs": [
    {
     "name": "stdout",
     "output_type": "stream",
     "text": [
      "CD4T\n",
      "control 6616 1657 670 8943\n",
      "control 6616 1657 670\n",
      "peturb 6616 1657 522 8795\n",
      "peturb 6616 1657 522\n",
      "\n",
      "CD14+Mono\n",
      "control 6410 1605 928 8943\n",
      "control 6410 1605 928\n",
      "peturb 6410 1605 1105 9120\n",
      "peturb 6410 1605 1105\n",
      "\n",
      "B\n",
      "control 6167 1544 1232 8943\n",
      "control 6167 1544 1232\n",
      "peturb 6167 1544 2790 10501\n",
      "peturb 6167 1544 2790\n",
      "\n",
      "CD8T\n",
      "control 5405 1354 2184 8943\n",
      "control 5405 1354 2184\n",
      "peturb 5405 1354 698 7457\n",
      "peturb 5405 1354 698\n",
      "\n",
      "NK\n",
      "control 4980 1248 2715 8943\n",
      "control 4980 1248 2715\n",
      "peturb 4980 1248 3483 9711\n",
      "peturb 4980 1248 3483\n",
      "\n",
      "FCGR3A+Mono\n",
      "control 6696 1676 571 8943\n",
      "control 6696 1676 571\n",
      "peturb 6696 1676 733 9105\n",
      "peturb 6696 1676 733\n",
      "\n",
      "Dendritic\n",
      "control 6638 1662 643 8943\n",
      "control 6638 1662 643\n",
      "peturb 6638 1662 594 8894\n",
      "peturb 6638 1662 594\n",
      "\n"
     ]
    }
   ],
   "source": [
    "#print(len(id_list[0]))\n",
    "for idx, cell_type in enumerate(cell_type_list):\n",
    "    print(cell_type)\n",
    "    train_id_control, train_id_peturb, validation_id_control, validation_id_peturb, test_id_control, test_id_peturb = id_list[idx]\n",
    "\n",
    "    control = len(train_id_control) + len(validation_id_control) + len(test_id_control)\n",
    "    peturb = len(train_id_peturb) + len(validation_id_peturb) + len(test_id_peturb) \n",
    "    control_dict = id_list_dict[cell_type][\"control\"]\n",
    "    peturb_dict = id_list_dict[cell_type][\"stimulated\"]\n",
    "    print(\"control\", len(train_id_control), len(validation_id_control), len(test_id_control), control)\n",
    "    print(\"control\", len(control_dict[\"train\"]), len(control_dict[\"validation\"]), len(control_dict[\"test\"]))\n",
    "    print(\"peturb\", len(train_id_peturb), len(validation_id_peturb), len(test_id_peturb), peturb)    \n",
    "    print(\"peturb\", len(peturb_dict[\"train\"]), len(peturb_dict[\"validation\"]), len(peturb_dict[\"test\"]))\n",
    "    print()\n",
    "    \n",
    "# Some notes due to the lack of code readability from scButterfly:\n",
    "# - the rows of the id_list correspond to the cell types, but they don't have any meaning.\n",
    "# - the rows actually correspond to k-fold cross validation. One batch is a cell type that is held out.\n",
    "# - the cell_type of the row and the one that is held out are irrelevant.\n",
    "# - for the test, the control and the stimulated can have different size. But for train and validation we need pairs."
   ]
  },
  {
   "cell_type": "code",
   "execution_count": 41,
   "metadata": {},
   "outputs": [
    {
     "name": "stdout",
     "output_type": "stream",
     "text": [
      "min 7.0346947\n",
      "max 0.0\n",
      "\n",
      "min 6.822089\n",
      "max 0.0\n",
      "\n",
      "min 6.7637987\n",
      "max 0.0\n",
      "\n",
      "min 6.879698\n",
      "max 0.0\n",
      "\n",
      "min 7.0346947\n",
      "max 0.0\n",
      "\n",
      "min 5.961386\n",
      "max 0.0\n",
      "\n"
     ]
    },
    {
     "data": {
      "text/plain": [
       "[AnnData object with n_obs × n_vars = 670 × 6998\n",
       "     obs: 'condition', 'n_counts', 'n_genes', 'mt_frac', 'cell_type', 'batch', 'label'\n",
       "     var: 'gene_symbol', 'n_cells'\n",
       "     obsm: 'X_pca', 'X_tsne', 'X_umap',\n",
       " AnnData object with n_obs × n_vars = 522 × 6998\n",
       "     obs: 'condition', 'n_counts', 'n_genes', 'mt_frac', 'cell_type', 'batch', 'label'\n",
       "     var: 'gene_symbol', 'n_cells'\n",
       "     obsm: 'X_pca', 'X_tsne', 'X_umap']"
      ]
     },
     "execution_count": 41,
     "metadata": {},
     "output_type": "execute_result"
    }
   ],
   "source": [
    "# create adatas for pair of control and stimulated\n",
    "import numpy as np\n",
    "\n",
    "\n",
    "batch = cell_type_list[0]\n",
    "id_list_batch = id_list_dict[batch]\n",
    "control = id_list_batch[\"control\"]\n",
    "peturb = id_list_batch[\"stimulated\"]\n",
    "train_id_control = control[\"train\"]\n",
    "validation_id_control = control[\"validation\"]\n",
    "test_id_control = control[\"test\"]\n",
    "train_id_peturb = peturb[\"train\"]\n",
    "validation_id_peturb = peturb[\"validation\"]\n",
    "test_id_peturb = peturb[\"test\"]\n",
    "\n",
    "control_train = pbmc[train_id_control]\n",
    "control_valid = pbmc[validation_id_control]\n",
    "control_test = pbmc[test_id_control]\n",
    "\n",
    "peturb_train = pbmc[train_id_peturb]\n",
    "peturb_valid = pbmc[validation_id_peturb]\n",
    "peturb_test = pbmc[test_id_peturb]\n",
    "\n",
    "all = [control_train, control_valid, control_test, peturb_train, peturb_valid, peturb_test]\n",
    "for adata in all:\n",
    "    adata.obs[\"label\"] = list(adata.obs[\"cell_type\"])\n",
    "    adata.X = adata.X.toarray()\n",
    "    print(\"min\", np.max(adata.X))\n",
    "    print(\"max\", np.min(adata.X))\n",
    "    print()\n",
    "\n",
    "adatas_train = [control_train, peturb_train]\n",
    "adatas_valid = [control_valid, peturb_valid]\n",
    "adatas_test = [control_test, peturb_test]\n",
    "\n",
    "features_num = adatas_train[0].n_vars\n",
    "adatas_test\n"
   ]
  },
  {
   "cell_type": "markdown",
   "metadata": {},
   "source": [
    "### Prepare multi-task model\n",
    "\n",
    "UnitedNet attempts to solve two tasks, the cell type annotation and the cross modal prediction.\n",
    "\n",
    "Metrics overview:\n",
    "\n",
    "Translation\n",
    "- R2\n",
    "\n",
    "Classification\n",
    "- Confusion matrix\n",
    "- Adjusted Rank Index\n",
    "- Accuracy\n",
    "- Normalized Mutual information\n",
    "\n",
    "Both of the classification and the translation network's parameters are taken into account in the multi-task way orchestrated by UnitedNet."
   ]
  },
  {
   "cell_type": "code",
   "execution_count": 40,
   "metadata": {},
   "outputs": [
    {
     "name": "stdout",
     "output_type": "stream",
     "text": [
      "training\n"
     ]
    },
    {
     "name": "stderr",
     "output_type": "stream",
     "text": [
      "  0%|          | 0/50 [00:00<?, ?it/s]"
     ]
    },
    {
     "name": "stdout",
     "output_type": "stream",
     "text": [
      "model saved at saved_results/thesis/pbmc/multi_task/CD4T/train_epoch_1.pt \n",
      "\n",
      "\n",
      "\n",
      "Metrics                        Value\n",
      "-----------------------------  --------------------------------------\n",
      "R2                             [[-0.05406102 -0.05405913]\n",
      "                                [-1.99397302 -1.99397302]]\n",
      "Confusion Matrix               [[ 745    0    0    0    0    0    0]\n",
      "                                [   0  435    0    0    0   18    0]\n",
      "                                [   0    0 2326   23    0    0    0]\n",
      "                                [   0    0    0  390    0    0    0]\n",
      "                                [   3    0    0    0  332    4    0]\n",
      "                                [   2   32    1    0    4 1820    0]\n",
      "                                [   0    0    0    2    0    1  478]]\n",
      "Accuracy                       0.9863966142684402\n",
      "Adjusted Rand Index            0.973166750722691\n",
      "Normalized Mutual Information  0.9592932191659395\n"
     ]
    },
    {
     "name": "stderr",
     "output_type": "stream",
     "text": [
      "  2%|▏         | 1/50 [00:07<05:52,  7.19s/it]"
     ]
    },
    {
     "name": "stdout",
     "output_type": "stream",
     "text": [
      "model saved at saved_results/thesis/pbmc/multi_task/CD4T/train_epoch_2.pt \n",
      "\n",
      "\n",
      "\n",
      "Metrics                        Value\n",
      "-----------------------------  --------------------------------------\n",
      "R2                             [[-0.05406102 -0.05406102]\n",
      "                                [-0.13593295 -0.13593295]]\n",
      "Confusion Matrix               [[ 745    0    0    0    0    0    0]\n",
      "                                [   0  453    0    0    0    0    0]\n",
      "                                [   1    0 2330   16    2    0    0]\n",
      "                                [   0    0    0  388    0    0    2]\n",
      "                                [   0    0    0    0  335    4    0]\n",
      "                                [   0    8    0    0    0 1851    0]\n",
      "                                [   0    0    0    0    0    0  481]]\n",
      "Accuracy                       0.9950120918984281\n",
      "Adjusted Rand Index            0.9896526460167843\n",
      "Normalized Mutual Information  0.9829681328421657\n"
     ]
    },
    {
     "name": "stderr",
     "output_type": "stream",
     "text": [
      "  4%|▍         | 2/50 [00:13<05:33,  6.94s/it]"
     ]
    },
    {
     "name": "stdout",
     "output_type": "stream",
     "text": [
      "model saved at saved_results/thesis/pbmc/multi_task/CD4T/train_epoch_3.pt \n",
      "\n",
      "\n",
      "\n",
      "Metrics                        Value\n",
      "-----------------------------  --------------------------------------\n",
      "R2                             [[-0.05406102 -0.05406102]\n",
      "                                [-0.01139272 -0.01139272]]\n",
      "Confusion Matrix               [[ 745    0    0    0    0    0    0]\n",
      "                                [   0  434    0    0    0   19    0]\n",
      "                                [   0    0 2349    0    0    0    0]\n",
      "                                [   1    0    0  389    0    0    0]\n",
      "                                [   0    0    0    0  339    0    0]\n",
      "                                [   0    0    0    0    0 1859    0]\n",
      "                                [   0    0    0    0    0    0  481]]\n",
      "Accuracy                       0.9969770253929867\n",
      "Adjusted Rand Index            0.9943063721182498\n",
      "Normalized Mutual Information  0.990921059835599\n"
     ]
    },
    {
     "name": "stderr",
     "output_type": "stream",
     "text": [
      "  6%|▌         | 3/50 [00:21<05:32,  7.08s/it]"
     ]
    },
    {
     "name": "stdout",
     "output_type": "stream",
     "text": [
      "model saved at saved_results/thesis/pbmc/multi_task/CD4T/train_epoch_4.pt \n",
      "\n",
      "\n",
      "\n",
      "Metrics                        Value\n",
      "-----------------------------  --------------------------------------\n",
      "R2                             [[-0.05406102 -0.05406102]\n",
      "                                [-0.00344543 -0.00344543]]\n",
      "Confusion Matrix               [[ 745    0    0    0    0    0    0]\n",
      "                                [   0  435    0    0    0   18    0]\n",
      "                                [   0    0 2349    0    0    0    0]\n",
      "                                [   0    0    2  388    0    0    0]\n",
      "                                [   0    0    0    0  339    0    0]\n",
      "                                [   0    0    0    0    1 1858    0]\n",
      "                                [   0    0    0    2    0    0  479]]\n",
      "Accuracy                       0.9965235792019347\n",
      "Adjusted Rand Index            0.9935451229708105\n",
      "Normalized Mutual Information  0.9887757003241716\n"
     ]
    },
    {
     "name": "stderr",
     "output_type": "stream",
     "text": [
      "  8%|▊         | 4/50 [00:28<05:22,  7.00s/it]"
     ]
    },
    {
     "name": "stdout",
     "output_type": "stream",
     "text": [
      "model saved at saved_results/thesis/pbmc/multi_task/CD4T/train_epoch_5.pt \n",
      "\n",
      "\n",
      "\n",
      "Metrics                        Value\n",
      "-----------------------------  --------------------------------------\n",
      "R2                             [[-0.05406102 -0.05406102]\n",
      "                                [-0.0032968  -0.0032968 ]]\n",
      "Confusion Matrix               [[ 738    0    3    0    3    1    0]\n",
      "                                [   0  453    0    0    0    0    0]\n",
      "                                [   0    0 2349    0    0    0    0]\n",
      "                                [   0    0    0  390    0    0    0]\n",
      "                                [   0    0    0    0  338    1    0]\n",
      "                                [   0    1    0    0    0 1858    0]\n",
      "                                [   0    0    0    0    0    0  481]]\n",
      "Accuracy                       0.998639661426844\n",
      "Adjusted Rand Index            0.9974986703651537\n",
      "Normalized Mutual Information  0.9942584722301264\n"
     ]
    },
    {
     "name": "stderr",
     "output_type": "stream",
     "text": [
      " 10%|█         | 5/50 [00:35<05:14,  6.98s/it]"
     ]
    },
    {
     "name": "stdout",
     "output_type": "stream",
     "text": [
      "model saved at saved_results/thesis/pbmc/multi_task/CD4T/train_epoch_6.pt \n",
      "\n",
      "\n",
      "\n",
      "Metrics                        Value\n",
      "-----------------------------  --------------------------------------\n",
      "R2                             [[-0.05406102 -0.05406102]\n",
      "                                [-0.00337104 -0.00337104]]\n",
      "Confusion Matrix               [[ 745    0    0    0    0    0    0]\n",
      "                                [   0  453    0    0    0    0    0]\n",
      "                                [   2    0 2347    0    0    0    0]\n",
      "                                [   0    0    0  390    0    0    0]\n",
      "                                [   0    0    0    0  339    0    0]\n",
      "                                [   0    1    0    0    0 1858    0]\n",
      "                                [   0    0    0    0    0    0  481]]\n",
      "Accuracy                       0.999546553808948\n",
      "Adjusted Rand Index            0.9989156227975491\n",
      "Normalized Mutual Information  0.9979277117890427\n"
     ]
    },
    {
     "name": "stderr",
     "output_type": "stream",
     "text": [
      " 12%|█▏        | 6/50 [00:42<05:20,  7.28s/it]"
     ]
    },
    {
     "name": "stdout",
     "output_type": "stream",
     "text": [
      "model saved at saved_results/thesis/pbmc/multi_task/CD4T/train_epoch_7.pt \n",
      "\n",
      "\n",
      "\n",
      "Metrics                        Value\n",
      "-----------------------------  --------------------------------------\n",
      "R2                             [[-0.05406102 -0.05406102]\n",
      "                                [-0.00380702 -0.00380702]]\n",
      "Confusion Matrix               [[ 745    0    0    0    0    0    0]\n",
      "                                [   0  453    0    0    0    0    0]\n",
      "                                [   5    1 2342    0    0    1    0]\n",
      "                                [   0    0    0  390    0    0    0]\n",
      "                                [   0    0    0    0  339    0    0]\n",
      "                                [   0    0    0    0    0 1859    0]\n",
      "                                [   0    0    0    0    0    0  481]]\n",
      "Accuracy                       0.9989419588875453\n",
      "Adjusted Rand Index            0.9971341816602007\n",
      "Normalized Mutual Information  0.9955061376145117\n"
     ]
    },
    {
     "name": "stderr",
     "output_type": "stream",
     "text": [
      " 14%|█▍        | 7/50 [00:50<05:18,  7.40s/it]"
     ]
    },
    {
     "name": "stdout",
     "output_type": "stream",
     "text": [
      "model saved at saved_results/thesis/pbmc/multi_task/CD4T/train_epoch_8.pt \n",
      "\n",
      "\n",
      "\n",
      "Metrics                        Value\n",
      "-----------------------------  --------------------------------------\n",
      "R2                             [[-0.05406102 -0.05406102]\n",
      "                                [-0.00436152 -0.00436152]]\n",
      "Confusion Matrix               [[ 745    0    0    0    0    0    0]\n",
      "                                [   0  453    0    0    0    0    0]\n",
      "                                [   0    0 2349    0    0    0    0]\n",
      "                                [   0    0    1  389    0    0    0]\n",
      "                                [   0    0    0    0  339    0    0]\n",
      "                                [   0    0    0    0    0 1859    0]\n",
      "                                [   0    0    0    0    0    0  481]]\n",
      "Accuracy                       0.9998488512696493\n",
      "Adjusted Rand Index            0.9996506534238886\n",
      "Normalized Mutual Information  0.9992854921266813\n"
     ]
    },
    {
     "name": "stderr",
     "output_type": "stream",
     "text": [
      " 16%|█▌        | 8/50 [00:57<05:09,  7.38s/it]"
     ]
    },
    {
     "name": "stdout",
     "output_type": "stream",
     "text": [
      "model saved at saved_results/thesis/pbmc/multi_task/CD4T/train_epoch_9.pt \n",
      "\n",
      "\n",
      "\n",
      "Metrics                        Value\n",
      "-----------------------------  --------------------------------------\n",
      "R2                             [[-0.05406102 -0.05406102]\n",
      "                                [-0.0045095  -0.0045095 ]]\n",
      "Confusion Matrix               [[ 745    0    0    0    0    0    0]\n",
      "                                [   0  453    0    0    0    0    0]\n",
      "                                [   0    0 2349    0    0    0    0]\n",
      "                                [   0    0    0  390    0    0    0]\n",
      "                                [   0    0    0    0  339    0    0]\n",
      "                                [   0    0    0    0    0 1859    0]\n",
      "                                [   0    0    1    3    0    1  476]]\n",
      "Accuracy                       0.9992442563482467\n",
      "Adjusted Rand Index            0.9990093184492642\n",
      "Normalized Mutual Information  0.996934971801183\n"
     ]
    },
    {
     "name": "stderr",
     "output_type": "stream",
     "text": [
      " 18%|█▊        | 9/50 [01:05<05:01,  7.35s/it]"
     ]
    },
    {
     "name": "stdout",
     "output_type": "stream",
     "text": [
      "model saved at saved_results/thesis/pbmc/multi_task/CD4T/train_epoch_10.pt \n",
      "\n",
      "\n",
      "\n",
      "Metrics                        Value\n",
      "-----------------------------  --------------------------------------\n",
      "R2                             [[-0.05406102 -0.05406102]\n",
      "                                [-0.00460219 -0.00460219]]\n",
      "Confusion Matrix               [[ 745    0    0    0    0    0    0]\n",
      "                                [   0  453    0    0    0    0    0]\n",
      "                                [   0    0 2349    0    0    0    0]\n",
      "                                [   0    0    0  390    0    0    0]\n",
      "                                [   0    0    0    0  334    5    0]\n",
      "                                [   0    0    0    0    0 1859    0]\n",
      "                                [   0    0    0    0    0    0  481]]\n",
      "Accuracy                       0.9992442563482467\n",
      "Adjusted Rand Index            0.9986014934805342\n",
      "Normalized Mutual Information  0.997244000149065\n"
     ]
    },
    {
     "name": "stderr",
     "output_type": "stream",
     "text": [
      " 20%|██        | 10/50 [01:12<04:56,  7.42s/it]"
     ]
    },
    {
     "name": "stdout",
     "output_type": "stream",
     "text": [
      "model saved at saved_results/thesis/pbmc/multi_task/CD4T/train_epoch_11.pt \n",
      "\n",
      "\n",
      "\n",
      "Metrics                        Value\n",
      "-----------------------------  --------------------------------------\n",
      "R2                             [[-0.05406102 -0.05406102]\n",
      "                                [-0.00493432 -0.00493432]]\n",
      "Confusion Matrix               [[ 745    0    0    0    0    0    0]\n",
      "                                [   0  453    0    0    0    0    0]\n",
      "                                [   0    2 2347    0    0    0    0]\n",
      "                                [   0    0    0  390    0    0    0]\n",
      "                                [   0    0    0    0  339    0    0]\n",
      "                                [   0  212    0    0    3 1644    0]\n",
      "                                [   0    0    0    0    0    0  481]]\n",
      "Accuracy                       0.9672007255139057\n",
      "Adjusted Rand Index            0.9406093480255484\n",
      "Normalized Mutual Information  0.9486363765232089\n"
     ]
    },
    {
     "name": "stderr",
     "output_type": "stream",
     "text": [
      " 22%|██▏       | 11/50 [01:19<04:46,  7.33s/it]"
     ]
    },
    {
     "name": "stdout",
     "output_type": "stream",
     "text": [
      "model saved at saved_results/thesis/pbmc/multi_task/CD4T/train_epoch_12.pt \n",
      "\n",
      "\n",
      "\n",
      "Metrics                        Value\n",
      "-----------------------------  --------------------------------------\n",
      "R2                             [[-0.05406102 -0.05406102]\n",
      "                                [-0.00519205 -0.00519205]]\n",
      "Confusion Matrix               [[ 745    0    0    0    0    0    0]\n",
      "                                [   0  453    0    0    0    0    0]\n",
      "                                [   0    0 2349    0    0    0    0]\n",
      "                                [   0    0    0  390    0    0    0]\n",
      "                                [   0    0    0    0  339    0    0]\n",
      "                                [   0   12    0    0    0 1847    0]\n",
      "                                [   0    0    0    0    0    0  481]]\n",
      "Accuracy                       0.998186215235792\n",
      "Adjusted Rand Index            0.9964739853276727\n",
      "Normalized Mutual Information  0.9941804874314073\n"
     ]
    },
    {
     "name": "stderr",
     "output_type": "stream",
     "text": [
      " 24%|██▍       | 12/50 [01:26<04:33,  7.20s/it]"
     ]
    },
    {
     "name": "stdout",
     "output_type": "stream",
     "text": [
      "model saved at saved_results/thesis/pbmc/multi_task/CD4T/train_epoch_13.pt \n",
      "\n",
      "\n",
      "\n",
      "Metrics                        Value\n",
      "-----------------------------  --------------------------------------\n",
      "R2                             [[-0.05406102 -0.05406102]\n",
      "                                [-0.00520101 -0.00520101]]\n",
      "Confusion Matrix               [[ 743    0    2    0    0    0    0]\n",
      "                                [   0  453    0    0    0    0    0]\n",
      "                                [   0    0 2347    1    0    0    1]\n",
      "                                [   0    0    0  389    0    1    0]\n",
      "                                [   0    0    0    0  339    0    0]\n",
      "                                [   0    0    0    0    0 1859    0]\n",
      "                                [   0    0    0    0    0    0  481]]\n",
      "Accuracy                       0.9992442563482467\n",
      "Adjusted Rand Index            0.9982144724346461\n",
      "Normalized Mutual Information  0.996495922746686\n"
     ]
    },
    {
     "name": "stderr",
     "output_type": "stream",
     "text": [
      " 26%|██▌       | 13/50 [01:34<04:27,  7.24s/it]"
     ]
    },
    {
     "name": "stdout",
     "output_type": "stream",
     "text": [
      "model saved at saved_results/thesis/pbmc/multi_task/CD4T/train_epoch_14.pt \n",
      "\n",
      "\n",
      "\n",
      "Metrics                        Value\n",
      "-----------------------------  --------------------------------------\n",
      "R2                             [[-0.05406102 -0.05406102]\n",
      "                                [-0.00573095 -0.00573095]]\n",
      "Confusion Matrix               [[ 745    0    0    0    0    0    0]\n",
      "                                [   0  453    0    0    0    0    0]\n",
      "                                [   0    0 2336   13    0    0    0]\n",
      "                                [   0    0    1  389    0    0    0]\n",
      "                                [   0    0    0    0  339    0    0]\n",
      "                                [   0    0    0    0    0 1859    0]\n",
      "                                [   0    0    0    0    0    0  481]]\n",
      "Accuracy                       0.9978839177750907\n",
      "Adjusted Rand Index            0.9951239769361155\n",
      "Normalized Mutual Information  0.9930274929504409\n"
     ]
    },
    {
     "name": "stderr",
     "output_type": "stream",
     "text": [
      " 28%|██▊       | 14/50 [01:40<04:15,  7.09s/it]"
     ]
    },
    {
     "name": "stdout",
     "output_type": "stream",
     "text": [
      "model saved at saved_results/thesis/pbmc/multi_task/CD4T/train_epoch_15.pt \n",
      "\n",
      "\n",
      "\n",
      "Metrics                        Value\n",
      "-----------------------------  --------------------------------------\n",
      "R2                             [[-0.05406102 -0.05406102]\n",
      "                                [-0.0058851  -0.0058851 ]]\n",
      "Confusion Matrix               [[ 745    0    0    0    0    0    0]\n",
      "                                [   0  453    0    0    0    0    0]\n",
      "                                [   0    0 2346    3    0    0    0]\n",
      "                                [   0    0    0  390    0    0    0]\n",
      "                                [   0    0    0    0  339    0    0]\n",
      "                                [   0    0    0    0    0 1859    0]\n",
      "                                [   0    0    0    0    0    0  481]]\n",
      "Accuracy                       0.999546553808948\n",
      "Adjusted Rand Index            0.9989521683201368\n",
      "Normalized Mutual Information  0.9981559923753824\n"
     ]
    },
    {
     "name": "stderr",
     "output_type": "stream",
     "text": [
      " 30%|███       | 15/50 [01:47<04:07,  7.06s/it]"
     ]
    },
    {
     "name": "stdout",
     "output_type": "stream",
     "text": [
      "model saved at saved_results/thesis/pbmc/multi_task/CD4T/train_epoch_16.pt \n",
      "\n",
      "\n",
      "\n",
      "Metrics                        Value\n",
      "-----------------------------  --------------------------------------\n",
      "R2                             [[-0.05406102 -0.05406102]\n",
      "                                [-0.00589447 -0.00589447]]\n",
      "Confusion Matrix               [[ 745    0    0    0    0    0    0]\n",
      "                                [   0  453    0    0    0    0    0]\n",
      "                                [   0    0 2349    0    0    0    0]\n",
      "                                [   0    0    0  390    0    0    0]\n",
      "                                [   0    0    0    0  339    0    0]\n",
      "                                [   0    0    0    0    0 1859    0]\n",
      "                                [   0    0    0    0    0    0  481]]\n",
      "Accuracy                       1.0\n",
      "Adjusted Rand Index            1.0\n",
      "Normalized Mutual Information  1.0\n"
     ]
    },
    {
     "name": "stderr",
     "output_type": "stream",
     "text": [
      " 32%|███▏      | 16/50 [01:54<04:01,  7.09s/it]"
     ]
    },
    {
     "name": "stdout",
     "output_type": "stream",
     "text": [
      "model saved at saved_results/thesis/pbmc/multi_task/CD4T/train_epoch_17.pt \n",
      "\n",
      "\n",
      "\n",
      "Metrics                        Value\n",
      "-----------------------------  --------------------------------------\n",
      "R2                             [[-0.05406102 -0.05406102]\n",
      "                                [-0.00618335 -0.00618335]]\n",
      "Confusion Matrix               [[ 745    0    0    0    0    0    0]\n",
      "                                [   0  453    0    0    0    0    0]\n",
      "                                [   0    0 2349    0    0    0    0]\n",
      "                                [   0    0    0  390    0    0    0]\n",
      "                                [   0    0    0    0  339    0    0]\n",
      "                                [   0    0    0    0    0 1859    0]\n",
      "                                [   0    0    0    0    0    0  481]]\n",
      "Accuracy                       1.0\n",
      "Adjusted Rand Index            1.0\n",
      "Normalized Mutual Information  1.0\n"
     ]
    },
    {
     "name": "stderr",
     "output_type": "stream",
     "text": [
      " 34%|███▍      | 17/50 [02:01<03:52,  7.05s/it]"
     ]
    },
    {
     "name": "stdout",
     "output_type": "stream",
     "text": [
      "model saved at saved_results/thesis/pbmc/multi_task/CD4T/train_epoch_18.pt \n",
      "\n",
      "\n",
      "\n",
      "Metrics                        Value\n",
      "-----------------------------  --------------------------------------\n",
      "R2                             [[-0.05406102 -0.05406102]\n",
      "                                [-0.00643686 -0.00643686]]\n",
      "Confusion Matrix               [[ 745    0    0    0    0    0    0]\n",
      "                                [   0  453    0    0    0    0    0]\n",
      "                                [   0    0 2349    0    0    0    0]\n",
      "                                [   0    0    0  390    0    0    0]\n",
      "                                [   0    0    0    0  339    0    0]\n",
      "                                [   0    0    0    0    0 1859    0]\n",
      "                                [   0    0    0    0    0    0  481]]\n",
      "Accuracy                       1.0\n",
      "Adjusted Rand Index            1.0\n",
      "Normalized Mutual Information  1.0\n"
     ]
    },
    {
     "name": "stderr",
     "output_type": "stream",
     "text": [
      " 36%|███▌      | 18/50 [02:08<03:44,  7.01s/it]"
     ]
    },
    {
     "name": "stdout",
     "output_type": "stream",
     "text": [
      "model saved at saved_results/thesis/pbmc/multi_task/CD4T/train_epoch_19.pt \n",
      "\n",
      "\n",
      "\n",
      "Metrics                        Value\n",
      "-----------------------------  --------------------------------------\n",
      "R2                             [[-0.05406102 -0.05406102]\n",
      "                                [-0.00686404 -0.00686404]]\n",
      "Confusion Matrix               [[ 745    0    0    0    0    0    0]\n",
      "                                [   0  453    0    0    0    0    0]\n",
      "                                [   0    0 2349    0    0    0    0]\n",
      "                                [   0    0    0  390    0    0    0]\n",
      "                                [   0    0    0    0  339    0    0]\n",
      "                                [   0    0    0    0    0 1859    0]\n",
      "                                [   0    0    0    0    0    0  481]]\n",
      "Accuracy                       1.0\n",
      "Adjusted Rand Index            1.0\n",
      "Normalized Mutual Information  1.0\n"
     ]
    },
    {
     "name": "stderr",
     "output_type": "stream",
     "text": [
      " 38%|███▊      | 19/50 [02:16<03:40,  7.10s/it]"
     ]
    },
    {
     "name": "stdout",
     "output_type": "stream",
     "text": [
      "model saved at saved_results/thesis/pbmc/multi_task/CD4T/train_epoch_20.pt \n",
      "\n",
      "\n",
      "\n",
      "Metrics                        Value\n",
      "-----------------------------  --------------------------------------\n",
      "R2                             [[-0.05406102 -0.05406102]\n",
      "                                [-0.00668007 -0.00668007]]\n",
      "Confusion Matrix               [[ 745    0    0    0    0    0    0]\n",
      "                                [   0  453    0    0    0    0    0]\n",
      "                                [   0    0 2349    0    0    0    0]\n",
      "                                [   0    0    0  390    0    0    0]\n",
      "                                [   0    0    0    0  339    0    0]\n",
      "                                [   0   15    0    0    0 1844    0]\n",
      "                                [   0    0    0    0    0    0  481]]\n",
      "Accuracy                       0.9977327690447401\n",
      "Adjusted Rand Index            0.9955969909673037\n",
      "Normalized Mutual Information  0.9930292266833847\n"
     ]
    },
    {
     "name": "stderr",
     "output_type": "stream",
     "text": [
      " 40%|████      | 20/50 [02:23<03:31,  7.06s/it]"
     ]
    },
    {
     "name": "stdout",
     "output_type": "stream",
     "text": [
      "model saved at saved_results/thesis/pbmc/multi_task/CD4T/train_epoch_21.pt \n",
      "\n",
      "\n",
      "\n",
      "Metrics                        Value\n",
      "-----------------------------  --------------------------------------\n",
      "R2                             [[-0.05406102 -0.05406102]\n",
      "                                [-0.00706654 -0.00706654]]\n",
      "Confusion Matrix               [[ 745    0    0    0    0    0    0]\n",
      "                                [   0  453    0    0    0    0    0]\n",
      "                                [   0    0 2349    0    0    0    0]\n",
      "                                [   0    0    1  389    0    0    0]\n",
      "                                [   0    0    0    0  339    0    0]\n",
      "                                [   0    0    0    0    0 1859    0]\n",
      "                                [   0    0    0    0    0    0  481]]\n",
      "Accuracy                       0.9998488512696493\n",
      "Adjusted Rand Index            0.9996506534238886\n",
      "Normalized Mutual Information  0.9992854921266813\n"
     ]
    },
    {
     "name": "stderr",
     "output_type": "stream",
     "text": [
      " 42%|████▏     | 21/50 [02:30<03:23,  7.02s/it]"
     ]
    },
    {
     "name": "stdout",
     "output_type": "stream",
     "text": [
      "model saved at saved_results/thesis/pbmc/multi_task/CD4T/train_epoch_22.pt \n",
      "\n",
      "\n",
      "\n",
      "Metrics                        Value\n",
      "-----------------------------  --------------------------------------\n",
      "R2                             [[-0.05406102 -0.05406102]\n",
      "                                [-0.0074088  -0.0074088 ]]\n",
      "Confusion Matrix               [[ 745    0    0    0    0    0    0]\n",
      "                                [   0  453    0    0    0    0    0]\n",
      "                                [   0    0 2349    0    0    0    0]\n",
      "                                [   0    0    0  390    0    0    0]\n",
      "                                [   0    0    0    0  338    1    0]\n",
      "                                [   0    0    0    0    0 1859    0]\n",
      "                                [   0    0    0    0    0    0  481]]\n",
      "Accuracy                       0.9998488512696493\n",
      "Adjusted Rand Index            0.999719672268272\n",
      "Normalized Mutual Information  0.999302497231813\n"
     ]
    },
    {
     "name": "stderr",
     "output_type": "stream",
     "text": [
      " 44%|████▍     | 22/50 [02:36<03:15,  6.97s/it]"
     ]
    },
    {
     "name": "stdout",
     "output_type": "stream",
     "text": [
      "model saved at saved_results/thesis/pbmc/multi_task/CD4T/train_epoch_23.pt \n",
      "\n",
      "\n",
      "\n",
      "Metrics                        Value\n",
      "-----------------------------  --------------------------------------\n",
      "R2                             [[-0.05406102 -0.05406102]\n",
      "                                [-0.00772077 -0.00772077]]\n",
      "Confusion Matrix               [[ 745    0    0    0    0    0    0]\n",
      "                                [   0  453    0    0    0    0    0]\n",
      "                                [   0    0 2349    0    0    0    0]\n",
      "                                [   0    0    0  390    0    0    0]\n",
      "                                [   0    0    0    0  339    0    0]\n",
      "                                [   0    0    0    0    0 1859    0]\n",
      "                                [   0    0    0    0    0    0  481]]\n",
      "Accuracy                       1.0\n",
      "Adjusted Rand Index            1.0\n",
      "Normalized Mutual Information  1.0\n"
     ]
    },
    {
     "name": "stderr",
     "output_type": "stream",
     "text": [
      " 46%|████▌     | 23/50 [02:43<03:07,  6.96s/it]"
     ]
    },
    {
     "name": "stdout",
     "output_type": "stream",
     "text": [
      "model saved at saved_results/thesis/pbmc/multi_task/CD4T/train_epoch_24.pt \n",
      "\n",
      "\n",
      "\n",
      "Metrics                        Value\n",
      "-----------------------------  --------------------------------------\n",
      "R2                             [[-0.05406102 -0.05406102]\n",
      "                                [-0.00781748 -0.00781748]]\n",
      "Confusion Matrix               [[ 744    0    1    0    0    0    0]\n",
      "                                [   0  453    0    0    0    0    0]\n",
      "                                [   0    0 2349    0    0    0    0]\n",
      "                                [   0    0    0  390    0    0    0]\n",
      "                                [   0    0    0    0  339    0    0]\n",
      "                                [   0    0    0    0    0 1859    0]\n",
      "                                [   0    0    0    0    0    0  481]]\n",
      "Accuracy                       0.9998488512696493\n",
      "Adjusted Rand Index            0.9996053487829619\n",
      "Normalized Mutual Information  0.9992560785476025\n"
     ]
    },
    {
     "name": "stderr",
     "output_type": "stream",
     "text": [
      " 48%|████▊     | 24/50 [02:50<03:01,  6.96s/it]"
     ]
    },
    {
     "name": "stdout",
     "output_type": "stream",
     "text": [
      "model saved at saved_results/thesis/pbmc/multi_task/CD4T/train_epoch_25.pt \n",
      "\n",
      "\n",
      "\n",
      "Metrics                        Value\n",
      "-----------------------------  --------------------------------------\n",
      "R2                             [[-0.05406102 -0.05406102]\n",
      "                                [-0.00798506 -0.00798506]]\n",
      "Confusion Matrix               [[ 745    0    0    0    0    0    0]\n",
      "                                [   0  453    0    0    0    0    0]\n",
      "                                [   0    0 2349    0    0    0    0]\n",
      "                                [   0    0    0  390    0    0    0]\n",
      "                                [   0    0    0    0  339    0    0]\n",
      "                                [   0    0    0    0    0 1859    0]\n",
      "                                [   0    0    0    0    0    0  481]]\n",
      "Accuracy                       1.0\n",
      "Adjusted Rand Index            1.0\n",
      "Normalized Mutual Information  1.0\n"
     ]
    },
    {
     "name": "stderr",
     "output_type": "stream",
     "text": [
      " 50%|█████     | 25/50 [02:57<02:54,  6.96s/it]"
     ]
    },
    {
     "name": "stdout",
     "output_type": "stream",
     "text": [
      "model saved at saved_results/thesis/pbmc/multi_task/CD4T/train_epoch_26.pt \n",
      "\n",
      "\n",
      "\n",
      "Metrics                        Value\n",
      "-----------------------------  --------------------------------------\n",
      "R2                             [[-0.05406102 -0.05406102]\n",
      "                                [-0.00802139 -0.00802139]]\n",
      "Confusion Matrix               [[ 745    0    0    0    0    0    0]\n",
      "                                [   0  453    0    0    0    0    0]\n",
      "                                [   0    0 2349    0    0    0    0]\n",
      "                                [   0    0    0  390    0    0    0]\n",
      "                                [   0    0    0    0  339    0    0]\n",
      "                                [   0    0    0    0    0 1859    0]\n",
      "                                [   0    0    0    0    0    0  481]]\n",
      "Accuracy                       1.0\n",
      "Adjusted Rand Index            1.0\n",
      "Normalized Mutual Information  1.0\n"
     ]
    },
    {
     "name": "stderr",
     "output_type": "stream",
     "text": [
      " 52%|█████▏    | 26/50 [03:05<02:49,  7.05s/it]"
     ]
    },
    {
     "name": "stdout",
     "output_type": "stream",
     "text": [
      "model saved at saved_results/thesis/pbmc/multi_task/CD4T/train_epoch_27.pt \n",
      "\n",
      "\n",
      "\n",
      "Metrics                        Value\n",
      "-----------------------------  --------------------------------------\n",
      "R2                             [[-0.05406102 -0.05406102]\n",
      "                                [-0.00812726 -0.00812726]]\n",
      "Confusion Matrix               [[ 745    0    0    0    0    0    0]\n",
      "                                [   0  453    0    0    0    0    0]\n",
      "                                [   0    0 2349    0    0    0    0]\n",
      "                                [   0    0    0  390    0    0    0]\n",
      "                                [   0    0    0    0  339    0    0]\n",
      "                                [   0    0    0    0    0 1859    0]\n",
      "                                [   0    0    0    0    0    0  481]]\n",
      "Accuracy                       1.0\n",
      "Adjusted Rand Index            1.0\n",
      "Normalized Mutual Information  1.0\n"
     ]
    },
    {
     "name": "stderr",
     "output_type": "stream",
     "text": [
      " 54%|█████▍    | 27/50 [03:12<02:42,  7.07s/it]"
     ]
    },
    {
     "name": "stdout",
     "output_type": "stream",
     "text": [
      "model saved at saved_results/thesis/pbmc/multi_task/CD4T/train_epoch_28.pt \n",
      "\n",
      "\n",
      "\n",
      "Metrics                        Value\n",
      "-----------------------------  --------------------------------------\n",
      "R2                             [[-0.05406102 -0.05406102]\n",
      "                                [-0.00836856 -0.00836856]]\n",
      "Confusion Matrix               [[ 745    0    0    0    0    0    0]\n",
      "                                [   0  453    0    0    0    0    0]\n",
      "                                [   0    0 2348    1    0    0    0]\n",
      "                                [   0    0    0  390    0    0    0]\n",
      "                                [   0    0    0    0  339    0    0]\n",
      "                                [   0   58    0    0    0 1801    0]\n",
      "                                [   0    0    0    0    0    0  481]]\n",
      "Accuracy                       0.9910822249093107\n",
      "Adjusted Rand Index            0.982874747101983\n",
      "Normalized Mutual Information  0.979423770278878\n"
     ]
    },
    {
     "name": "stderr",
     "output_type": "stream",
     "text": [
      " 56%|█████▌    | 28/50 [03:18<02:33,  6.98s/it]"
     ]
    },
    {
     "name": "stdout",
     "output_type": "stream",
     "text": [
      "model saved at saved_results/thesis/pbmc/multi_task/CD4T/train_epoch_29.pt \n",
      "\n",
      "\n",
      "\n",
      "Metrics                        Value\n",
      "-----------------------------  --------------------------------------\n",
      "R2                             [[-0.05406102 -0.05406102]\n",
      "                                [-0.00838576 -0.00838576]]\n",
      "Confusion Matrix               [[ 745    0    0    0    0    0    0]\n",
      "                                [   0  453    0    0    0    0    0]\n",
      "                                [   0    0 2349    0    0    0    0]\n",
      "                                [   0    0    0  390    0    0    0]\n",
      "                                [   0    0    0    0  339    0    0]\n",
      "                                [   0    0    0    0    0 1859    0]\n",
      "                                [   0    0    0    0    0    0  481]]\n",
      "Accuracy                       1.0\n",
      "Adjusted Rand Index            1.0\n",
      "Normalized Mutual Information  1.0\n"
     ]
    },
    {
     "name": "stderr",
     "output_type": "stream",
     "text": [
      " 58%|█████▊    | 29/50 [03:25<02:26,  6.97s/it]"
     ]
    },
    {
     "name": "stdout",
     "output_type": "stream",
     "text": [
      "model saved at saved_results/thesis/pbmc/multi_task/CD4T/train_epoch_30.pt \n",
      "\n",
      "\n",
      "\n",
      "Metrics                        Value\n",
      "-----------------------------  --------------------------------------\n",
      "R2                             [[-0.05406102 -0.05406102]\n",
      "                                [-0.00874683 -0.00874683]]\n",
      "Confusion Matrix               [[ 745    0    0    0    0    0    0]\n",
      "                                [   0  453    0    0    0    0    0]\n",
      "                                [   0    0 2349    0    0    0    0]\n",
      "                                [   0    0    0  390    0    0    0]\n",
      "                                [   0    0    0    0  339    0    0]\n",
      "                                [   0    0    0    0    0 1859    0]\n",
      "                                [   0    0    0    0    0    0  481]]\n",
      "Accuracy                       1.0\n",
      "Adjusted Rand Index            1.0\n",
      "Normalized Mutual Information  1.0\n"
     ]
    },
    {
     "name": "stderr",
     "output_type": "stream",
     "text": [
      " 60%|██████    | 30/50 [03:33<02:22,  7.10s/it]"
     ]
    },
    {
     "name": "stdout",
     "output_type": "stream",
     "text": [
      "model saved at saved_results/thesis/pbmc/multi_task/CD4T/train_epoch_31.pt \n",
      "\n",
      "\n",
      "\n",
      "Metrics                        Value\n",
      "-----------------------------  --------------------------------------\n",
      "R2                             [[-0.05406102 -0.05406102]\n",
      "                                [-0.00878869 -0.00878869]]\n",
      "Confusion Matrix               [[ 745    0    0    0    0    0    0]\n",
      "                                [   0  453    0    0    0    0    0]\n",
      "                                [   0    0 2349    0    0    0    0]\n",
      "                                [   0    0    0  390    0    0    0]\n",
      "                                [   0    0    0    0  339    0    0]\n",
      "                                [   0    0    0    0    0 1859    0]\n",
      "                                [   0    0    0    0    0    0  481]]\n",
      "Accuracy                       1.0\n",
      "Adjusted Rand Index            1.0\n",
      "Normalized Mutual Information  1.0\n"
     ]
    },
    {
     "name": "stderr",
     "output_type": "stream",
     "text": [
      " 62%|██████▏   | 31/50 [03:40<02:14,  7.09s/it]"
     ]
    },
    {
     "name": "stdout",
     "output_type": "stream",
     "text": [
      "model saved at saved_results/thesis/pbmc/multi_task/CD4T/train_epoch_32.pt \n",
      "\n",
      "\n",
      "\n",
      "Metrics                        Value\n",
      "-----------------------------  --------------------------------------\n",
      "R2                             [[-0.05406102 -0.05406102]\n",
      "                                [-0.00914311 -0.00914311]]\n",
      "Confusion Matrix               [[ 745    0    0    0    0    0    0]\n",
      "                                [   0  453    0    0    0    0    0]\n",
      "                                [   0    0 2349    0    0    0    0]\n",
      "                                [   0    0    0  390    0    0    0]\n",
      "                                [   0    0    0    0  339    0    0]\n",
      "                                [   0    0    0    0    0 1859    0]\n",
      "                                [   0    0    0    0    0    0  481]]\n",
      "Accuracy                       1.0\n",
      "Adjusted Rand Index            1.0\n",
      "Normalized Mutual Information  1.0\n"
     ]
    },
    {
     "name": "stderr",
     "output_type": "stream",
     "text": [
      " 64%|██████▍   | 32/50 [03:47<02:07,  7.09s/it]"
     ]
    },
    {
     "name": "stdout",
     "output_type": "stream",
     "text": [
      "model saved at saved_results/thesis/pbmc/multi_task/CD4T/train_epoch_33.pt \n",
      "\n",
      "\n",
      "\n",
      "Metrics                        Value\n",
      "-----------------------------  --------------------------------------\n",
      "R2                             [[-0.05411801 -0.05411801]\n",
      "                                [-0.0092072  -0.0092072 ]]\n",
      "Confusion Matrix               [[ 745    0    0    0    0    0    0]\n",
      "                                [   0  453    0    0    0    0    0]\n",
      "                                [   0    0 2349    0    0    0    0]\n",
      "                                [   0    0    0  390    0    0    0]\n",
      "                                [   0    0    0    0  339    0    0]\n",
      "                                [   0    0    0    0    0 1859    0]\n",
      "                                [   0    0    0    0    0    0  481]]\n",
      "Accuracy                       1.0\n",
      "Adjusted Rand Index            1.0\n",
      "Normalized Mutual Information  1.0\n"
     ]
    },
    {
     "name": "stderr",
     "output_type": "stream",
     "text": [
      " 66%|██████▌   | 33/50 [03:54<02:00,  7.10s/it]"
     ]
    },
    {
     "name": "stdout",
     "output_type": "stream",
     "text": [
      "model saved at saved_results/thesis/pbmc/multi_task/CD4T/train_epoch_34.pt \n",
      "\n",
      "\n",
      "\n",
      "Metrics                        Value\n",
      "-----------------------------  --------------------------------------\n",
      "R2                             [[-0.05598298 -0.05598298]\n",
      "                                [-0.00902095 -0.00902095]]\n",
      "Confusion Matrix               [[ 745    0    0    0    0    0    0]\n",
      "                                [   0  453    0    0    0    0    0]\n",
      "                                [   0    0 2348    1    0    0    0]\n",
      "                                [   0    0    0  390    0    0    0]\n",
      "                                [   0    0    0    0  339    0    0]\n",
      "                                [   0    0    0    0    0 1859    0]\n",
      "                                [   0    0    0    0    0    0  481]]\n",
      "Accuracy                       0.9998488512696493\n",
      "Adjusted Rand Index            0.9996505603685436\n",
      "Normalized Mutual Information  0.9992855115365117\n"
     ]
    },
    {
     "name": "stderr",
     "output_type": "stream",
     "text": [
      " 68%|██████▊   | 34/50 [04:01<01:55,  7.19s/it]"
     ]
    },
    {
     "name": "stdout",
     "output_type": "stream",
     "text": [
      "model saved at saved_results/thesis/pbmc/multi_task/CD4T/train_epoch_35.pt \n",
      "\n",
      "\n",
      "\n",
      "Metrics                        Value\n",
      "-----------------------------  --------------------------------------\n",
      "R2                             [[-0.05642126 -0.05642126]\n",
      "                                [-0.00922293 -0.00922293]]\n",
      "Confusion Matrix               [[ 745    0    0    0    0    0    0]\n",
      "                                [   0  453    0    0    0    0    0]\n",
      "                                [   0    0 2349    0    0    0    0]\n",
      "                                [   0    0    0  390    0    0    0]\n",
      "                                [   0    0    0    0  339    0    0]\n",
      "                                [   0    0    0    0    0 1859    0]\n",
      "                                [   0    0    0    0    0    0  481]]\n",
      "Accuracy                       1.0\n",
      "Adjusted Rand Index            1.0\n",
      "Normalized Mutual Information  1.0\n"
     ]
    },
    {
     "name": "stderr",
     "output_type": "stream",
     "text": [
      " 70%|███████   | 35/50 [04:09<01:47,  7.16s/it]"
     ]
    },
    {
     "name": "stdout",
     "output_type": "stream",
     "text": [
      "model saved at saved_results/thesis/pbmc/multi_task/CD4T/train_epoch_36.pt \n",
      "\n",
      "\n",
      "\n",
      "Metrics                        Value\n",
      "-----------------------------  --------------------------------------\n",
      "R2                             [[-0.05687925 -0.05687924]\n",
      "                                [-0.00719143 -0.00719143]]\n",
      "Confusion Matrix               [[ 745    0    0    0    0    0    0]\n",
      "                                [   0  453    0    0    0    0    0]\n",
      "                                [   0    0 2349    0    0    0    0]\n",
      "                                [   0    0    0  390    0    0    0]\n",
      "                                [   0    0    0    0  339    0    0]\n",
      "                                [   0    0    0    0    0 1859    0]\n",
      "                                [   0    0    0    0    0    0  481]]\n",
      "Accuracy                       1.0\n",
      "Adjusted Rand Index            1.0\n",
      "Normalized Mutual Information  1.0\n"
     ]
    },
    {
     "name": "stderr",
     "output_type": "stream",
     "text": [
      " 72%|███████▏  | 36/50 [04:16<01:39,  7.13s/it]"
     ]
    },
    {
     "name": "stdout",
     "output_type": "stream",
     "text": [
      "model saved at saved_results/thesis/pbmc/multi_task/CD4T/train_epoch_37.pt \n",
      "\n",
      "\n",
      "\n",
      "Metrics                        Value\n",
      "-----------------------------  --------------------------------------\n",
      "R2                             [[-0.05687925 -0.05687911]\n",
      "                                [ 0.00083175  0.00083175]]\n",
      "Confusion Matrix               [[ 745    0    0    0    0    0    0]\n",
      "                                [   0  451    0    0    0    2    0]\n",
      "                                [   0    0 2349    0    0    0    0]\n",
      "                                [   0    0    0  390    0    0    0]\n",
      "                                [   0    0    0    0  335    4    0]\n",
      "                                [   0    0    0    0    0 1859    0]\n",
      "                                [   0    0    0    0    0    0  481]]\n",
      "Accuracy                       0.999093107617896\n",
      "Adjusted Rand Index            0.9982905670581783\n",
      "Normalized Mutual Information  0.9964177605586726\n"
     ]
    },
    {
     "name": "stderr",
     "output_type": "stream",
     "text": [
      " 74%|███████▍  | 37/50 [04:23<01:32,  7.09s/it]"
     ]
    },
    {
     "name": "stdout",
     "output_type": "stream",
     "text": [
      "model saved at saved_results/thesis/pbmc/multi_task/CD4T/train_epoch_38.pt \n",
      "\n",
      "\n",
      "\n",
      "Metrics                        Value\n",
      "-----------------------------  --------------------------------------\n",
      "R2                             [[-0.05642126 -0.05642126]\n",
      "                                [ 0.00636285  0.00636285]]\n",
      "Confusion Matrix               [[ 745    0    0    0    0    0    0]\n",
      "                                [   0  450    0    0    0    3    0]\n",
      "                                [   0    0 2349    0    0    0    0]\n",
      "                                [   0    0    0  390    0    0    0]\n",
      "                                [   0    0    0    0  339    0    0]\n",
      "                                [   0    0    0    0    0 1859    0]\n",
      "                                [   0    0    0    0    0    0  481]]\n",
      "Accuracy                       0.999546553808948\n",
      "Adjusted Rand Index            0.9991163071878205\n",
      "Normalized Mutual Information  0.9981674317036964\n"
     ]
    },
    {
     "name": "stderr",
     "output_type": "stream",
     "text": [
      " 76%|███████▌  | 38/50 [04:29<01:24,  7.02s/it]"
     ]
    },
    {
     "name": "stdout",
     "output_type": "stream",
     "text": [
      "model saved at saved_results/thesis/pbmc/multi_task/CD4T/train_epoch_39.pt \n",
      "\n",
      "\n",
      "\n",
      "Metrics                        Value\n",
      "-----------------------------  --------------------------------------\n",
      "R2                             [[-0.05642126 -0.0599937 ]\n",
      "                                [ 0.00614589  0.00614589]]\n",
      "Confusion Matrix               [[ 745    0    0    0    0    0    0]\n",
      "                                [   0  453    0    0    0    0    0]\n",
      "                                [   0    0 2349    0    0    0    0]\n",
      "                                [   0    0    0  390    0    0    0]\n",
      "                                [   0    0    0    0  339    0    0]\n",
      "                                [   0    0    0    0    0 1859    0]\n",
      "                                [   0    0    0    0    0    0  481]]\n",
      "Accuracy                       1.0\n",
      "Adjusted Rand Index            1.0\n",
      "Normalized Mutual Information  1.0\n"
     ]
    },
    {
     "name": "stderr",
     "output_type": "stream",
     "text": [
      " 78%|███████▊  | 39/50 [04:37<01:17,  7.05s/it]"
     ]
    },
    {
     "name": "stdout",
     "output_type": "stream",
     "text": [
      "model saved at saved_results/thesis/pbmc/multi_task/CD4T/train_epoch_40.pt \n",
      "\n",
      "\n",
      "\n",
      "Metrics                        Value\n",
      "-----------------------------  --------------------------------------\n",
      "R2                             [[-0.05642126 -0.0582789 ]\n",
      "                                [ 0.00610899  0.00610899]]\n",
      "Confusion Matrix               [[ 745    0    0    0    0    0    0]\n",
      "                                [   0  453    0    0    0    0    0]\n",
      "                                [   0    0 2349    0    0    0    0]\n",
      "                                [   0    0    0  390    0    0    0]\n",
      "                                [   0    0    0    0  339    0    0]\n",
      "                                [   0    0    0    0    0 1859    0]\n",
      "                                [   0    0    0    0    0    0  481]]\n",
      "Accuracy                       1.0\n",
      "Adjusted Rand Index            1.0\n",
      "Normalized Mutual Information  1.0\n"
     ]
    },
    {
     "name": "stderr",
     "output_type": "stream",
     "text": [
      " 80%|████████  | 40/50 [04:43<01:09,  7.00s/it]"
     ]
    },
    {
     "name": "stdout",
     "output_type": "stream",
     "text": [
      "model saved at saved_results/thesis/pbmc/multi_task/CD4T/train_epoch_41.pt \n",
      "\n",
      "\n",
      "\n",
      "Metrics                        Value\n",
      "-----------------------------  --------------------------------------\n",
      "R2                             [[-0.0569082  -0.07034057]\n",
      "                                [ 0.00624936  0.00624936]]\n",
      "Confusion Matrix               [[ 745    0    0    0    0    0    0]\n",
      "                                [   0  453    0    0    0    0    0]\n",
      "                                [   0    0 2349    0    0    0    0]\n",
      "                                [   0    0    0  390    0    0    0]\n",
      "                                [   0    0    0    0  339    0    0]\n",
      "                                [   0    0    0    0    0 1859    0]\n",
      "                                [   0    0    0    0    0    0  481]]\n",
      "Accuracy                       1.0\n",
      "Adjusted Rand Index            1.0\n",
      "Normalized Mutual Information  1.0\n"
     ]
    },
    {
     "name": "stderr",
     "output_type": "stream",
     "text": [
      " 82%|████████▏ | 41/50 [04:50<01:02,  6.94s/it]"
     ]
    },
    {
     "name": "stdout",
     "output_type": "stream",
     "text": [
      "model saved at saved_results/thesis/pbmc/multi_task/CD4T/train_epoch_42.pt \n",
      "\n",
      "\n",
      "\n",
      "Metrics                        Value\n",
      "-----------------------------  --------------------------------------\n",
      "R2                             [[-0.0569082  -0.05790845]\n",
      "                                [ 0.00604184  0.00604184]]\n",
      "Confusion Matrix               [[ 744    0    1    0    0    0    0]\n",
      "                                [   0  453    0    0    0    0    0]\n",
      "                                [   4    0 2345    0    0    0    0]\n",
      "                                [   0    0    0  390    0    0    0]\n",
      "                                [   0    0    0    0  339    0    0]\n",
      "                                [   0    0    0    0    0 1859    0]\n",
      "                                [   0    0    0    0    0    0  481]]\n",
      "Accuracy                       0.9992442563482467\n",
      "Adjusted Rand Index            0.9980284371004242\n",
      "Normalized Mutual Information  0.9967848227521642\n"
     ]
    },
    {
     "name": "stderr",
     "output_type": "stream",
     "text": [
      " 84%|████████▍ | 42/50 [04:57<00:55,  6.99s/it]"
     ]
    },
    {
     "name": "stdout",
     "output_type": "stream",
     "text": [
      "model saved at saved_results/thesis/pbmc/multi_task/CD4T/train_epoch_43.pt \n",
      "\n",
      "\n",
      "\n",
      "Metrics                        Value\n",
      "-----------------------------  --------------------------------------\n",
      "R2                             [[-0.05664361 -0.06821833]\n",
      "                                [ 0.00574843  0.00574843]]\n",
      "Confusion Matrix               [[ 745    0    0    0    0    0    0]\n",
      "                                [   0  453    0    0    0    0    0]\n",
      "                                [   0    0 2347    0    0    0    2]\n",
      "                                [   0    0    1  384    0    0    5]\n",
      "                                [   0    0    0    0  339    0    0]\n",
      "                                [   0    0    0    0    0 1859    0]\n",
      "                                [   0    0    0    3    0    0  478]]\n",
      "Accuracy                       0.9983373639661427\n",
      "Adjusted Rand Index            0.9980483950877972\n",
      "Normalized Mutual Information  0.9938584614463343\n"
     ]
    },
    {
     "name": "stderr",
     "output_type": "stream",
     "text": [
      " 86%|████████▌ | 43/50 [05:05<00:49,  7.06s/it]"
     ]
    },
    {
     "name": "stdout",
     "output_type": "stream",
     "text": [
      "model saved at saved_results/thesis/pbmc/multi_task/CD4T/train_epoch_44.pt \n",
      "\n",
      "\n",
      "\n",
      "Metrics                        Value\n",
      "-----------------------------  --------------------------------------\n",
      "R2                             [[-0.05664361 -0.05850124]\n",
      "                                [ 0.0056385   0.0056385 ]]\n",
      "Confusion Matrix               [[ 745    0    0    0    0    0    0]\n",
      "                                [   0  453    0    0    0    0    0]\n",
      "                                [   0    0 2349    0    0    0    0]\n",
      "                                [   0    0    0  390    0    0    0]\n",
      "                                [   0    0    0    0  339    0    0]\n",
      "                                [   0    0    0    0    0 1859    0]\n",
      "                                [   0    0    0    0    0    0  481]]\n",
      "Accuracy                       1.0\n",
      "Adjusted Rand Index            1.0\n",
      "Normalized Mutual Information  1.0\n"
     ]
    },
    {
     "name": "stderr",
     "output_type": "stream",
     "text": [
      " 88%|████████▊ | 44/50 [05:12<00:42,  7.03s/it]"
     ]
    },
    {
     "name": "stdout",
     "output_type": "stream",
     "text": [
      "model saved at saved_results/thesis/pbmc/multi_task/CD4T/train_epoch_45.pt \n",
      "\n",
      "\n",
      "\n",
      "Metrics                        Value\n",
      "-----------------------------  --------------------------------------\n",
      "R2                             [[-0.05786815 -0.07058606]\n",
      "                                [ 0.00498007  0.00498007]]\n",
      "Confusion Matrix               [[ 745    0    0    0    0    0    0]\n",
      "                                [   0  453    0    0    0    0    0]\n",
      "                                [   0    0 2349    0    0    0    0]\n",
      "                                [   0    0    0  390    0    0    0]\n",
      "                                [   0    0    0    0  339    0    0]\n",
      "                                [   0    0    0    0    0 1859    0]\n",
      "                                [   0    1    0    0    0    0  480]]\n",
      "Accuracy                       0.9998488512696493\n",
      "Adjusted Rand Index            0.9998809406937492\n",
      "Normalized Mutual Information  0.9993507393385854\n"
     ]
    },
    {
     "name": "stderr",
     "output_type": "stream",
     "text": [
      " 90%|█████████ | 45/50 [05:19<00:35,  7.05s/it]"
     ]
    },
    {
     "name": "stdout",
     "output_type": "stream",
     "text": [
      "model saved at saved_results/thesis/pbmc/multi_task/CD4T/train_epoch_46.pt \n",
      "\n",
      "\n",
      "\n",
      "Metrics                        Value\n",
      "-----------------------------  --------------------------------------\n",
      "R2                             [[-0.05786815 -0.060869  ]\n",
      "                                [ 0.00516474  0.00516474]]\n",
      "Confusion Matrix               [[ 745    0    0    0    0    0    0]\n",
      "                                [   0  453    0    0    0    0    0]\n",
      "                                [   0    0 2349    0    0    0    0]\n",
      "                                [   0    0    0  390    0    0    0]\n",
      "                                [   0    0    0    0  339    0    0]\n",
      "                                [   0    0    0    0    3 1856    0]\n",
      "                                [   0    0    0    0    0    0  481]]\n",
      "Accuracy                       0.999546553808948\n",
      "Adjusted Rand Index            0.9991594354660043\n",
      "Normalized Mutual Information  0.9982068829067328\n"
     ]
    },
    {
     "name": "stderr",
     "output_type": "stream",
     "text": [
      " 92%|█████████▏| 46/50 [05:25<00:27,  6.97s/it]"
     ]
    },
    {
     "name": "stdout",
     "output_type": "stream",
     "text": [
      "model saved at saved_results/thesis/pbmc/multi_task/CD4T/train_epoch_47.pt \n",
      "\n",
      "\n",
      "\n",
      "Metrics                        Value\n",
      "-----------------------------  --------------------------------------\n",
      "R2                             [[-0.05786815 -0.06415566]\n",
      "                                [ 0.00531331  0.00531331]]\n",
      "Confusion Matrix               [[ 745    0    0    0    0    0    0]\n",
      "                                [   0  453    0    0    0    0    0]\n",
      "                                [   0    0 2349    0    0    0    0]\n",
      "                                [   0    0    0  390    0    0    0]\n",
      "                                [   0    0    0    0  339    0    0]\n",
      "                                [   0    0    0    0    0 1859    0]\n",
      "                                [   0    0    0    0    0    0  481]]\n",
      "Accuracy                       1.0\n",
      "Adjusted Rand Index            1.0\n",
      "Normalized Mutual Information  1.0\n"
     ]
    },
    {
     "name": "stderr",
     "output_type": "stream",
     "text": [
      " 94%|█████████▍| 47/50 [05:32<00:20,  6.97s/it]"
     ]
    },
    {
     "name": "stdout",
     "output_type": "stream",
     "text": [
      "model saved at saved_results/thesis/pbmc/multi_task/CD4T/train_epoch_48.pt \n",
      "\n",
      "\n",
      "\n",
      "Metrics                        Value\n",
      "-----------------------------  --------------------------------------\n",
      "R2                             [[-0.05786815 -0.05972582]\n",
      "                                [ 0.00522006  0.00522006]]\n",
      "Confusion Matrix               [[ 745    0    0    0    0    0    0]\n",
      "                                [   0  453    0    0    0    0    0]\n",
      "                                [   0    0 2349    0    0    0    0]\n",
      "                                [   0    0    0  390    0    0    0]\n",
      "                                [   0    0    0    0  339    0    0]\n",
      "                                [   0    0    0    0    0 1859    0]\n",
      "                                [   0    0    0    0    0    0  481]]\n",
      "Accuracy                       1.0\n",
      "Adjusted Rand Index            1.0\n",
      "Normalized Mutual Information  1.0\n"
     ]
    },
    {
     "name": "stderr",
     "output_type": "stream",
     "text": [
      " 96%|█████████▌| 48/50 [05:39<00:13,  6.90s/it]"
     ]
    },
    {
     "name": "stdout",
     "output_type": "stream",
     "text": [
      "model saved at saved_results/thesis/pbmc/multi_task/CD4T/train_epoch_49.pt \n",
      "\n",
      "\n",
      "\n",
      "Metrics                        Value\n",
      "-----------------------------  --------------------------------------\n",
      "R2                             [[-0.05786815 -0.06501304]\n",
      "                                [ 0.00497342  0.00497342]]\n",
      "Confusion Matrix               [[ 745    0    0    0    0    0    0]\n",
      "                                [   0  453    0    0    0    0    0]\n",
      "                                [   0    0 2349    0    0    0    0]\n",
      "                                [   0    0    0  390    0    0    0]\n",
      "                                [   0    0    0    0  339    0    0]\n",
      "                                [   0    0    0    0    0 1859    0]\n",
      "                                [   0    0    0    0    0    0  481]]\n",
      "Accuracy                       1.0\n",
      "Adjusted Rand Index            1.0\n",
      "Normalized Mutual Information  1.0\n"
     ]
    },
    {
     "name": "stderr",
     "output_type": "stream",
     "text": [
      " 98%|█████████▊| 49/50 [05:46<00:06,  6.98s/it]"
     ]
    },
    {
     "name": "stdout",
     "output_type": "stream",
     "text": [
      "model saved at saved_results/thesis/pbmc/multi_task/CD4T/train_epoch_50.pt \n",
      "\n",
      "\n",
      "\n",
      "Metrics                        Value\n",
      "-----------------------------  --------------------------------------\n",
      "R2                             [[-0.05786815 -0.07130054]\n",
      "                                [ 0.00449098  0.00449098]]\n",
      "Confusion Matrix               [[ 745    0    0    0    0    0    0]\n",
      "                                [   0  453    0    0    0    0    0]\n",
      "                                [   0    0 2349    0    0    0    0]\n",
      "                                [   0    0    0  390    0    0    0]\n",
      "                                [   0    0    0    0  339    0    0]\n",
      "                                [   0    0    0    0    0 1859    0]\n",
      "                                [   0    0    0    0    0    0  481]]\n",
      "Accuracy                       1.0\n",
      "Adjusted Rand Index            1.0\n",
      "Normalized Mutual Information  1.0\n"
     ]
    },
    {
     "name": "stderr",
     "output_type": "stream",
     "text": [
      "100%|██████████| 50/50 [05:53<00:00,  7.07s/it]\n"
     ]
    }
   ],
   "source": [
    "from unitednet.interface import UnitedNet\n",
    "\n",
    "\n",
    "pbmc_config = {\n",
    "    \"train_batch_size\": 256,\n",
    "    \"finetune_batch_size\": 5000,\n",
    "    \"transfer_batch_size\": 512,\n",
    "    \"train_epochs\": 50,\n",
    "    \"finetune_epochs\": 10,\n",
    "    \"transfer_epochs\": 20,\n",
    "    \"train_task\": \"supervised_group_identification\", # -> translation, classification\n",
    "    \"finetune_task\": None,\n",
    "    \"transfer_task\": None,\n",
    "    \"train_loss_weight\": None,\n",
    "    \"finetune_loss_weight\": None,\n",
    "    \"transfer_loss_weight\": None,\n",
    "    \"lr\": 0.1,\n",
    "    \"checkpoint\": 1,\n",
    "    \"n_head\": 1,\n",
    "    \"noise_level\":[0,0],\n",
    "    \"fuser_type\":\"WeightedMean\",\n",
    "    \"encoders\": [\n",
    "        {\n",
    "            \"input\": features_num,\n",
    "            \"hiddens\": [64, 64],\n",
    "            \"output\": 64,\n",
    "            \"use_biases\": [True, True, True],\n",
    "            \"dropouts\": [0, 0, 0],\n",
    "            \"activations\": [\"relu\", \"relu\", \"relu\"],\n",
    "            \"use_batch_norms\": [True, True, True],\n",
    "            \"use_layer_norms\": [False, False, False],\n",
    "            \"is_binary_input\": False,\n",
    "        },\n",
    "        {\n",
    "            \"input\": features_num,\n",
    "            \"hiddens\": [64, 64],\n",
    "            \"output\": 64,\n",
    "            \"use_biases\": [True, True, True],\n",
    "            \"dropouts\": [0, 0, 0],\n",
    "            \"activations\": [\"relu\", \"relu\", \"relu\"],\n",
    "            \"use_batch_norms\": [True, True, True],\n",
    "            \"use_layer_norms\": [False, False, False],\n",
    "            \"is_binary_input\": False,\n",
    "        },\n",
    "    ],\n",
    "    \"latent_projector\": None,\n",
    "    \"decoders\": [\n",
    "        {\n",
    "            \"input\": 64,\n",
    "            \"hiddens\": [64, 64],\n",
    "            \"output\": features_num,\n",
    "            \"use_biases\": [True, True, True],\n",
    "            \"dropouts\": [0, 0, 0],\n",
    "            \"activations\": [\"relu\", \"relu\", \"sigmoid\"],\n",
    "            \"use_batch_norms\": [False, False, False],\n",
    "            \"use_layer_norms\": [False, False, False],\n",
    "        },\n",
    "        {\n",
    "            \"input\": 64,\n",
    "            \"hiddens\": [64, 64],\n",
    "            \"output\": features_num,\n",
    "            \"use_biases\": [True, True, True],\n",
    "            \"dropouts\": [0, 0, 0],\n",
    "            \"activations\": [\"relu\", \"relu\", None],\n",
    "            \"use_batch_norms\": [False, False, False],\n",
    "            \"use_layer_norms\": [False, False, False],\n",
    "        },\n",
    "    ],\n",
    "    \"discriminators\": [\n",
    "        {\n",
    "            \"input\": features_num,\n",
    "            \"hiddens\": [64],\n",
    "            \"output\": 1,\n",
    "            \"use_biases\": [True, True],\n",
    "            \"dropouts\": [0, 0],\n",
    "            \"activations\": [\"relu\", \"sigmoid\"],\n",
    "            \"use_batch_norms\": [False, False],\n",
    "            \"use_layer_norms\": [False, True],\n",
    "        },\n",
    "        {\n",
    "            \"input\": features_num,\n",
    "            \"hiddens\": [64],\n",
    "            \"output\": 1,\n",
    "            \"use_biases\": [True, True],\n",
    "            \"dropouts\": [0, 0],\n",
    "            \"activations\": [\"relu\", \"sigmoid\"],\n",
    "            \"use_batch_norms\": [False, False],\n",
    "            \"use_layer_norms\": [False, True],\n",
    "        },\n",
    "    ],\n",
    "    \"projectors\": {\n",
    "        \"input\": 64,\n",
    "        \"hiddens\": [],\n",
    "        \"output\": 100,\n",
    "        \"use_biases\": [True],\n",
    "        \"dropouts\": [0],\n",
    "        \"activations\": [\"relu\"],\n",
    "        \"use_batch_norms\": [False],\n",
    "        \"use_layer_norms\": [True],\n",
    "    },\n",
    "    \"clusters\": {\n",
    "        \"input\": 100,\n",
    "        \"hiddens\": [],\n",
    "        \"output\": len(cell_type_list),\n",
    "        \"use_biases\": [False],\n",
    "        \"dropouts\": [0],\n",
    "        \"activations\": [None],\n",
    "        \"use_batch_norms\": [False],\n",
    "        \"use_layer_norms\": [False],\n",
    "    },\n",
    "}\n",
    "\n",
    "device=\"cuda:0\"\n",
    "test_batch= batch\n",
    "root_save_path = f\"saved_results/thesis/pbmc/multi_task\"\n",
    "\n",
    "\n",
    "model = UnitedNet(\"multitask\", f\"{root_save_path}/{test_batch}\", device=device, technique=pbmc_config)\n",
    "model.train(adatas_train=adatas_train)\n",
    "#model.finetune(adatas_train)\n",
    "#model.transfer(adatas_train, adatas_transfer = adatas_test, verbose=True)\n",
    "#print(model.evaluate(adatas_test))\n",
    "# evaluation should be different for peturbation"
   ]
  },
  {
   "cell_type": "markdown",
   "metadata": {},
   "source": [
    "## Single-task translation via UnitedNet \n",
    "\n",
    "The classification network's parameters are ignored.\n",
    "\n",
    "It should be noted that all the metrics used in the multi-task way are still monitored for the single task as well. But we are only interested for the translation, so the metrics to pay attention to is the R2."
   ]
  },
  {
   "cell_type": "code",
   "execution_count": 16,
   "metadata": {},
   "outputs": [],
   "source": [
    "from unitednet.interface import UnitedNet\n",
    "\n",
    "\n",
    "pbmc_config_translation = {\n",
    "    \"train_batch_size\": 512,\n",
    "    \"finetune_batch_size\": 5000,\n",
    "    \"transfer_batch_size\": 512,\n",
    "    \"train_epochs\": 10,\n",
    "    \"finetune_epochs\": 10,\n",
    "    \"transfer_epochs\": 20,\n",
    "    \"train_task\": \"cross_model_prediction\", # translation\n",
    "    \"finetune_task\": None,\n",
    "    \"transfer_task\": None,\n",
    "    \"train_loss_weight\": None,\n",
    "    \"finetune_loss_weight\": None,\n",
    "    \"transfer_loss_weight\": None,\n",
    "    \"lr\": 0.1,\n",
    "    \"checkpoint\": 1,\n",
    "    \"n_head\": 1,\n",
    "    \"noise_level\":[0,0],\n",
    "    \"fuser_type\":\"WeightedMean\",\n",
    "    \"encoders\": [\n",
    "        {\n",
    "            \"input\": features_num,\n",
    "            \"hiddens\": [64, 64],\n",
    "            \"output\": 64,\n",
    "            \"use_biases\": [True, True, True],\n",
    "            \"dropouts\": [0, 0, 0],\n",
    "            \"activations\": [\"relu\", \"relu\", \"relu\"],\n",
    "            \"use_batch_norms\": [True, True, True],\n",
    "            \"use_layer_norms\": [False, False, False],\n",
    "            \"is_binary_input\": False,\n",
    "        },\n",
    "        {\n",
    "            \"input\": features_num,\n",
    "            \"hiddens\": [64, 64],\n",
    "            \"output\": 64,\n",
    "            \"use_biases\": [True, True, True],\n",
    "            \"dropouts\": [0, 0, 0],\n",
    "            \"activations\": [\"relu\", \"relu\", \"relu\"],\n",
    "            \"use_batch_norms\": [True, True, True],\n",
    "            \"use_layer_norms\": [False, False, False],\n",
    "            \"is_binary_input\": False,\n",
    "        },\n",
    "    ],\n",
    "    \"latent_projector\": None,\n",
    "    \"decoders\": [\n",
    "        {\n",
    "            \"input\": 64,\n",
    "            \"hiddens\": [64, 64],\n",
    "            \"output\": features_num,\n",
    "            \"use_biases\": [True, True, True],\n",
    "            \"dropouts\": [0, 0, 0],\n",
    "            \"activations\": [\"relu\", \"relu\", \"sigmoid\"],\n",
    "            \"use_batch_norms\": [False, False, False],\n",
    "            \"use_layer_norms\": [False, False, False],\n",
    "        },\n",
    "        {\n",
    "            \"input\": 64,\n",
    "            \"hiddens\": [64, 64],\n",
    "            \"output\": features_num,\n",
    "            \"use_biases\": [True, True, True],\n",
    "            \"dropouts\": [0, 0, 0],\n",
    "            \"activations\": [\"relu\", \"relu\", None],\n",
    "            \"use_batch_norms\": [False, False, False],\n",
    "            \"use_layer_norms\": [False, False, False],\n",
    "        },\n",
    "    ],\n",
    "    \"discriminators\": [\n",
    "        {\n",
    "            \"input\": features_num,\n",
    "            \"hiddens\": [64],\n",
    "            \"output\": 1,\n",
    "            \"use_biases\": [True, True],\n",
    "            \"dropouts\": [0, 0],\n",
    "            \"activations\": [\"relu\", \"sigmoid\"],\n",
    "            \"use_batch_norms\": [False, False],\n",
    "            \"use_layer_norms\": [False, True],\n",
    "        },\n",
    "        {\n",
    "            \"input\": features_num,\n",
    "            \"hiddens\": [64],\n",
    "            \"output\": 1,\n",
    "            \"use_biases\": [True, True],\n",
    "            \"dropouts\": [0, 0],\n",
    "            \"activations\": [\"relu\", \"sigmoid\"],\n",
    "            \"use_batch_norms\": [False, False],\n",
    "            \"use_layer_norms\": [False, True],\n",
    "        },\n",
    "    ],\n",
    "    \"projectors\": {\n",
    "        \"input\": 64,\n",
    "        \"hiddens\": [],\n",
    "        \"output\": 100,\n",
    "        \"use_biases\": [True],\n",
    "        \"dropouts\": [0],\n",
    "        \"activations\": [\"relu\"],\n",
    "        \"use_batch_norms\": [False],\n",
    "        \"use_layer_norms\": [True],\n",
    "    },\n",
    "    \"clusters\": {\n",
    "        \"input\": 100,\n",
    "        \"hiddens\": [],\n",
    "        \"output\": len(cell_type_list),\n",
    "        \"use_biases\": [False],\n",
    "        \"dropouts\": [0],\n",
    "        \"activations\": [None],\n",
    "        \"use_batch_norms\": [False],\n",
    "        \"use_layer_norms\": [False],\n",
    "    },\n",
    "}\n",
    "\n",
    "device=\"cuda:0\"\n",
    "test_batch= batch\n",
    "root_save_path = f\"saved_results/thesis/pbmc/translation\"\n",
    "\n",
    "model_translation = UnitedNet(f\"{root_save_path}/{test_batch}\", device=device, technique=pbmc_config_translation)"
   ]
  },
  {
   "cell_type": "code",
   "execution_count": 17,
   "metadata": {},
   "outputs": [
    {
     "name": "stdout",
     "output_type": "stream",
     "text": [
      "training\n"
     ]
    },
    {
     "name": "stderr",
     "output_type": "stream",
     "text": [
      "  0%|          | 0/10 [00:00<?, ?it/s]"
     ]
    },
    {
     "name": "stdout",
     "output_type": "stream",
     "text": [
      "\n",
      "\n",
      "Losses                    Value\n",
      "-------------------  ----------\n",
      "discriminator_loss   0.0595083\n",
      "reconstruction_loss  0.0411343\n",
      "generator_loss       0.00795011\n",
      "contrastive_loss     9.3067\n",
      "translation_loss     0.0411343\n",
      "best_head            0\n",
      "best model saved at saved_results/thesis/pbmc/translation/CD4T/CD4T/train_best.pt \n",
      "\n",
      "model saved at saved_results/thesis/pbmc/translation/CD4T/CD4T/train_epoch_1.pt \n",
      "\n"
     ]
    },
    {
     "name": "stderr",
     "output_type": "stream",
     "text": [
      " 10%|█         | 1/10 [00:04<00:43,  4.88s/it]"
     ]
    },
    {
     "name": "stdout",
     "output_type": "stream",
     "text": [
      "\n",
      "\n",
      "Metrics                        Value\n",
      "-----------------------------  --------------------------------------\n",
      "R2                             [[-0.05620258 -0.05620258]\n",
      "                                [-4.02247524 -4.02247524]]\n",
      "Confusion Matrix               [[   7    0  626    0    2   61   49]\n",
      "                                [   0    0  113    0    0  338    2]\n",
      "                                [  15    0 1863    1   13  245  212]\n",
      "                                [   3    0  297    1    1   61   27]\n",
      "                                [   0    0  188    0    0  128   23]\n",
      "                                [   0    0  565    0    1 1260   33]\n",
      "                                [   2    0  365    0    1   67   46]]\n",
      "Accuracy                       0.4801995163240629\n",
      "Adjusted Rand Index            0.13020679729601353\n",
      "Normalized Mutual Information  0.1497576428276985\n",
      "\n",
      "\n",
      "Losses                   Value\n",
      "-------------------  ---------\n",
      "discriminator_loss   0.0555364\n",
      "reconstruction_loss  0.0382109\n",
      "generator_loss       0.0111303\n",
      "contrastive_loss     5.96465\n",
      "translation_loss     0.0382109\n",
      "best_head            0\n",
      "best model saved at saved_results/thesis/pbmc/translation/CD4T/CD4T/train_best.pt \n",
      "\n",
      "model saved at saved_results/thesis/pbmc/translation/CD4T/CD4T/train_epoch_2.pt \n",
      "\n"
     ]
    },
    {
     "name": "stderr",
     "output_type": "stream",
     "text": [
      " 20%|██        | 2/10 [00:08<00:31,  3.94s/it]"
     ]
    },
    {
     "name": "stdout",
     "output_type": "stream",
     "text": [
      "\n",
      "\n",
      "Metrics                        Value\n",
      "-----------------------------  --------------------------------------\n",
      "R2                             [[-0.05619341 -0.05619341]\n",
      "                                [-1.3747524  -1.3747524 ]]\n",
      "Confusion Matrix               [[   6    0  380    1    0  358    0]\n",
      "                                [   1    0  170    0    0  282    0]\n",
      "                                [  14    0 1407    0    0  928    0]\n",
      "                                [   0    0  125    0    0  265    0]\n",
      "                                [   3    0  221    0    0  115    0]\n",
      "                                [   3    0  893    1    0  962    0]\n",
      "                                [   1    0  146    0    0  334    0]]\n",
      "Accuracy                       0.3589782345828295\n",
      "Adjusted Rand Index            0.01396222126230952\n",
      "Normalized Mutual Information  0.021216021550803477\n",
      "\n",
      "\n",
      "Losses                   Value\n",
      "-------------------  ---------\n",
      "discriminator_loss   0.0549763\n",
      "reconstruction_loss  0.0373039\n",
      "generator_loss       0.0117143\n",
      "contrastive_loss     4.69746\n",
      "translation_loss     0.0373039\n",
      "best_head            0\n",
      "best model saved at saved_results/thesis/pbmc/translation/CD4T/CD4T/train_best.pt \n",
      "\n",
      "model saved at saved_results/thesis/pbmc/translation/CD4T/CD4T/train_epoch_3.pt \n",
      "\n"
     ]
    },
    {
     "name": "stderr",
     "output_type": "stream",
     "text": [
      " 30%|███       | 3/10 [00:12<00:27,  3.94s/it]"
     ]
    },
    {
     "name": "stdout",
     "output_type": "stream",
     "text": [
      "\n",
      "\n",
      "Metrics                        Value\n",
      "-----------------------------  --------------------------------------\n",
      "R2                             [[-0.05619341 -0.05619341]\n",
      "                                [-0.3727389  -0.3727389 ]]\n",
      "Confusion Matrix               [[   0    0  450    0    1  294    0]\n",
      "                                [   0    0  271    0    1  181    0]\n",
      "                                [   0    0 1314    0    7 1028    0]\n",
      "                                [   0    0  278    0    0  112    0]\n",
      "                                [   0    0  135    0    5  199    0]\n",
      "                                [   0    0 1017    1   28  813    0]\n",
      "                                [   0    0  361    0    0  120    0]]\n",
      "Accuracy                       0.3222490931076179\n",
      "Adjusted Rand Index            -0.0019820210528122663\n",
      "Normalized Mutual Information  0.01291382574837221\n",
      "\n",
      "\n",
      "Losses                   Value\n",
      "-------------------  ---------\n",
      "discriminator_loss   0.0560711\n",
      "reconstruction_loss  0.0370539\n",
      "generator_loss       0.0106128\n",
      "contrastive_loss     3.21334\n",
      "translation_loss     0.0370539\n",
      "best_head            0\n",
      "best model saved at saved_results/thesis/pbmc/translation/CD4T/CD4T/train_best.pt \n",
      "\n",
      "model saved at saved_results/thesis/pbmc/translation/CD4T/CD4T/train_epoch_4.pt \n",
      "\n"
     ]
    },
    {
     "name": "stderr",
     "output_type": "stream",
     "text": [
      " 40%|████      | 4/10 [00:15<00:22,  3.76s/it]"
     ]
    },
    {
     "name": "stdout",
     "output_type": "stream",
     "text": [
      "\n",
      "\n",
      "Metrics                        Value\n",
      "-----------------------------  --------------------------------------\n",
      "R2                             [[-0.05619341 -0.05619341]\n",
      "                                [-0.10291274 -0.10291274]]\n",
      "Confusion Matrix               [[   1    0  287    0    0  457    0]\n",
      "                                [   0    1  119    0    0  333    0]\n",
      "                                [   2    0  943    0    0 1404    0]\n",
      "                                [   0    0   98    0    0  292    0]\n",
      "                                [   0    0  152    0    0  187    0]\n",
      "                                [  10    0  648    0    0 1201    0]\n",
      "                                [   0    0  115    0    0  366    0]]\n",
      "Accuracy                       0.32436517533252723\n",
      "Adjusted Rand Index            -0.006136651407975774\n",
      "Normalized Mutual Information  0.009027801315051877\n",
      "\n",
      "\n",
      "Losses                   Value\n",
      "-------------------  ---------\n",
      "discriminator_loss   0.055265\n",
      "reconstruction_loss  0.0369967\n",
      "generator_loss       0.0114075\n",
      "contrastive_loss     4.20872\n",
      "translation_loss     0.0369967\n",
      "best_head            0\n",
      "best model saved at saved_results/thesis/pbmc/translation/CD4T/CD4T/train_best.pt \n",
      "\n",
      "model saved at saved_results/thesis/pbmc/translation/CD4T/CD4T/train_epoch_5.pt \n",
      "\n"
     ]
    },
    {
     "name": "stderr",
     "output_type": "stream",
     "text": [
      " 50%|█████     | 5/10 [00:19<00:18,  3.64s/it]"
     ]
    },
    {
     "name": "stdout",
     "output_type": "stream",
     "text": [
      "\n",
      "\n",
      "Metrics                        Value\n",
      "-----------------------------  --------------------------------------\n",
      "R2                             [[-0.0561934  -0.05619341]\n",
      "                                [-0.02891275 -0.02891275]]\n",
      "Confusion Matrix               [[   6    1  458    0    0  280    0]\n",
      "                                [   1    3  244    0    0  205    0]\n",
      "                                [   9    0 1369    1    0  970    0]\n",
      "                                [   0    0  289    0    0  101    0]\n",
      "                                [   5    1  165    0    0  168    0]\n",
      "                                [  11    5  948    0    0  895    0]\n",
      "                                [   0    0  368    0    0  113    0]]\n",
      "Accuracy                       0.34356106408706166\n",
      "Adjusted Rand Index            0.000526491557714626\n",
      "Normalized Mutual Information  0.013790615260497675\n",
      "\n",
      "\n",
      "Losses                   Value\n",
      "-------------------  ---------\n",
      "discriminator_loss   0.0557129\n",
      "reconstruction_loss  0.0369825\n",
      "generator_loss       0.0109554\n",
      "contrastive_loss     2.44873\n",
      "translation_loss     0.0369825\n",
      "best_head            0\n",
      "best model saved at saved_results/thesis/pbmc/translation/CD4T/CD4T/train_best.pt \n",
      "\n",
      "model saved at saved_results/thesis/pbmc/translation/CD4T/CD4T/train_epoch_6.pt \n",
      "\n"
     ]
    },
    {
     "name": "stderr",
     "output_type": "stream",
     "text": [
      " 60%|██████    | 6/10 [00:22<00:14,  3.51s/it]"
     ]
    },
    {
     "name": "stdout",
     "output_type": "stream",
     "text": [
      "\n",
      "\n",
      "Metrics                        Value\n",
      "-----------------------------  --------------------------------------\n",
      "R2                             [[-0.0561934  -0.05619341]\n",
      "                                [-0.00906054 -0.00906054]]\n",
      "Confusion Matrix               [[  10    0  271    1    0  463    0]\n",
      "                                [   5    0  111    0    0  337    0]\n",
      "                                [  25    0  914    1    1 1408    0]\n",
      "                                [   0    0  102    0    0  288    0]\n",
      "                                [   4    0  140    0    0  195    0]\n",
      "                                [  29    0  582    0    0 1248    0]\n",
      "                                [   5    0  108    0    0  368    0]]\n",
      "Accuracy                       0.3282950423216445\n",
      "Adjusted Rand Index            -0.006428085510263648\n",
      "Normalized Mutual Information  0.008415955358042192\n",
      "\n",
      "\n",
      "Losses                   Value\n",
      "-------------------  ---------\n",
      "discriminator_loss   0.0554763\n",
      "reconstruction_loss  0.0369805\n",
      "generator_loss       0.0111908\n",
      "contrastive_loss     2.84853\n",
      "translation_loss     0.0369805\n",
      "best_head            0\n",
      "best model saved at saved_results/thesis/pbmc/translation/CD4T/CD4T/train_best.pt \n",
      "\n",
      "model saved at saved_results/thesis/pbmc/translation/CD4T/CD4T/train_epoch_7.pt \n",
      "\n"
     ]
    },
    {
     "name": "stderr",
     "output_type": "stream",
     "text": [
      " 70%|███████   | 7/10 [00:25<00:10,  3.42s/it]"
     ]
    },
    {
     "name": "stdout",
     "output_type": "stream",
     "text": [
      "\n",
      "\n",
      "Metrics                        Value\n",
      "-----------------------------  --------------------------------------\n",
      "R2                             [[-0.05619337 -0.0561934 ]\n",
      "                                [-0.00369519 -0.00369519]]\n",
      "Confusion Matrix               [[   8    0  273    1    2  461    0]\n",
      "                                [   2    0  121    0    1  329    0]\n",
      "                                [  25    0  935    1    3 1385    0]\n",
      "                                [   1    0  101    0    0  288    0]\n",
      "                                [   8    0  138    0    3  190    0]\n",
      "                                [  33    0  639    0    2 1185    0]\n",
      "                                [   4    0  109    0    0  368    0]]\n",
      "Accuracy                       0.32209794437726724\n",
      "Adjusted Rand Index            -0.007186120719746333\n",
      "Normalized Mutual Information  0.008687661675675442\n",
      "\n",
      "\n",
      "Losses                   Value\n",
      "-------------------  ---------\n",
      "discriminator_loss   0.0555942\n",
      "reconstruction_loss  0.0369629\n",
      "generator_loss       0.0110726\n",
      "contrastive_loss     1.8707\n",
      "translation_loss     0.0369629\n",
      "best_head            0\n",
      "best model saved at saved_results/thesis/pbmc/translation/CD4T/CD4T/train_best.pt \n",
      "\n",
      "model saved at saved_results/thesis/pbmc/translation/CD4T/CD4T/train_epoch_8.pt \n",
      "\n"
     ]
    },
    {
     "name": "stderr",
     "output_type": "stream",
     "text": [
      " 80%|████████  | 8/10 [00:28<00:06,  3.43s/it]"
     ]
    },
    {
     "name": "stdout",
     "output_type": "stream",
     "text": [
      "\n",
      "\n",
      "Metrics                        Value\n",
      "-----------------------------  --------------------------------------\n",
      "R2                             [[-0.05606649 -0.05606649]\n",
      "                                [-0.00237421 -0.00237421]]\n",
      "Confusion Matrix               [[  13    0  274    1    0  457    0]\n",
      "                                [   0    0  125    0    0  328    0]\n",
      "                                [  20    1  937    0    0 1391    0]\n",
      "                                [   2    0   99    0    0  289    0]\n",
      "                                [   5    0  139    0    0  195    0]\n",
      "                                [  10    1  637    0    0 1211    0]\n",
      "                                [   5    0  106    0    0  370    0]]\n",
      "Accuracy                       0.32663240628778717\n",
      "Adjusted Rand Index            -0.006246173097579558\n",
      "Normalized Mutual Information  0.00868536358440616\n",
      "model saved at saved_results/thesis/pbmc/translation/CD4T/CD4T/train_epoch_9.pt \n",
      "\n"
     ]
    },
    {
     "name": "stderr",
     "output_type": "stream",
     "text": [
      " 90%|█████████ | 9/10 [00:32<00:03,  3.42s/it]"
     ]
    },
    {
     "name": "stdout",
     "output_type": "stream",
     "text": [
      "\n",
      "\n",
      "Metrics                        Value\n",
      "-----------------------------  --------------------------------------\n",
      "R2                             [[-0.05606646 -0.05606649]\n",
      "                                [-0.00198999 -0.00198999]]\n",
      "Confusion Matrix               [[   4    1  282    0    0  458    0]\n",
      "                                [   0    0  129    0    0  324    0]\n",
      "                                [  11    1  956    0    0 1377    4]\n",
      "                                [   1    0  101    0    0  288    0]\n",
      "                                [   0    0  150    0    0  189    0]\n",
      "                                [   7    1  663    0    0 1188    0]\n",
      "                                [   1    0  108    0    0  371    1]]\n",
      "Accuracy                       0.3248186215235792\n",
      "Adjusted Rand Index            -0.006870036655446086\n",
      "Normalized Mutual Information  0.008766087338492115\n",
      "\n",
      "\n",
      "Losses                   Value\n",
      "-------------------  ---------\n",
      "discriminator_loss   0.0555608\n",
      "reconstruction_loss  0.0369381\n",
      "generator_loss       0.0111059\n",
      "contrastive_loss     1.14994\n",
      "translation_loss     0.0369381\n",
      "best_head            0\n",
      "best model saved at saved_results/thesis/pbmc/translation/CD4T/CD4T/train_best.pt \n",
      "\n",
      "model saved at saved_results/thesis/pbmc/translation/CD4T/CD4T/train_epoch_10.pt \n",
      "\n"
     ]
    },
    {
     "name": "stderr",
     "output_type": "stream",
     "text": [
      "100%|██████████| 10/10 [00:36<00:00,  3.61s/it]"
     ]
    },
    {
     "name": "stdout",
     "output_type": "stream",
     "text": [
      "\n",
      "\n",
      "Metrics                        Value\n",
      "-----------------------------  --------------------------------------\n",
      "R2                             [[-0.05582297 -0.05582298]\n",
      "                                [-0.00215461 -0.00215461]]\n",
      "Confusion Matrix               [[   5    0  275    0    0  463    2]\n",
      "                                [   2    0  123    0    0  328    0]\n",
      "                                [  13    0  946    0    0 1384    6]\n",
      "                                [   1    0  101    0    0  288    0]\n",
      "                                [   3    0  144    0    1  190    1]\n",
      "                                [   7    0  635    0    1 1214    2]\n",
      "                                [   2    0  106    0    0  371    2]]\n",
      "Accuracy                       0.32769044740024184\n",
      "Adjusted Rand Index            -0.006267101988215142\n",
      "Normalized Mutual Information  0.008452413107276518\n"
     ]
    },
    {
     "name": "stderr",
     "output_type": "stream",
     "text": [
      "\n"
     ]
    }
   ],
   "source": [
    "model_translation.train(adatas_train, verbose=True)\n"
   ]
  },
  {
   "cell_type": "markdown",
   "metadata": {},
   "source": [
    "## Single-task cell type annotation (classification) via UnitedNet\n",
    "\n",
    "The translation networks' parameters are ignored.\n",
    "\n",
    "As mentioned above all metrics are monitored. For the classification task we are intested for the:\n",
    "- Confusion matrix\n",
    "- Adjusted Rank Index\n",
    "- Accuracy\n",
    "- Normalized Mutual information"
   ]
  },
  {
   "cell_type": "code",
   "execution_count": 18,
   "metadata": {},
   "outputs": [],
   "source": [
    "from unitednet.interface import UnitedNet\n",
    "\n",
    "\n",
    "pbmc_config_classification = {\n",
    "    \"train_batch_size\": 512,\n",
    "    \"finetune_batch_size\": 5000,\n",
    "    \"transfer_batch_size\": 512,\n",
    "    \"train_epochs\": 10,\n",
    "    \"finetune_epochs\": 10,\n",
    "    \"transfer_epochs\": 20,\n",
    "    \"train_task\": \"supervised_group_identification_only\", # classification\n",
    "    \"finetune_task\": None,\n",
    "    \"transfer_task\": None,\n",
    "    \"train_loss_weight\": None,\n",
    "    \"finetune_loss_weight\": None,\n",
    "    \"transfer_loss_weight\": None,\n",
    "    \"lr\": 0.1,\n",
    "    \"checkpoint\": 1,\n",
    "    \"n_head\": 1,\n",
    "    \"noise_level\":[0,0],\n",
    "    \"fuser_type\":\"WeightedMean\",\n",
    "    \"encoders\": [\n",
    "        {\n",
    "            \"input\": features_num,\n",
    "            \"hiddens\": [64, 64],\n",
    "            \"output\": 64,\n",
    "            \"use_biases\": [True, True, True],\n",
    "            \"dropouts\": [0, 0, 0],\n",
    "            \"activations\": [\"relu\", \"relu\", \"relu\"],\n",
    "            \"use_batch_norms\": [True, True, True],\n",
    "            \"use_layer_norms\": [False, False, False],\n",
    "            \"is_binary_input\": False,\n",
    "        },\n",
    "        {\n",
    "            \"input\": features_num,\n",
    "            \"hiddens\": [64, 64],\n",
    "            \"output\": 64,\n",
    "            \"use_biases\": [True, True, True],\n",
    "            \"dropouts\": [0, 0, 0],\n",
    "            \"activations\": [\"relu\", \"relu\", \"relu\"],\n",
    "            \"use_batch_norms\": [True, True, True],\n",
    "            \"use_layer_norms\": [False, False, False],\n",
    "            \"is_binary_input\": False,\n",
    "        },\n",
    "    ],\n",
    "    \"latent_projector\": None,\n",
    "    \"decoders\": [\n",
    "        {\n",
    "            \"input\": 64,\n",
    "            \"hiddens\": [64, 64],\n",
    "            \"output\": features_num,\n",
    "            \"use_biases\": [True, True, True],\n",
    "            \"dropouts\": [0, 0, 0],\n",
    "            \"activations\": [\"relu\", \"relu\", \"sigmoid\"],\n",
    "            \"use_batch_norms\": [False, False, False],\n",
    "            \"use_layer_norms\": [False, False, False],\n",
    "        },\n",
    "        {\n",
    "            \"input\": 64,\n",
    "            \"hiddens\": [64, 64],\n",
    "            \"output\": features_num,\n",
    "            \"use_biases\": [True, True, True],\n",
    "            \"dropouts\": [0, 0, 0],\n",
    "            \"activations\": [\"relu\", \"relu\", None],\n",
    "            \"use_batch_norms\": [False, False, False],\n",
    "            \"use_layer_norms\": [False, False, False],\n",
    "        },\n",
    "    ],\n",
    "    \"discriminators\": [\n",
    "        {\n",
    "            \"input\": features_num,\n",
    "            \"hiddens\": [64],\n",
    "            \"output\": 1,\n",
    "            \"use_biases\": [True, True],\n",
    "            \"dropouts\": [0, 0],\n",
    "            \"activations\": [\"relu\", \"sigmoid\"],\n",
    "            \"use_batch_norms\": [False, False],\n",
    "            \"use_layer_norms\": [False, True],\n",
    "        },\n",
    "        {\n",
    "            \"input\": features_num,\n",
    "            \"hiddens\": [64],\n",
    "            \"output\": 1,\n",
    "            \"use_biases\": [True, True],\n",
    "            \"dropouts\": [0, 0],\n",
    "            \"activations\": [\"relu\", \"sigmoid\"],\n",
    "            \"use_batch_norms\": [False, False],\n",
    "            \"use_layer_norms\": [False, True],\n",
    "        },\n",
    "    ],\n",
    "    \"projectors\": {\n",
    "        \"input\": 64,\n",
    "        \"hiddens\": [],\n",
    "        \"output\": 100,\n",
    "        \"use_biases\": [True],\n",
    "        \"dropouts\": [0],\n",
    "        \"activations\": [\"relu\"],\n",
    "        \"use_batch_norms\": [False],\n",
    "        \"use_layer_norms\": [True],\n",
    "    },\n",
    "    \"clusters\": {\n",
    "        \"input\": 100,\n",
    "        \"hiddens\": [],\n",
    "        \"output\": len(cell_type_list),\n",
    "        \"use_biases\": [False],\n",
    "        \"dropouts\": [0],\n",
    "        \"activations\": [None],\n",
    "        \"use_batch_norms\": [False],\n",
    "        \"use_layer_norms\": [False],\n",
    "    },\n",
    "}\n",
    "\n",
    "device=\"cuda:0\"\n",
    "test_batch= batch\n",
    "root_save_path = f\"saved_results/thesis/pbmc/classification\"\n",
    "\n",
    "model_classification = UnitedNet(f\"{root_save_path}/{test_batch}\", device=device, technique=pbmc_config_classification)"
   ]
  },
  {
   "cell_type": "code",
   "execution_count": 19,
   "metadata": {},
   "outputs": [
    {
     "name": "stdout",
     "output_type": "stream",
     "text": [
      "training\n"
     ]
    },
    {
     "name": "stderr",
     "output_type": "stream",
     "text": [
      "  0%|          | 0/10 [00:00<?, ?it/s]"
     ]
    },
    {
     "name": "stdout",
     "output_type": "stream",
     "text": [
      "\n",
      "\n",
      "Losses                        Value\n",
      "-------------------------  --------\n",
      "cross_entropy_loss_head_0  0.226991\n",
      "best_head                  0\n",
      "best model saved at saved_results/thesis/pbmc/classification/CD4T/CD4T/train_best.pt \n",
      "\n",
      "model saved at saved_results/thesis/pbmc/classification/CD4T/CD4T/train_epoch_1.pt \n",
      "\n"
     ]
    },
    {
     "name": "stderr",
     "output_type": "stream",
     "text": [
      " 10%|█         | 1/10 [00:04<00:37,  4.22s/it]"
     ]
    },
    {
     "name": "stdout",
     "output_type": "stream",
     "text": [
      "\n",
      "\n",
      "Metrics                        Value\n",
      "-----------------------------  --------------------------------------\n",
      "R2                             [[ -452.13931274  -348.13018799]\n",
      "                                [-4292.48925781  -453.43054199]]\n",
      "Confusion Matrix               [[ 740    0    2    1    2    0    0]\n",
      "                                [   0  452    0    0    0    1    0]\n",
      "                                [   6    7 2200  135    0    1    0]\n",
      "                                [   0    0    0  381    0    0    9]\n",
      "                                [   0    2    0    0  334    3    0]\n",
      "                                [   3  860    2    0   64  923    7]\n",
      "                                [   0    0    1    5    0    0  475]]\n",
      "Accuracy                       0.8320737605804112\n",
      "Adjusted Rand Index            0.7605106205207351\n",
      "Normalized Mutual Information  0.8246357413941272\n",
      "\n",
      "\n",
      "Losses                         Value\n",
      "-------------------------  ---------\n",
      "cross_entropy_loss_head_0  0.0244222\n",
      "best_head                  0\n",
      "best model saved at saved_results/thesis/pbmc/classification/CD4T/CD4T/train_best.pt \n",
      "\n",
      "model saved at saved_results/thesis/pbmc/classification/CD4T/CD4T/train_epoch_2.pt \n",
      "\n"
     ]
    },
    {
     "name": "stderr",
     "output_type": "stream",
     "text": [
      " 20%|██        | 2/10 [00:08<00:32,  4.06s/it]"
     ]
    },
    {
     "name": "stdout",
     "output_type": "stream",
     "text": [
      "\n",
      "\n",
      "Metrics                        Value\n",
      "-----------------------------  --------------------------------------\n",
      "R2                             [[ -450.79714966  -339.36514282]\n",
      "                                [-3584.08374023  -287.04818726]]\n",
      "Confusion Matrix               [[ 744    0    0    0    1    0    0]\n",
      "                                [   0  452    0    0    0    1    0]\n",
      "                                [   0    0 2349    0    0    0    0]\n",
      "                                [   0    0    1  389    0    0    0]\n",
      "                                [   0    0    0    0  339    0    0]\n",
      "                                [   1   36    1    0   15 1806    0]\n",
      "                                [   0    0    0    0    0    1  480]]\n",
      "Accuracy                       0.9913845223700121\n",
      "Adjusted Rand Index            0.9834376510081113\n",
      "Normalized Mutual Information  0.975097656907263\n",
      "\n",
      "\n",
      "Losses                         Value\n",
      "-------------------------  ---------\n",
      "cross_entropy_loss_head_0  0.0165457\n",
      "best_head                  0\n",
      "best model saved at saved_results/thesis/pbmc/classification/CD4T/CD4T/train_best.pt \n",
      "\n",
      "model saved at saved_results/thesis/pbmc/classification/CD4T/CD4T/train_epoch_3.pt \n",
      "\n"
     ]
    },
    {
     "name": "stderr",
     "output_type": "stream",
     "text": [
      " 30%|███       | 3/10 [00:12<00:28,  4.03s/it]"
     ]
    },
    {
     "name": "stdout",
     "output_type": "stream",
     "text": [
      "\n",
      "\n",
      "Metrics                        Value\n",
      "-----------------------------  --------------------------------------\n",
      "R2                             [[ -456.08181763  -337.98233032]\n",
      "                                [-3652.35205078  -281.98300171]]\n",
      "Confusion Matrix               [[ 744    0    0    0    0    1    0]\n",
      "                                [   0  446    0    0    0    7    0]\n",
      "                                [   0    0 2346    0    0    0    3]\n",
      "                                [   0    0    2  387    0    0    1]\n",
      "                                [   0    0    0    0  339    0    0]\n",
      "                                [   0    1    2    0    2 1853    1]\n",
      "                                [   0    0    0    0    0    0  481]]\n",
      "Accuracy                       0.9969770253929867\n",
      "Adjusted Rand Index            0.9934999581188468\n",
      "Normalized Mutual Information  0.9875742590031654\n",
      "model saved at saved_results/thesis/pbmc/classification/CD4T/CD4T/train_epoch_4.pt \n",
      "\n"
     ]
    },
    {
     "name": "stderr",
     "output_type": "stream",
     "text": [
      " 40%|████      | 4/10 [00:16<00:24,  4.13s/it]"
     ]
    },
    {
     "name": "stdout",
     "output_type": "stream",
     "text": [
      "\n",
      "\n",
      "Metrics                        Value\n",
      "-----------------------------  --------------------------------------\n",
      "R2                             [[ -448.58981323  -343.15869141]\n",
      "                                [-3563.70922852  -389.36175537]]\n",
      "Confusion Matrix               [[ 745    0    0    0    0    0    0]\n",
      "                                [   0  453    0    0    0    0    0]\n",
      "                                [   0    0 2344    5    0    0    0]\n",
      "                                [   0    0    2  388    0    0    0]\n",
      "                                [   0    7    0    0  329    3    0]\n",
      "                                [   0   88    1    0    0 1770    0]\n",
      "                                [   0    0    0    0    0    0  481]]\n",
      "Accuracy                       0.9839782345828295\n",
      "Adjusted Rand Index            0.9702427947216413\n",
      "Normalized Mutual Information  0.9632255565190891\n",
      "\n",
      "\n",
      "Losses                         Value\n",
      "-------------------------  ---------\n",
      "cross_entropy_loss_head_0  0.0118426\n",
      "best_head                  0\n",
      "best model saved at saved_results/thesis/pbmc/classification/CD4T/CD4T/train_best.pt \n",
      "\n",
      "model saved at saved_results/thesis/pbmc/classification/CD4T/CD4T/train_epoch_5.pt \n",
      "\n"
     ]
    },
    {
     "name": "stderr",
     "output_type": "stream",
     "text": [
      " 50%|█████     | 5/10 [00:20<00:20,  4.12s/it]"
     ]
    },
    {
     "name": "stdout",
     "output_type": "stream",
     "text": [
      "\n",
      "\n",
      "Metrics                        Value\n",
      "-----------------------------  --------------------------------------\n",
      "R2                             [[ -447.04916382  -345.290802  ]\n",
      "                                [-3948.14868164  -275.65328979]]\n",
      "Confusion Matrix               [[ 745    0    0    0    0    0    0]\n",
      "                                [   0  453    0    0    0    0    0]\n",
      "                                [  13    0 2325   10    0    0    1]\n",
      "                                [   0    0    0  390    0    0    0]\n",
      "                                [   0    0    0    0  339    0    0]\n",
      "                                [   1    7    1    0    6 1844    0]\n",
      "                                [   0    0    0    0    0    0  481]]\n",
      "Accuracy                       0.994105199516324\n",
      "Adjusted Rand Index            0.9864122184025789\n",
      "Normalized Mutual Information  0.9791647527694716\n",
      "\n",
      "\n",
      "Losses                          Value\n",
      "-------------------------  ----------\n",
      "cross_entropy_loss_head_0  0.00420023\n",
      "best_head                  0\n",
      "best model saved at saved_results/thesis/pbmc/classification/CD4T/CD4T/train_best.pt \n",
      "\n",
      "model saved at saved_results/thesis/pbmc/classification/CD4T/CD4T/train_epoch_6.pt \n",
      "\n"
     ]
    },
    {
     "name": "stderr",
     "output_type": "stream",
     "text": [
      " 60%|██████    | 6/10 [00:24<00:16,  4.13s/it]"
     ]
    },
    {
     "name": "stdout",
     "output_type": "stream",
     "text": [
      "\n",
      "\n",
      "Metrics                        Value\n",
      "-----------------------------  --------------------------------------\n",
      "R2                             [[ -448.85372925  -346.35324097]\n",
      "                                [-3850.38476562  -365.29223633]]\n",
      "Confusion Matrix               [[ 745    0    0    0    0    0    0]\n",
      "                                [   0  453    0    0    0    0    0]\n",
      "                                [   0    0 2349    0    0    0    0]\n",
      "                                [   0    0    2  388    0    0    0]\n",
      "                                [   0    0    0    0  339    0    0]\n",
      "                                [   0    4    0    0    1 1854    0]\n",
      "                                [   0    0    0    0    0    0  481]]\n",
      "Accuracy                       0.9989419588875453\n",
      "Adjusted Rand Index            0.9978430681512408\n",
      "Normalized Mutual Information  0.9956609471403723\n",
      "model saved at saved_results/thesis/pbmc/classification/CD4T/CD4T/train_epoch_7.pt \n",
      "\n"
     ]
    },
    {
     "name": "stderr",
     "output_type": "stream",
     "text": [
      " 70%|███████   | 7/10 [00:29<00:12,  4.29s/it]"
     ]
    },
    {
     "name": "stdout",
     "output_type": "stream",
     "text": [
      "\n",
      "\n",
      "Metrics                        Value\n",
      "-----------------------------  --------------------------------------\n",
      "R2                             [[ -446.55487061  -343.48538208]\n",
      "                                [-3803.09863281  -358.09603882]]\n",
      "Confusion Matrix               [[ 745    0    0    0    0    0    0]\n",
      "                                [   0  453    0    0    0    0    0]\n",
      "                                [   0    0 2349    0    0    0    0]\n",
      "                                [   0    0    0  390    0    0    0]\n",
      "                                [   0    0    0    0  339    0    0]\n",
      "                                [   0  144    0    0    0 1715    0]\n",
      "                                [   0    0    0    0    0    0  481]]\n",
      "Accuracy                       0.9782345828295043\n",
      "Adjusted Rand Index            0.9596632337953627\n",
      "Normalized Mutual Information  0.9623345294881893\n",
      "model saved at saved_results/thesis/pbmc/classification/CD4T/CD4T/train_epoch_8.pt \n",
      "\n"
     ]
    },
    {
     "name": "stderr",
     "output_type": "stream",
     "text": [
      " 80%|████████  | 8/10 [00:33<00:08,  4.36s/it]"
     ]
    },
    {
     "name": "stdout",
     "output_type": "stream",
     "text": [
      "\n",
      "\n",
      "Metrics                        Value\n",
      "-----------------------------  --------------------------------------\n",
      "R2                             [[ -447.47564697  -344.02441406]\n",
      "                                [-3830.68359375  -332.47918701]]\n",
      "Confusion Matrix               [[ 745    0    0    0    0    0    0]\n",
      "                                [   0  453    0    0    0    0    0]\n",
      "                                [   0    0 2349    0    0    0    0]\n",
      "                                [   0    0    0  390    0    0    0]\n",
      "                                [   0    0    0    0  339    0    0]\n",
      "                                [   0   18    0    0    0 1841    0]\n",
      "                                [   0    0    0    0    0    0  481]]\n",
      "Accuracy                       0.997279322853688\n",
      "Adjusted Rand Index            0.9947218098479961\n",
      "Normalized Mutual Information  0.9919325919933397\n",
      "model saved at saved_results/thesis/pbmc/classification/CD4T/CD4T/train_epoch_9.pt \n",
      "\n"
     ]
    },
    {
     "name": "stderr",
     "output_type": "stream",
     "text": [
      " 90%|█████████ | 9/10 [00:38<00:04,  4.35s/it]"
     ]
    },
    {
     "name": "stdout",
     "output_type": "stream",
     "text": [
      "\n",
      "\n",
      "Metrics                        Value\n",
      "-----------------------------  --------------------------------------\n",
      "R2                             [[ -449.81253052  -346.45788574]\n",
      "                                [-4052.74536133  -403.01547241]]\n",
      "Confusion Matrix               [[ 745    0    0    0    0    0    0]\n",
      "                                [   0  453    0    0    0    0    0]\n",
      "                                [   0    0 2349    0    0    0    0]\n",
      "                                [   0    0    0  390    0    0    0]\n",
      "                                [   0    0    0    0  339    0    0]\n",
      "                                [   0   50    0    0    0 1809    0]\n",
      "                                [   0    0    0    0    0    0  481]]\n",
      "Accuracy                       0.9924425634824667\n",
      "Adjusted Rand Index            0.9855006098757555\n",
      "Normalized Mutual Information  0.9822068752851634\n",
      "\n",
      "\n",
      "Losses                           Value\n",
      "-------------------------  -----------\n",
      "cross_entropy_loss_head_0  0.000172609\n",
      "best_head                  0\n",
      "best model saved at saved_results/thesis/pbmc/classification/CD4T/CD4T/train_best.pt \n",
      "\n",
      "model saved at saved_results/thesis/pbmc/classification/CD4T/CD4T/train_epoch_10.pt \n",
      "\n"
     ]
    },
    {
     "name": "stderr",
     "output_type": "stream",
     "text": [
      "100%|██████████| 10/10 [00:42<00:00,  4.24s/it]"
     ]
    },
    {
     "name": "stdout",
     "output_type": "stream",
     "text": [
      "\n",
      "\n",
      "Metrics                        Value\n",
      "-----------------------------  --------------------------------------\n",
      "R2                             [[ -451.26821899  -345.86209106]\n",
      "                                [-3976.87792969  -398.92633057]]\n",
      "Confusion Matrix               [[ 745    0    0    0    0    0    0]\n",
      "                                [   0  453    0    0    0    0    0]\n",
      "                                [   0    0 2349    0    0    0    0]\n",
      "                                [   0    0    0  390    0    0    0]\n",
      "                                [   0    0    0    0  339    0    0]\n",
      "                                [   0    0    0    0    0 1859    0]\n",
      "                                [   0    0    0    0    0    0  481]]\n",
      "Accuracy                       1.0\n",
      "Adjusted Rand Index            1.0\n",
      "Normalized Mutual Information  1.0\n"
     ]
    },
    {
     "name": "stderr",
     "output_type": "stream",
     "text": [
      "\n"
     ]
    }
   ],
   "source": [
    "model_classification.train(adatas_train, verbose=True)\n"
   ]
  },
  {
   "cell_type": "markdown",
   "metadata": {},
   "source": [
    "## Conclusion\n",
    "\n",
    "Perturbation response prediction is evaluated on a held out cell type group. The model given the control cells of a particular cell type, predicts the stimulated gene expression profiles, and with post-processing analysis, the DEGs are identified. scButterfly, scGen, and scPreGAN, do the comparison based on 1) the common DEGs, and 2) .\n",
    "\n",
    "The issue in our initial thinking is that the classification task can't be tested with the above setup. To hold out a cell type group to test it for perturbation response, won't be an equivalent meaningful evaluation for the classification, since we will have only one type. At the same time, the cell type knowledge is a prerequisite to train and test the model, so the cell type classification task seems not a meaningful one.\n",
    "\n",
    "In other words, the UnitedNet's classification task is meaningful, since it is possible from an experiment to have a multiple modality information for a cell, such as knowing the gene, protein or dna accessibility information. But from a perturbation perspective, the knowledge of a paired control and stimulated cell is unknown (we need cell type + optimal transport to create this pseudo information). On the other hand, we could assume that given the control cell, a model can predict the stimulated, and then having both, it could be leveraged for cell type. This would be an interesting use case to try it, and test the classification task, but the limitations of the model in the perturbation response will be carried along as the input for another task. That's we should explore other workflows.\n",
    "\n",
    "Overall, we could change the way we test, by keeping from all cell types a portion of it for testing, instead of holding out a whole cell type group (as we currently do for the validation set). Having all the above combined, UnitedNet, as it is, with the translation, and classification task can be explored on perturbation modeling."
   ]
  }
 ],
 "metadata": {
  "kernelspec": {
   "display_name": "thesis",
   "language": "python",
   "name": "python3"
  },
  "language_info": {
   "codemirror_mode": {
    "name": "ipython",
    "version": 3
   },
   "file_extension": ".py",
   "mimetype": "text/x-python",
   "name": "python",
   "nbconvert_exporter": "python",
   "pygments_lexer": "ipython3",
   "version": "3.9.20"
  }
 },
 "nbformat": 4,
 "nbformat_minor": 2
}
