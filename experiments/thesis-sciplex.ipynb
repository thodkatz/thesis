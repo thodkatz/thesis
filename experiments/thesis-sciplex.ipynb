{
 "cells": [
  {
   "cell_type": "markdown",
   "metadata": {},
   "source": [
    "## Thesis architecture leveraging multiple perturbations via multi-task learning\n",
    "\n",
    "We will attempt to use an VAE scheme for each perturbation type. Similarly, with scButterfly, and UnitedNet, the encoder\n",
    "and the decoder of the control RNA will be shared across the perturbations. We hope that sharing it, we will help each task individually.\n",
    "\n",
    "We will use the VAE implementation of scbutterfly, but to make our experiments easier, we could ditch some part of the architecture, and then we can enrich it afterwards. Based on the ablation study of scPreGan for example, they showed that each part of their architecture, including the discriminators are important.\n",
    "\n",
    "For our ablation study if multi-task learning is beneficial, we could focus on simple architectures with a few losses."
   ]
  }
 ],
 "metadata": {
  "language_info": {
   "name": "python"
  }
 },
 "nbformat": 4,
 "nbformat_minor": 2
}
