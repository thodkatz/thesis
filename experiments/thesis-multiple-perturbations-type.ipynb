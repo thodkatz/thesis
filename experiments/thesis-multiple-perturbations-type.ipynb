{
 "cells": [
  {
   "cell_type": "markdown",
   "metadata": {},
   "source": [
    "## Thesis multi-task learning with perturbation type\n",
    "\n",
    "Building upon the multiple types of perturbation response prediction (`thesis-multiple-perturbations.ipynb`), we could explore to solve additionally the task of classifying the perturbation."
   ]
  }
 ],
 "metadata": {
  "language_info": {
   "name": "python"
  }
 },
 "nbformat": 4,
 "nbformat_minor": 2
}
