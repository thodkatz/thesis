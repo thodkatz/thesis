{
 "cells": [
  {
   "cell_type": "markdown",
   "metadata": {},
   "source": [
    "## Thesis multi-task learning with pathway prediction\n",
    "\n",
    "Building upon the multiple types of perturbation response prediction (`thesis-multiple-perturbations.ipynb`), we could explore to solve additionally the task of pathway prediction and/or target prediction."
   ]
  },
  {
   "cell_type": "markdown",
   "metadata": {},
   "source": [
    "## Questions\n",
    "\n",
    "- The pathway information can be obtained with post processing, pathway enrichment analysis, on any perturbation dataset with control and stimulated gene expression profiles. Is the pathway determined by perturbation type? Is it possible to have some cells under the same perturbation to have a different pathway label? Based on the pathway enrichment analysis, the DEGs are obtained first, thus I estimate that is per perturbation.\n",
    "- Is the above applied for the target prediction as well? Which protein we have as target is per perturbation type?"
   ]
  }
 ],
 "metadata": {
  "language_info": {
   "name": "python"
  }
 },
 "nbformat": 4,
 "nbformat_minor": 2
}
