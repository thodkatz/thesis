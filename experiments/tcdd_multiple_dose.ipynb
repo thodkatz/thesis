{
 "cells": [
  {
   "cell_type": "code",
   "execution_count": 1,
   "metadata": {},
   "outputs": [],
   "source": [
    "import scanpy as sc\n",
    "\n",
    "# dataset downloaded from scVIDR github provided drive link\n",
    "data = \"../data/scvidr/nault2021_multiDose.h5ad\"\n",
    "adata = sc.read_h5ad(data)"
   ]
  },
  {
   "cell_type": "code",
   "execution_count": 2,
   "metadata": {},
   "outputs": [
    {
     "data": {
      "text/plain": [
       "AnnData object with n_obs × n_vars = 131613 × 22213\n",
       "    obs: 'Dose', 'batch', 'celltype'"
      ]
     },
     "execution_count": 2,
     "metadata": {},
     "output_type": "execute_result"
    }
   ],
   "source": [
    "adata"
   ]
  },
  {
   "cell_type": "code",
   "execution_count": 4,
   "metadata": {},
   "outputs": [],
   "source": [
    "sc.pp.filter_cells(adata, min_counts=500)\n",
    "sc.pp.filter_cells(adata, min_genes=720)\n",
    "sc.pp.filter_genes(adata, min_cells=100)\n",
    "\n",
    "# should this be per cell like https://github.com/facebookresearch/CPA/blob/main/preprocessing/sciplex3.ipynb? No, it is deprecated\n",
    "sc.pp.normalize_total(adata) \n",
    "\n",
    "sc.pp.log1p(adata)\n",
    "sc.pp.highly_variable_genes(adata, n_top_genes=5000)\n",
    "adata = adata[:,adata.var.highly_variable]"
   ]
  },
  {
   "cell_type": "code",
   "execution_count": 3,
   "metadata": {},
   "outputs": [
    {
     "name": "stderr",
     "output_type": "stream",
     "text": [
      "/tmp/ipykernel_1687142/1314103447.py:1: FutureWarning: The default of observed=False is deprecated and will be changed to True in a future version of pandas. Pass observed=False to retain current behavior or observed=True to adopt the future default and silence this warning.\n",
      "  adata.obs.groupby(['celltype', 'Dose']).size().sort_values(ascending=False).head(20)\n"
     ]
    },
    {
     "data": {
      "text/plain": [
       "celltype               Dose \n",
       "Hepatocytes - portal   0.10     9094\n",
       "                       0.30     8953\n",
       "                       0.00     7512\n",
       "                       10.00    6914\n",
       "                       1.00     6600\n",
       "                       0.03     6286\n",
       "Macrophage             30.00    6072\n",
       "Hepatocytes - portal   3.00     5880\n",
       "                       0.01     4971\n",
       "Hepatocytes - central  10.00    3731\n",
       "                       0.10     2907\n",
       "Endothelial Cells      30.00    2852\n",
       "Hepatocytes - central  1.00     2610\n",
       "                       0.00     2492\n",
       "                       3.00     2431\n",
       "Macrophage             10.00    2322\n",
       "Hepatocytes - central  0.30     2309\n",
       "Endothelial Cells      1.00     2150\n",
       "                       0.10     2017\n",
       "                       0.30     1930\n",
       "dtype: int64"
      ]
     },
     "execution_count": 3,
     "metadata": {},
     "output_type": "execute_result"
    }
   ],
   "source": [
    "adata.obs.groupby(['celltype', 'Dose']).size().sort_values(ascending=False).head(20)"
   ]
  },
  {
   "cell_type": "code",
   "execution_count": 6,
   "metadata": {},
   "outputs": [
    {
     "name": "stderr",
     "output_type": "stream",
     "text": [
      "/tmp/ipykernel_1687142/3006584410.py:3: FutureWarning: The default of observed=False is deprecated and will be changed to True in a future version of pandas. Pass observed=False to retain current behavior or observed=True to adopt the future default and silence this warning.\n",
      "  single_dosage.obs.groupby(['celltype', 'Dose']).size()\n"
     ]
    },
    {
     "data": {
      "text/plain": [
       "celltype               Dose\n",
       "B Cells                0.0      208\n",
       "                       30.0    1565\n",
       "Cholangiocytes         0.0      109\n",
       "                       30.0     600\n",
       "Endothelial Cells      0.0     1495\n",
       "                       30.0    2852\n",
       "Hepatocytes - central  0.0     2492\n",
       "                       30.0    1325\n",
       "Hepatocytes - portal   0.0     7512\n",
       "                       30.0    1074\n",
       "Macrophage             0.0     1508\n",
       "                       30.0    6072\n",
       "Neutrophils            0.0       61\n",
       "                       30.0     614\n",
       "Portal Fibroblasts     0.0       90\n",
       "                       30.0      76\n",
       "Stellate Cells         0.0      849\n",
       "                       30.0     391\n",
       "Subtype 1              0.0       67\n",
       "                       30.0     280\n",
       "T Cells                0.0      242\n",
       "                       30.0    1445\n",
       "dtype: int64"
      ]
     },
     "execution_count": 6,
     "metadata": {},
     "output_type": "execute_result"
    }
   ],
   "source": [
    "dosage = 30\n",
    "single_dosage = adata[(adata.obs[\"Dose\"] == 0) | (adata.obs[\"Dose\"] == dosage)]\n",
    "single_dosage.obs.groupby(['celltype', 'Dose']).size()"
   ]
  },
  {
   "cell_type": "code",
   "execution_count": 7,
   "metadata": {},
   "outputs": [
    {
     "data": {
      "text/plain": [
       "(View of AnnData object with n_obs × n_vars = 14633 × 22213\n",
       "     obs: 'Dose', 'batch', 'celltype',\n",
       " View of AnnData object with n_obs × n_vars = 16294 × 22213\n",
       "     obs: 'Dose', 'batch', 'celltype')"
      ]
     },
     "execution_count": 7,
     "metadata": {},
     "output_type": "execute_result"
    }
   ],
   "source": [
    "control = adata[adata.obs[\"Dose\"] == 0]\n",
    "perturb = adata[adata.obs[\"Dose\"] == 30]"
   ]
  },
  {
   "cell_type": "code",
   "execution_count": 8,
   "metadata": {},
   "outputs": [
    {
     "name": "stderr",
     "output_type": "stream",
     "text": [
      "/tmp/ipykernel_1687142/852523492.py:1: FutureWarning: The default of observed=False is deprecated and will be changed to True in a future version of pandas. Pass observed=False to retain current behavior or observed=True to adopt the future default and silence this warning.\n",
      "  control.obs.groupby(['celltype', 'Dose']).size(\n"
     ]
    },
    {
     "data": {
      "text/plain": [
       "celltype               Dose\n",
       "B Cells                0.0      208\n",
       "Cholangiocytes         0.0      109\n",
       "Endothelial Cells      0.0     1495\n",
       "Hepatocytes - central  0.0     2492\n",
       "Hepatocytes - portal   0.0     7512\n",
       "Macrophage             0.0     1508\n",
       "Neutrophils            0.0       61\n",
       "Portal Fibroblasts     0.0       90\n",
       "Stellate Cells         0.0      849\n",
       "Subtype 1              0.0       67\n",
       "T Cells                0.0      242\n",
       "dtype: int64"
      ]
     },
     "execution_count": 8,
     "metadata": {},
     "output_type": "execute_result"
    }
   ],
   "source": [
    "control.obs.groupby(['celltype', 'Dose']).size(\n",
    ")"
   ]
  },
  {
   "cell_type": "code",
   "execution_count": 9,
   "metadata": {},
   "outputs": [
    {
     "name": "stderr",
     "output_type": "stream",
     "text": [
      "/tmp/ipykernel_1687142/4284647312.py:1: FutureWarning: The default of observed=False is deprecated and will be changed to True in a future version of pandas. Pass observed=False to retain current behavior or observed=True to adopt the future default and silence this warning.\n",
      "  perturb.obs.groupby(['celltype', 'Dose']).size(\n"
     ]
    },
    {
     "data": {
      "text/plain": [
       "celltype               Dose\n",
       "B Cells                30.0    1565\n",
       "Cholangiocytes         30.0     600\n",
       "Endothelial Cells      30.0    2852\n",
       "Hepatocytes - central  30.0    1325\n",
       "Hepatocytes - portal   30.0    1074\n",
       "Macrophage             30.0    6072\n",
       "Neutrophils            30.0     614\n",
       "Portal Fibroblasts     30.0      76\n",
       "Stellate Cells         30.0     391\n",
       "Subtype 1              30.0     280\n",
       "T Cells                30.0    1445\n",
       "dtype: int64"
      ]
     },
     "execution_count": 9,
     "metadata": {},
     "output_type": "execute_result"
    }
   ],
   "source": [
    "perturb.obs.groupby(['celltype', 'Dose']).size(\n",
    "    \n",
    ")"
   ]
  },
  {
   "cell_type": "code",
   "execution_count": 7,
   "metadata": {},
   "outputs": [
    {
     "data": {
      "text/plain": [
       "array([0.e+00, 1.e-02, 3.e-02, 1.e-01, 3.e-01, 1.e+00, 3.e+00, 1.e+01,\n",
       "       3.e+01])"
      ]
     },
     "execution_count": 7,
     "metadata": {},
     "output_type": "execute_result"
    }
   ],
   "source": [
    "adata.obs[\"Dose\"].unique()"
   ]
  },
  {
   "cell_type": "code",
   "execution_count": 25,
   "metadata": {},
   "outputs": [],
   "source": [
    "control = adata[adata.obs[\"Dose\"] == 0]\n",
    "control\n",
    "\n",
    "assert all(control.obs[\"celltype\"].unique() == control.obs[\"celltype\"].unique())"
   ]
  },
  {
   "cell_type": "code",
   "execution_count": 5,
   "metadata": {},
   "outputs": [
    {
     "name": "stdout",
     "output_type": "stream",
     "text": [
      "0.0 (14245, 5000)\n",
      "Num cell types 11\n",
      "B Cells 120\n",
      "Cholangiocytes 101\n",
      "Endothelial Cells 1445\n",
      "Hepatocytes - central 2486\n",
      "Hepatocytes - portal 7492\n",
      "Macrophage 1411\n",
      "Neutrophils 42\n",
      "Portal Fibroblasts 84\n",
      "Stellate Cells 826\n",
      "Subtype 1 60\n",
      "T Cells 178\n",
      "\n",
      "0.01 (8524, 5000)\n",
      "Num cell types 11\n",
      "B Cells 88\n",
      "Cholangiocytes 84\n",
      "Endothelial Cells 812\n",
      "Hepatocytes - central 1482\n",
      "Hepatocytes - portal 4955\n",
      "Macrophage 284\n",
      "Neutrophils 7\n",
      "Portal Fibroblasts 42\n",
      "Stellate Cells 608\n",
      "Subtype 1 27\n",
      "T Cells 135\n",
      "\n",
      "0.03 (11741, 5000)\n",
      "Num cell types 11\n",
      "B Cells 185\n",
      "Cholangiocytes 89\n",
      "Endothelial Cells 1494\n",
      "Hepatocytes - central 1775\n",
      "Hepatocytes - portal 6271\n",
      "Macrophage 587\n",
      "Neutrophils 38\n",
      "Portal Fibroblasts 89\n",
      "Stellate Cells 940\n",
      "Subtype 1 34\n",
      "T Cells 239\n",
      "\n",
      "0.1 (17199, 5000)\n",
      "Num cell types 11\n",
      "B Cells 232\n",
      "Cholangiocytes 131\n",
      "Endothelial Cells 1991\n",
      "Hepatocytes - central 2902\n",
      "Hepatocytes - portal 9056\n",
      "Macrophage 1329\n",
      "Neutrophils 34\n",
      "Portal Fibroblasts 90\n",
      "Stellate Cells 1037\n",
      "Subtype 1 51\n",
      "T Cells 346\n",
      "\n",
      "0.3 (15667, 5000)\n",
      "Num cell types 11\n",
      "B Cells 171\n",
      "Cholangiocytes 114\n",
      "Endothelial Cells 1746\n",
      "Hepatocytes - central 2276\n",
      "Hepatocytes - portal 8651\n",
      "Macrophage 1316\n",
      "Neutrophils 20\n",
      "Portal Fibroblasts 48\n",
      "Stellate Cells 1107\n",
      "Subtype 1 50\n",
      "T Cells 168\n",
      "\n",
      "1.0 (14124, 5000)\n",
      "Num cell types 11\n",
      "B Cells 333\n",
      "Cholangiocytes 80\n",
      "Endothelial Cells 2124\n",
      "Hepatocytes - central 2603\n",
      "Hepatocytes - portal 6511\n",
      "Macrophage 1240\n",
      "Neutrophils 28\n",
      "Portal Fibroblasts 34\n",
      "Stellate Cells 752\n",
      "Subtype 1 51\n",
      "T Cells 368\n",
      "\n",
      "3.0 (12352, 5000)\n",
      "Num cell types 11\n",
      "B Cells 307\n",
      "Cholangiocytes 70\n",
      "Endothelial Cells 1138\n",
      "Hepatocytes - central 2429\n",
      "Hepatocytes - portal 5860\n",
      "Macrophage 1511\n",
      "Neutrophils 33\n",
      "Portal Fibroblasts 95\n",
      "Stellate Cells 549\n",
      "Subtype 1 59\n",
      "T Cells 301\n",
      "\n",
      "10.0 (17561, 5000)\n",
      "Num cell types 11\n",
      "B Cells 671\n",
      "Cholangiocytes 168\n",
      "Endothelial Cells 1865\n",
      "Hepatocytes - central 3729\n",
      "Hepatocytes - portal 6869\n",
      "Macrophage 2134\n",
      "Neutrophils 71\n",
      "Portal Fibroblasts 85\n",
      "Stellate Cells 1109\n",
      "Subtype 1 178\n",
      "T Cells 682\n",
      "\n",
      "30.0 (14915, 5000)\n",
      "Num cell types 11\n",
      "B Cells 1406\n",
      "Cholangiocytes 597\n",
      "Endothelial Cells 2836\n",
      "Hepatocytes - central 1325\n",
      "Hepatocytes - portal 1052\n",
      "Macrophage 5464\n",
      "Neutrophils 135\n",
      "Portal Fibroblasts 73\n",
      "Stellate Cells 389\n",
      "Subtype 1 274\n",
      "T Cells 1364\n",
      "\n"
     ]
    }
   ],
   "source": [
    "for drug_dose in adata.obs[\"Dose\"].unique():\n",
    "    perturb = adata[adata.obs[\"Dose\"] == drug_dose]\n",
    "    print(drug_dose, perturb.shape)\n",
    "    \n",
    "    print(\"Num cell types\", len(perturb.obs[\"celltype\"].unique()))\n",
    "    for cell_type in sorted(perturb.obs[\"celltype\"].unique()):\n",
    "        perturb_cell_type = perturb[perturb.obs[\"celltype\"] == cell_type]\n",
    "        print(cell_type, perturb_cell_type.shape[0])\n",
    "    print()"
   ]
  },
  {
   "cell_type": "code",
   "execution_count": 6,
   "metadata": {},
   "outputs": [
    {
     "data": {
      "text/plain": [
       "<Compressed Sparse Row sparse matrix of dtype 'float32'\n",
       "\twith 246137687 stored elements and shape (131613, 22213)>"
      ]
     },
     "execution_count": 6,
     "metadata": {},
     "output_type": "execute_result"
    }
   ],
   "source": [
    "adata.X"
   ]
  }
 ],
 "metadata": {
  "kernelspec": {
   "display_name": "thesis",
   "language": "python",
   "name": "python3"
  },
  "language_info": {
   "codemirror_mode": {
    "name": "ipython",
    "version": 3
   },
   "file_extension": ".py",
   "mimetype": "text/x-python",
   "name": "python",
   "nbconvert_exporter": "python",
   "pygments_lexer": "ipython3",
   "version": "3.10.15"
  }
 },
 "nbformat": 4,
 "nbformat_minor": 2
}
