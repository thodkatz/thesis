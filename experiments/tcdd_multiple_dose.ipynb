{
 "cells": [
  {
   "cell_type": "code",
   "execution_count": 2,
   "metadata": {},
   "outputs": [],
   "source": [
    "import scanpy as sc\n",
    "\n",
    "# dataset downloaded from scVIDR github provided drive link\n",
    "data = \"../data/scvidr/nault2021_multiDose.h5ad\"\n",
    "adata = sc.read_h5ad(data)"
   ]
  },
  {
   "cell_type": "code",
   "execution_count": 3,
   "metadata": {},
   "outputs": [
    {
     "data": {
      "text/plain": [
       "AnnData object with n_obs × n_vars = 131613 × 22213\n",
       "    obs: 'Dose', 'batch', 'celltype'"
      ]
     },
     "execution_count": 3,
     "metadata": {},
     "output_type": "execute_result"
    }
   ],
   "source": [
    "adata"
   ]
  },
  {
   "cell_type": "code",
   "execution_count": 7,
   "metadata": {},
   "outputs": [
    {
     "name": "stderr",
     "output_type": "stream",
     "text": [
      "/tmp/ipykernel_3932969/1314103447.py:1: FutureWarning: The default of observed=False is deprecated and will be changed to True in a future version of pandas. Pass observed=False to retain current behavior or observed=True to adopt the future default and silence this warning.\n",
      "  adata.obs.groupby(['celltype', 'Dose']).size().sort_values(ascending=False).head(20)\n"
     ]
    },
    {
     "data": {
      "text/plain": [
       "celltype               Dose \n",
       "Hepatocytes - portal   0.10     9094\n",
       "                       0.30     8953\n",
       "                       0.00     7512\n",
       "                       10.00    6914\n",
       "                       1.00     6600\n",
       "                       0.03     6286\n",
       "Macrophage             30.00    6072\n",
       "Hepatocytes - portal   3.00     5880\n",
       "                       0.01     4971\n",
       "Hepatocytes - central  10.00    3731\n",
       "                       0.10     2907\n",
       "Endothelial Cells      30.00    2852\n",
       "Hepatocytes - central  1.00     2610\n",
       "                       0.00     2492\n",
       "                       3.00     2431\n",
       "Macrophage             10.00    2322\n",
       "Hepatocytes - central  0.30     2309\n",
       "Endothelial Cells      1.00     2150\n",
       "                       0.10     2017\n",
       "                       0.30     1930\n",
       "dtype: int64"
      ]
     },
     "execution_count": 7,
     "metadata": {},
     "output_type": "execute_result"
    }
   ],
   "source": [
    "adata.obs.groupby(['celltype', 'Dose']).size().sort_values(ascending=False).head(20)"
   ]
  }
 ],
 "metadata": {
  "kernelspec": {
   "display_name": "thesis",
   "language": "python",
   "name": "python3"
  },
  "language_info": {
   "codemirror_mode": {
    "name": "ipython",
    "version": 3
   },
   "file_extension": ".py",
   "mimetype": "text/x-python",
   "name": "python",
   "nbconvert_exporter": "python",
   "pygments_lexer": "ipython3",
   "version": "3.10.15"
  }
 },
 "nbformat": 4,
 "nbformat_minor": 2
}
